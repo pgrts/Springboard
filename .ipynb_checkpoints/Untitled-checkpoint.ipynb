{
 "cells": [
  {
   "cell_type": "code",
   "execution_count": 38,
   "id": "8c896fcd",
   "metadata": {},
   "outputs": [],
   "source": [
    "# get api key from your .env file\n",
    "import os\n",
    "from dotenv import load_dotenv\n",
    "import requests\n",
    "import pandas as pd\n",
    "import numpy as np\n",
    "from bs4 import BeautifulSoup as bs\n",
    "import json"
   ]
  },
  {
   "cell_type": "code",
   "execution_count": 39,
   "id": "4b75da01",
   "metadata": {},
   "outputs": [
    {
     "name": "stdout",
     "output_type": "stream",
     "text": [
      "BfxQkwgJj7g7RUuVbRZ-\n"
     ]
    }
   ],
   "source": [
    "load_dotenv()\n",
    "API_KEY = os.getenv('NASDAQ_API_KEY')\n",
    "pw = os.getenv('PASSWORD')\n",
    "#auth = HTTPBasicAuth(API_KEY, pw)\n",
    "print(API_KEY)"
   ]
  },
  {
   "cell_type": "code",
   "execution_count": 40,
   "id": "76e87257",
   "metadata": {},
   "outputs": [
    {
     "name": "stdout",
     "output_type": "stream",
     "text": [
      "https://www.quandl.com/api/v3/datasets/FSE/AFX_X.json?&start_date=2017-01-01&end_date=2017-01-01&api_key=BfxQkwgJj7g7RUuVbRZ-\n"
     ]
    }
   ],
   "source": [
    "#url = 'https://www.quandl.com/api/v3/datasets/FSE/AFX_X&api_key=?' + API_KEY\n",
    "\n",
    "api_string = '&api_key=' + API_KEY\n",
    "\n",
    "\n",
    "\n",
    "def gen_str(d1,d2):\n",
    "    return '&start_date=' + d1 + '&end_date=' + d2\n",
    "\n",
    "\n",
    "print(url)\n",
    "response = requests.get(url)\n",
    "print(response)"
   ]
  },
  {
   "cell_type": "code",
   "execution_count": 42,
   "id": "6048452e",
   "metadata": {
    "scrolled": true
   },
   "outputs": [
    {
     "name": "stdout",
     "output_type": "stream",
     "text": [
      "<class 'dict'>\n"
     ]
    }
   ],
   "source": [
    "print(type(json.loads(response.text)))"
   ]
  },
  {
   "cell_type": "code",
   "execution_count": 43,
   "id": "803f1d17",
   "metadata": {},
   "outputs": [
    {
     "name": "stdout",
     "output_type": "stream",
     "text": [
      "{'dataset': {'id': 10095370, 'dataset_code': 'AFX_X', 'database_code': 'FSE', 'name': 'Carl Zeiss Meditec (AFX_X)', 'description': 'Stock Prices for Carl Zeiss Meditec (2020-11-02) from the Frankfurt Stock Exchange.<br><br>Trading System: Xetra<br><br>ISIN: DE0005313704', 'refreshed_at': '2020-12-01T14:48:09.907Z', 'newest_available_date': '2020-12-01', 'oldest_available_date': '2000-06-07', 'column_names': ['Date', 'Open', 'High', 'Low', 'Close', 'Change', 'Traded Volume', 'Turnover', 'Last Price of the Day', 'Daily Traded Units', 'Daily Turnover'], 'frequency': 'daily', 'type': 'Time Series', 'premium': False, 'limit': None, 'transform': None, 'column_index': None, 'start_date': '2017-01-01', 'end_date': '2017-01-01', 'data': [], 'collapse': None, 'order': None, 'database_id': 6129}}\n"
     ]
    }
   ],
   "source": [
    "print(json.loads(response.text))"
   ]
  },
  {
   "cell_type": "code",
   "execution_count": 69,
   "id": "6e523a3c",
   "metadata": {},
   "outputs": [
    {
     "name": "stdout",
     "output_type": "stream",
     "text": [
      "no data for 10095370 with name Carl Zeiss Meditec (AFX_X)\n"
     ]
    },
    {
     "data": {
      "text/html": [
       "<div>\n",
       "<style scoped>\n",
       "    .dataframe tbody tr th:only-of-type {\n",
       "        vertical-align: middle;\n",
       "    }\n",
       "\n",
       "    .dataframe tbody tr th {\n",
       "        vertical-align: top;\n",
       "    }\n",
       "\n",
       "    .dataframe thead th {\n",
       "        text-align: right;\n",
       "    }\n",
       "</style>\n",
       "<table border=\"1\" class=\"dataframe\">\n",
       "  <thead>\n",
       "    <tr style=\"text-align: right;\">\n",
       "      <th></th>\n",
       "      <th>Date</th>\n",
       "      <th>Open</th>\n",
       "      <th>High</th>\n",
       "      <th>Low</th>\n",
       "      <th>Close</th>\n",
       "      <th>Change</th>\n",
       "      <th>Traded Volume</th>\n",
       "      <th>Turnover</th>\n",
       "      <th>Last Price of the Day</th>\n",
       "      <th>Daily Traded Units</th>\n",
       "      <th>...</th>\n",
       "      <th>premium</th>\n",
       "      <th>limit</th>\n",
       "      <th>transform</th>\n",
       "      <th>column_index</th>\n",
       "      <th>start_date</th>\n",
       "      <th>end_date</th>\n",
       "      <th>data</th>\n",
       "      <th>collapse</th>\n",
       "      <th>order</th>\n",
       "      <th>database_id</th>\n",
       "    </tr>\n",
       "  </thead>\n",
       "  <tbody>\n",
       "  </tbody>\n",
       "</table>\n",
       "<p>0 rows × 31 columns</p>\n",
       "</div>"
      ],
      "text/plain": [
       "Empty DataFrame\n",
       "Columns: [Date, Open, High, Low, Close, Change, Traded Volume, Turnover, Last Price of the Day, Daily Traded Units, Daily Turnover, id, dataset_code, database_code, name, description, refreshed_at, newest_available_date, oldest_available_date, frequency, type, premium, limit, transform, column_index, start_date, end_date, data, collapse, order, database_id]\n",
       "Index: []\n",
       "\n",
       "[0 rows x 31 columns]"
      ]
     },
     "execution_count": 69,
     "metadata": {},
     "output_type": "execute_result"
    }
   ],
   "source": [
    "def use_quandl(start, end):\n",
    "    \n",
    "    start = 'https://www.quandl.com/api/v3/datasets/FSE/AFX_X.json?'\n",
    "    url = start + gen_str(start,end) + api_string\n",
    "    \n",
    "    dic = json.loads(response.text)['dataset']\n",
    "    cols = dic['column_names']\n",
    "    dic.pop('column_names')\n",
    "    col_data = dic['data']\n",
    "\n",
    "    if not col_data: \n",
    "        print('no data for ' + str(dic['id']) + ' with name ' + str(dic['name']))\n",
    "        tradelis = list(zip(cols,[]))\n",
    "    else: \n",
    "        tradelis = list(zip(cols,col_data))\n",
    "                        \n",
    "    df = pd.DataFrame(tradelis, columns=cols)\n",
    "\n",
    "    #df_info = pd.DataFrame(dic['id'])\n",
    "    #pd.concat(df.T\n",
    "    #, columns = list(dic.keys())\n",
    "    df2 = pd.DataFrame.from_dict(dic)\n",
    "    return pd.concat([df,df2], axis = 1)\n",
    "\n",
    "use_quandl('02-01-2017', '03-01-2017')"
   ]
  },
  {
   "cell_type": "code",
   "execution_count": 44,
   "id": "e4048a29",
   "metadata": {},
   "outputs": [
    {
     "name": "stdout",
     "output_type": "stream",
     "text": [
      "<Response [200]>\n"
     ]
    }
   ],
   "source": [
    "url2 = start + gen_str('2017-01-01','2017-12-31') + api_string\n",
    "response2 = requests.get(url2)\n",
    "print(response2)"
   ]
  },
  {
   "cell_type": "code",
   "execution_count": 45,
   "id": "d523890c",
   "metadata": {},
   "outputs": [
    {
     "data": {
      "text/plain": [
       "dict_keys(['id', 'dataset_code', 'database_code', 'name', 'description', 'refreshed_at', 'newest_available_date', 'oldest_available_date', 'column_names', 'frequency', 'type', 'premium', 'limit', 'transform', 'column_index', 'start_date', 'end_date', 'data', 'collapse', 'order', 'database_id'])"
      ]
     },
     "execution_count": 45,
     "metadata": {},
     "output_type": "execute_result"
    }
   ],
   "source": [
    "#dic = json.loads(requests.get(url2).text)['dataset']\n",
    "dic = json.loads(response2.text)['dataset']\n",
    "dic.keys()"
   ]
  },
  {
   "cell_type": "code",
   "execution_count": 46,
   "id": "f45021f5",
   "metadata": {},
   "outputs": [],
   "source": [
    "df = pd.json_normalize(dic)#, orient='columns')"
   ]
  },
  {
   "cell_type": "code",
   "execution_count": 47,
   "id": "045ede7e",
   "metadata": {},
   "outputs": [
    {
     "data": {
      "text/plain": [
       "<bound method DataFrame.info of          id dataset_code database_code                        name  \\\n",
       "0  10095370        AFX_X           FSE  Carl Zeiss Meditec (AFX_X)   \n",
       "\n",
       "                                         description  \\\n",
       "0  Stock Prices for Carl Zeiss Meditec (2020-11-0...   \n",
       "\n",
       "               refreshed_at newest_available_date oldest_available_date  \\\n",
       "0  2020-12-01T14:48:09.907Z            2020-12-01            2000-06-07   \n",
       "\n",
       "                                        column_names frequency  ... premium  \\\n",
       "0  [Date, Open, High, Low, Close, Change, Traded ...     daily  ...   False   \n",
       "\n",
       "   limit transform column_index  start_date    end_date  \\\n",
       "0   None      None         None  2017-01-01  2017-12-31   \n",
       "\n",
       "                                                data collapse order  \\\n",
       "0  [[2017-12-29, 51.76, 51.94, 51.45, 51.76, None...     None  None   \n",
       "\n",
       "  database_id  \n",
       "0        6129  \n",
       "\n",
       "[1 rows x 21 columns]>"
      ]
     },
     "execution_count": 47,
     "metadata": {},
     "output_type": "execute_result"
    }
   ],
   "source": [
    "df.info"
   ]
  },
  {
   "cell_type": "code",
   "execution_count": null,
   "id": "e0f305eb",
   "metadata": {},
   "outputs": [],
   "source": []
  },
  {
   "cell_type": "code",
   "execution_count": null,
   "id": "ab8ee291",
   "metadata": {},
   "outputs": [],
   "source": []
  },
  {
   "cell_type": "code",
   "execution_count": null,
   "id": "56ae34a9",
   "metadata": {},
   "outputs": [],
   "source": []
  }
 ],
 "metadata": {
  "kernelspec": {
   "display_name": "Python 3 (ipykernel)",
   "language": "python",
   "name": "python3"
  },
  "language_info": {
   "codemirror_mode": {
    "name": "ipython",
    "version": 3
   },
   "file_extension": ".py",
   "mimetype": "text/x-python",
   "name": "python",
   "nbconvert_exporter": "python",
   "pygments_lexer": "ipython3",
   "version": "3.11.7"
  }
 },
 "nbformat": 4,
 "nbformat_minor": 5
}
