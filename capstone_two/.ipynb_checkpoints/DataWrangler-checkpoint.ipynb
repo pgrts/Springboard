{
 "cells": [
  {
   "cell_type": "code",
   "execution_count": 1,
   "id": "90cc3a57",
   "metadata": {},
   "outputs": [],
   "source": [
    "import pandas as pd\n",
    "import numpy as np\n",
    "import seaborn as sns\n",
    "import matplotlib.pyplot as plt"
   ]
  },
  {
   "cell_type": "code",
   "execution_count": 2,
   "id": "bc507f41",
   "metadata": {},
   "outputs": [
    {
     "data": {
      "text/html": [
       "<div>\n",
       "<style scoped>\n",
       "    .dataframe tbody tr th:only-of-type {\n",
       "        vertical-align: middle;\n",
       "    }\n",
       "\n",
       "    .dataframe tbody tr th {\n",
       "        vertical-align: top;\n",
       "    }\n",
       "\n",
       "    .dataframe thead th {\n",
       "        text-align: right;\n",
       "    }\n",
       "</style>\n",
       "<table border=\"1\" class=\"dataframe\">\n",
       "  <thead>\n",
       "    <tr style=\"text-align: right;\">\n",
       "      <th></th>\n",
       "      <th>id</th>\n",
       "      <th>url</th>\n",
       "      <th>region</th>\n",
       "      <th>region_url</th>\n",
       "      <th>price</th>\n",
       "      <th>year</th>\n",
       "      <th>manufacturer</th>\n",
       "      <th>model</th>\n",
       "      <th>condition</th>\n",
       "      <th>cylinders</th>\n",
       "      <th>...</th>\n",
       "      <th>size</th>\n",
       "      <th>type</th>\n",
       "      <th>paint_color</th>\n",
       "      <th>image_url</th>\n",
       "      <th>description</th>\n",
       "      <th>county</th>\n",
       "      <th>state</th>\n",
       "      <th>lat</th>\n",
       "      <th>long</th>\n",
       "      <th>posting_date</th>\n",
       "    </tr>\n",
       "  </thead>\n",
       "  <tbody>\n",
       "    <tr>\n",
       "      <th>0</th>\n",
       "      <td>7222695916</td>\n",
       "      <td>https://prescott.craigslist.org/cto/d/prescott...</td>\n",
       "      <td>prescott</td>\n",
       "      <td>https://prescott.craigslist.org</td>\n",
       "      <td>6000</td>\n",
       "      <td>NaN</td>\n",
       "      <td>NaN</td>\n",
       "      <td>NaN</td>\n",
       "      <td>NaN</td>\n",
       "      <td>NaN</td>\n",
       "      <td>...</td>\n",
       "      <td>NaN</td>\n",
       "      <td>NaN</td>\n",
       "      <td>NaN</td>\n",
       "      <td>NaN</td>\n",
       "      <td>NaN</td>\n",
       "      <td>NaN</td>\n",
       "      <td>az</td>\n",
       "      <td>NaN</td>\n",
       "      <td>NaN</td>\n",
       "      <td>NaN</td>\n",
       "    </tr>\n",
       "    <tr>\n",
       "      <th>1</th>\n",
       "      <td>7218891961</td>\n",
       "      <td>https://fayar.craigslist.org/ctd/d/bentonville...</td>\n",
       "      <td>fayetteville</td>\n",
       "      <td>https://fayar.craigslist.org</td>\n",
       "      <td>11900</td>\n",
       "      <td>NaN</td>\n",
       "      <td>NaN</td>\n",
       "      <td>NaN</td>\n",
       "      <td>NaN</td>\n",
       "      <td>NaN</td>\n",
       "      <td>...</td>\n",
       "      <td>NaN</td>\n",
       "      <td>NaN</td>\n",
       "      <td>NaN</td>\n",
       "      <td>NaN</td>\n",
       "      <td>NaN</td>\n",
       "      <td>NaN</td>\n",
       "      <td>ar</td>\n",
       "      <td>NaN</td>\n",
       "      <td>NaN</td>\n",
       "      <td>NaN</td>\n",
       "    </tr>\n",
       "    <tr>\n",
       "      <th>2</th>\n",
       "      <td>7221797935</td>\n",
       "      <td>https://keys.craigslist.org/cto/d/summerland-k...</td>\n",
       "      <td>florida keys</td>\n",
       "      <td>https://keys.craigslist.org</td>\n",
       "      <td>21000</td>\n",
       "      <td>NaN</td>\n",
       "      <td>NaN</td>\n",
       "      <td>NaN</td>\n",
       "      <td>NaN</td>\n",
       "      <td>NaN</td>\n",
       "      <td>...</td>\n",
       "      <td>NaN</td>\n",
       "      <td>NaN</td>\n",
       "      <td>NaN</td>\n",
       "      <td>NaN</td>\n",
       "      <td>NaN</td>\n",
       "      <td>NaN</td>\n",
       "      <td>fl</td>\n",
       "      <td>NaN</td>\n",
       "      <td>NaN</td>\n",
       "      <td>NaN</td>\n",
       "    </tr>\n",
       "    <tr>\n",
       "      <th>3</th>\n",
       "      <td>7222270760</td>\n",
       "      <td>https://worcester.craigslist.org/cto/d/west-br...</td>\n",
       "      <td>worcester / central MA</td>\n",
       "      <td>https://worcester.craigslist.org</td>\n",
       "      <td>1500</td>\n",
       "      <td>NaN</td>\n",
       "      <td>NaN</td>\n",
       "      <td>NaN</td>\n",
       "      <td>NaN</td>\n",
       "      <td>NaN</td>\n",
       "      <td>...</td>\n",
       "      <td>NaN</td>\n",
       "      <td>NaN</td>\n",
       "      <td>NaN</td>\n",
       "      <td>NaN</td>\n",
       "      <td>NaN</td>\n",
       "      <td>NaN</td>\n",
       "      <td>ma</td>\n",
       "      <td>NaN</td>\n",
       "      <td>NaN</td>\n",
       "      <td>NaN</td>\n",
       "    </tr>\n",
       "    <tr>\n",
       "      <th>4</th>\n",
       "      <td>7210384030</td>\n",
       "      <td>https://greensboro.craigslist.org/cto/d/trinit...</td>\n",
       "      <td>greensboro</td>\n",
       "      <td>https://greensboro.craigslist.org</td>\n",
       "      <td>4900</td>\n",
       "      <td>NaN</td>\n",
       "      <td>NaN</td>\n",
       "      <td>NaN</td>\n",
       "      <td>NaN</td>\n",
       "      <td>NaN</td>\n",
       "      <td>...</td>\n",
       "      <td>NaN</td>\n",
       "      <td>NaN</td>\n",
       "      <td>NaN</td>\n",
       "      <td>NaN</td>\n",
       "      <td>NaN</td>\n",
       "      <td>NaN</td>\n",
       "      <td>nc</td>\n",
       "      <td>NaN</td>\n",
       "      <td>NaN</td>\n",
       "      <td>NaN</td>\n",
       "    </tr>\n",
       "  </tbody>\n",
       "</table>\n",
       "<p>5 rows × 26 columns</p>\n",
       "</div>"
      ],
      "text/plain": [
       "           id                                                url  \\\n",
       "0  7222695916  https://prescott.craigslist.org/cto/d/prescott...   \n",
       "1  7218891961  https://fayar.craigslist.org/ctd/d/bentonville...   \n",
       "2  7221797935  https://keys.craigslist.org/cto/d/summerland-k...   \n",
       "3  7222270760  https://worcester.craigslist.org/cto/d/west-br...   \n",
       "4  7210384030  https://greensboro.craigslist.org/cto/d/trinit...   \n",
       "\n",
       "                   region                         region_url  price  year  \\\n",
       "0                prescott    https://prescott.craigslist.org   6000   NaN   \n",
       "1            fayetteville       https://fayar.craigslist.org  11900   NaN   \n",
       "2            florida keys        https://keys.craigslist.org  21000   NaN   \n",
       "3  worcester / central MA   https://worcester.craigslist.org   1500   NaN   \n",
       "4              greensboro  https://greensboro.craigslist.org   4900   NaN   \n",
       "\n",
       "  manufacturer model condition cylinders  ... size  type paint_color  \\\n",
       "0          NaN   NaN       NaN       NaN  ...  NaN   NaN         NaN   \n",
       "1          NaN   NaN       NaN       NaN  ...  NaN   NaN         NaN   \n",
       "2          NaN   NaN       NaN       NaN  ...  NaN   NaN         NaN   \n",
       "3          NaN   NaN       NaN       NaN  ...  NaN   NaN         NaN   \n",
       "4          NaN   NaN       NaN       NaN  ...  NaN   NaN         NaN   \n",
       "\n",
       "  image_url description county state lat long posting_date  \n",
       "0       NaN         NaN    NaN    az NaN  NaN          NaN  \n",
       "1       NaN         NaN    NaN    ar NaN  NaN          NaN  \n",
       "2       NaN         NaN    NaN    fl NaN  NaN          NaN  \n",
       "3       NaN         NaN    NaN    ma NaN  NaN          NaN  \n",
       "4       NaN         NaN    NaN    nc NaN  NaN          NaN  \n",
       "\n",
       "[5 rows x 26 columns]"
      ]
     },
     "execution_count": 2,
     "metadata": {},
     "output_type": "execute_result"
    }
   ],
   "source": [
    "df = pd.read_csv('data/vehicles.csv')\n",
    "df.head()"
   ]
  },
  {
   "cell_type": "code",
   "execution_count": 3,
   "id": "c622cdfa",
   "metadata": {},
   "outputs": [
    {
     "data": {
      "text/plain": [
       "id                   0\n",
       "url                  0\n",
       "region               0\n",
       "region_url           0\n",
       "price                0\n",
       "year              1205\n",
       "manufacturer     17646\n",
       "model             5277\n",
       "condition       174104\n",
       "cylinders       177678\n",
       "fuel              3013\n",
       "odometer          4400\n",
       "title_status      8242\n",
       "transmission      2556\n",
       "VIN             161042\n",
       "drive           130567\n",
       "size            306361\n",
       "type             92858\n",
       "paint_color     130203\n",
       "image_url           68\n",
       "description         70\n",
       "county          426880\n",
       "state                0\n",
       "lat               6549\n",
       "long              6549\n",
       "posting_date        68\n",
       "dtype: int64"
      ]
     },
     "execution_count": 3,
     "metadata": {},
     "output_type": "execute_result"
    }
   ],
   "source": [
    "df.isnull().sum()"
   ]
  },
  {
   "cell_type": "code",
   "execution_count": 4,
   "id": "181454fe",
   "metadata": {},
   "outputs": [
    {
     "data": {
      "text/plain": [
       "Index(['id', 'url', 'region', 'region_url', 'price', 'year', 'manufacturer',\n",
       "       'model', 'condition', 'cylinders', 'fuel', 'odometer', 'title_status',\n",
       "       'transmission', 'VIN', 'drive', 'size', 'type', 'paint_color',\n",
       "       'image_url', 'description', 'county', 'state', 'lat', 'long',\n",
       "       'posting_date'],\n",
       "      dtype='object')"
      ]
     },
     "execution_count": 4,
     "metadata": {},
     "output_type": "execute_result"
    }
   ],
   "source": [
    "df.columns"
   ]
  },
  {
   "cell_type": "code",
   "execution_count": 5,
   "id": "af298a48",
   "metadata": {},
   "outputs": [
    {
     "data": {
      "text/plain": [
       "condition\n",
       "good         121456\n",
       "excellent    101467\n",
       "like new      21178\n",
       "fair           6769\n",
       "new            1305\n",
       "salvage         601\n",
       "Name: count, dtype: int64"
      ]
     },
     "execution_count": 5,
     "metadata": {},
     "output_type": "execute_result"
    }
   ],
   "source": [
    "df.condition.value_counts()"
   ]
  },
  {
   "cell_type": "code",
   "execution_count": 6,
   "id": "b1954cd6",
   "metadata": {},
   "outputs": [
    {
     "data": {
      "text/plain": [
       "condition\n",
       "good         121456\n",
       "excellent    101467\n",
       "like new      21178\n",
       "fair           6769\n",
       "Name: count, dtype: int64"
      ]
     },
     "execution_count": 6,
     "metadata": {},
     "output_type": "execute_result"
    }
   ],
   "source": [
    "df.drop(df[df.condition.isin(['new','salvage'])].index, inplace=True)\n",
    "df.condition.value_counts()"
   ]
  },
  {
   "cell_type": "code",
   "execution_count": 7,
   "id": "9eebeb56",
   "metadata": {},
   "outputs": [
    {
     "data": {
      "text/plain": [
       "title_status\n",
       "clean         403666\n",
       "rebuilt         7166\n",
       "salvage         3593\n",
       "lien            1394\n",
       "missing          760\n",
       "parts only       153\n",
       "Name: count, dtype: int64"
      ]
     },
     "execution_count": 7,
     "metadata": {},
     "output_type": "execute_result"
    }
   ],
   "source": [
    "df.title_status.value_counts()"
   ]
  },
  {
   "cell_type": "code",
   "execution_count": 8,
   "id": "98ad3960",
   "metadata": {},
   "outputs": [
    {
     "data": {
      "text/plain": [
       "title_status\n",
       "clean    403666\n",
       "Name: count, dtype: int64"
      ]
     },
     "execution_count": 8,
     "metadata": {},
     "output_type": "execute_result"
    }
   ],
   "source": [
    "df = df[df.title_status == 'clean']\n",
    "df.title_status.value_counts()"
   ]
  },
  {
   "cell_type": "code",
   "execution_count": 9,
   "id": "c1eb638d",
   "metadata": {},
   "outputs": [],
   "source": [
    "df['posting_date'] = pd.to_datetime(df['posting_date'], utc=True)"
   ]
  },
  {
   "cell_type": "code",
   "execution_count": 10,
   "id": "3a93b57f",
   "metadata": {},
   "outputs": [
    {
     "name": "stdout",
     "output_type": "stream",
     "text": [
      "Earliest posting_date: 2021-04-04 07:00:25+00:00 \n",
      "Latest posting_date: 2021-05-05 04:24:09+00:00\n"
     ]
    }
   ],
   "source": [
    "print(f\"Earliest posting_date: {df.posting_date.min()} \\nLatest posting_date: {df.posting_date.max()}\")"
   ]
  },
  {
   "cell_type": "code",
   "execution_count": 11,
   "id": "80c0447c",
   "metadata": {},
   "outputs": [
    {
     "name": "stdout",
     "output_type": "stream",
     "text": [
      "Maximum price: 3736928711 $\n",
      "Minimum price: 0 $\n"
     ]
    }
   ],
   "source": [
    "print(f\"Maximum price: {df.price.max()} $\\nMinimum price: {df.price.min()} $\")"
   ]
  },
  {
   "cell_type": "code",
   "execution_count": 12,
   "id": "d187860b",
   "metadata": {},
   "outputs": [
    {
     "data": {
      "text/plain": [
       "(array([4.9562e+04, 2.4012e+04, 3.1633e+04, 3.1352e+04, 2.6398e+04,\n",
       "        2.0065e+04, 1.9643e+04, 2.0292e+04, 1.8593e+04, 1.7775e+04,\n",
       "        1.2824e+04, 1.3109e+04, 1.4234e+04, 1.3275e+04, 1.3839e+04,\n",
       "        1.0135e+04, 1.0280e+04, 1.0287e+04, 8.3130e+03, 1.0037e+04,\n",
       "        3.8530e+03, 3.6290e+03, 3.1600e+03, 2.3580e+03, 2.6230e+03,\n",
       "        1.1650e+03, 1.5590e+03, 1.4300e+03, 8.6500e+02, 1.4530e+03,\n",
       "        4.0500e+02, 6.2000e+02, 7.4100e+02, 3.8500e+02, 8.1300e+02,\n",
       "        2.3400e+02, 3.4400e+02, 2.8600e+02, 2.0300e+02, 3.6900e+02,\n",
       "        9.4000e+01, 1.6900e+02, 1.7700e+02, 1.0400e+02, 1.1600e+02,\n",
       "        3.1000e+01, 3.7000e+01, 5.0000e+01, 1.9000e+01, 1.1900e+02]),\n",
       " array([     0.,   2000.,   4000.,   6000.,   8000.,  10000.,  12000.,\n",
       "         14000.,  16000.,  18000.,  20000.,  22000.,  24000.,  26000.,\n",
       "         28000.,  30000.,  32000.,  34000.,  36000.,  38000.,  40000.,\n",
       "         42000.,  44000.,  46000.,  48000.,  50000.,  52000.,  54000.,\n",
       "         56000.,  58000.,  60000.,  62000.,  64000.,  66000.,  68000.,\n",
       "         70000.,  72000.,  74000.,  76000.,  78000.,  80000.,  82000.,\n",
       "         84000.,  86000.,  88000.,  90000.,  92000.,  94000.,  96000.,\n",
       "         98000., 100000.]),\n",
       " <BarContainer object of 50 artists>)"
      ]
     },
     "execution_count": 12,
     "metadata": {},
     "output_type": "execute_result"
    },
    {
     "data": {
      "image/png": "[encoded data removed]",
      "text/plain": [
       "<Figure size 640x480 with 1 Axes>"
      ]
     },
     "metadata": {},
     "output_type": "display_data"
    }
   ],
   "source": [
    "plt.hist(df.price, bins=50, range=[0,100000])"
   ]
  },
  {
   "cell_type": "code",
   "execution_count": 13,
   "id": "e67f66d1",
   "metadata": {},
   "outputs": [],
   "source": [
    "df.drop(df[df.price < 500].index, inplace = True)"
   ]
  },
  {
   "cell_type": "code",
   "execution_count": 14,
   "id": "a69c72a8",
   "metadata": {},
   "outputs": [],
   "source": [
    "df.drop(df[df.price > 150000].index, inplace = True)"
   ]
  },
  {
   "cell_type": "code",
   "execution_count": 15,
   "id": "9c033619",
   "metadata": {},
   "outputs": [
    {
     "data": {
      "text/plain": [
       "(array([   0.,    0., 1434.,  953., 1009., 1241.,  875., 1720.,  702.,\n",
       "        1454., 1601., 1055., 3009., 1196., 3184., 1926., 1540., 3952.,\n",
       "        1290., 5259., 1939., 1726., 4394., 1098., 6306., 1970., 1242.,\n",
       "        4468., 1031., 7459., 1605., 1229., 4634.,  895., 7895., 1436.,\n",
       "         940., 4010.,  856., 7852., 1297.,  851., 3485.,  848., 7460.,\n",
       "        1021.,  621., 2786.,  721., 8477.]),\n",
       " array([    0.,   200.,   400.,   600.,   800.,  1000.,  1200.,  1400.,\n",
       "         1600.,  1800.,  2000.,  2200.,  2400.,  2600.,  2800.,  3000.,\n",
       "         3200.,  3400.,  3600.,  3800.,  4000.,  4200.,  4400.,  4600.,\n",
       "         4800.,  5000.,  5200.,  5400.,  5600.,  5800.,  6000.,  6200.,\n",
       "         6400.,  6600.,  6800.,  7000.,  7200.,  7400.,  7600.,  7800.,\n",
       "         8000.,  8200.,  8400.,  8600.,  8800.,  9000.,  9200.,  9400.,\n",
       "         9600.,  9800., 10000.]),\n",
       " <BarContainer object of 50 artists>)"
      ]
     },
     "execution_count": 15,
     "metadata": {},
     "output_type": "execute_result"
    },
    {
     "data": {
      "image/png": "[encoded data removed]",
      "text/plain": [
       "<Figure size 640x480 with 1 Axes>"
      ]
     },
     "metadata": {},
     "output_type": "display_data"
    }
   ],
   "source": [
    "plt.hist(df.price[df.price <= 10000], bins=50, range=[0,10000])"
   ]
  },
  {
   "cell_type": "markdown",
   "id": "d47dfb22",
   "metadata": {},
   "source": [
    "**Most dollar prices below 500 are fake. Used cars worth more than 150,000 are outliers. Both have been dropped.**"
   ]
  },
  {
   "cell_type": "code",
   "execution_count": 16,
   "id": "711608a8",
   "metadata": {},
   "outputs": [
    {
     "data": {
      "text/plain": [
       "(array([5.00000e+00, 4.30000e+01, 3.61000e+02, 4.35000e+02, 1.21300e+03,\n",
       "        3.08500e+03, 3.16100e+03, 7.11200e+03, 6.85130e+04, 2.60613e+05]),\n",
       " array([1900. , 1911.9, 1923.8, 1935.7, 1947.6, 1959.5, 1971.4, 1983.3,\n",
       "        1995.2, 2007.1, 2019. ]),\n",
       " <BarContainer object of 10 artists>)"
      ]
     },
     "execution_count": 16,
     "metadata": {},
     "output_type": "execute_result"
    },
    {
     "data": {
      "image/png": "[encoded data removed]",
      "text/plain": [
       "<Figure size 640x480 with 1 Axes>"
      ]
     },
     "metadata": {},
     "output_type": "display_data"
    }
   ],
   "source": [
    "plt.hist(df.year[df['year'] < 2020])#.describe()"
   ]
  },
  {
   "cell_type": "code",
   "execution_count": 17,
   "id": "e1db10d2",
   "metadata": {},
   "outputs": [
    {
     "data": {
      "text/plain": [
       "(array([  781.,   553.,  1845.,  1902.,  1582.,  1913.,  3130.,  7291.,\n",
       "        29740., 74225.]),\n",
       " array([1950. , 1956.1, 1962.2, 1968.3, 1974.4, 1980.5, 1986.6, 1992.7,\n",
       "        1998.8, 2004.9, 2011. ]),\n",
       " <BarContainer object of 10 artists>)"
      ]
     },
     "execution_count": 17,
     "metadata": {},
     "output_type": "execute_result"
    },
    {
     "data": {
      "image/png": "[encoded data removed]",
      "text/plain": [
       "<Figure size 640x480 with 1 Axes>"
      ]
     },
     "metadata": {},
     "output_type": "display_data"
    }
   ],
   "source": [
    "plt.hist(df.year[df['year'] < 2011], range=[1950, 2011])#.describe()"
   ]
  },
  {
   "cell_type": "markdown",
   "id": "52b0e994",
   "metadata": {},
   "source": [
    "**Years before 1970 are more 'antique' cars, are outliers, and should be dropped.**"
   ]
  },
  {
   "cell_type": "code",
   "execution_count": 18,
   "id": "94290ef3",
   "metadata": {},
   "outputs": [],
   "source": [
    "df.drop(df[df.year <= 1970].index, inplace = True)"
   ]
  },
  {
   "cell_type": "markdown",
   "id": "556738de",
   "metadata": {},
   "source": [
    "**14,340 rows missing manufacturers, \n",
    "4,157 rows missing model,\n",
    "759 rows missing year**\n",
    "\n",
    "**These can be found using the VIN number if it is not null (137,980 are null). The dataframe can be split into those with VIN and those without and the VIN can be used to input manufacturer, model, year, and other information.**\n",
    "\n",
    "\n",
    "**Rows without odometer information should be dropped.**"
   ]
  },
  {
   "cell_type": "code",
   "execution_count": 19,
   "id": "e2a0059d",
   "metadata": {},
   "outputs": [
    {
     "data": {
      "text/plain": [
       "id                   0\n",
       "url                  0\n",
       "region               0\n",
       "region_url           0\n",
       "price                0\n",
       "year               759\n",
       "manufacturer     13359\n",
       "model             3620\n",
       "condition       138091\n",
       "cylinders       150584\n",
       "fuel              1711\n",
       "odometer          1832\n",
       "title_status         0\n",
       "transmission      1493\n",
       "VIN             133755\n",
       "drive           107661\n",
       "size            258831\n",
       "type             76011\n",
       "paint_color     100010\n",
       "image_url            0\n",
       "description          2\n",
       "county          358460\n",
       "state                0\n",
       "lat               3352\n",
       "long              3352\n",
       "posting_date         0\n",
       "dtype: int64"
      ]
     },
     "execution_count": 19,
     "metadata": {},
     "output_type": "execute_result"
    }
   ],
   "source": [
    "df.isnull().sum()"
   ]
  },
  {
   "cell_type": "code",
   "execution_count": 20,
   "id": "6494b368",
   "metadata": {},
   "outputs": [],
   "source": [
    "df = df[df.odometer.notna()]"
   ]
  },
  {
   "cell_type": "markdown",
   "id": "6772a057",
   "metadata": {},
   "source": [
    "**Making Sure the # of rows without VIN adds up with VIN null values to get total dataframe**"
   ]
  },
  {
   "cell_type": "code",
   "execution_count": 21,
   "id": "ba121a3d",
   "metadata": {},
   "outputs": [
    {
     "data": {
      "text/plain": [
       "True"
      ]
     },
     "execution_count": 21,
     "metadata": {},
     "output_type": "execute_result"
    }
   ],
   "source": [
    "df[df.VIN.notna()].shape[0] == df.shape[0] - df[df.VIN.isnull()].shape[0]"
   ]
  },
  {
   "cell_type": "markdown",
   "id": "1d59e139",
   "metadata": {},
   "source": [
    "**Duplicate VIN = Same Car. Need to drop duplicates so data is not given double weight**"
   ]
  },
  {
   "cell_type": "code",
   "execution_count": 22,
   "id": "ab2be5f2",
   "metadata": {},
   "outputs": [],
   "source": [
    "df2 = df.drop_duplicates(subset='VIN')"
   ]
  },
  {
   "cell_type": "code",
   "execution_count": 23,
   "id": "4a7b40ce",
   "metadata": {},
   "outputs": [
    {
     "data": {
      "text/plain": [
       "True"
      ]
     },
     "execution_count": 23,
     "metadata": {},
     "output_type": "execute_result"
    }
   ],
   "source": [
    "df2.VIN.is_unique"
   ]
  },
  {
   "cell_type": "markdown",
   "id": "50983958",
   "metadata": {},
   "source": [
    "**All Rows are verified as unique car. Now, dataframe will be split for further processing, verifying the car data by using the VIN through NHTSA api.**"
   ]
  },
  {
   "cell_type": "code",
   "execution_count": 24,
   "id": "56a70d3f",
   "metadata": {},
   "outputs": [],
   "source": [
    "vin_df = df2[df2.VIN.notna()]\n",
    "no_vin_df = df2[df2.VIN.isnull()]"
   ]
  },
  {
   "cell_type": "code",
   "execution_count": 25,
   "id": "90d64764",
   "metadata": {},
   "outputs": [
    {
     "data": {
      "text/plain": [
       "(96571, 26)"
      ]
     },
     "execution_count": 25,
     "metadata": {},
     "output_type": "execute_result"
    }
   ],
   "source": [
    "vin_df.shape"
   ]
  },
  {
   "cell_type": "markdown",
   "id": "a808a42e",
   "metadata": {},
   "source": [
    "**The process using the API to generate information from VIN is computationally expensive and time sensitive. The process is in separate notebook.**\n",
    "\n",
    "**Summary: 'vin_df', above, creates 'gdf.csv', below.**"
   ]
  },
  {
   "cell_type": "code",
   "execution_count": 26,
   "id": "f9dd00b0",
   "metadata": {},
   "outputs": [
    {
     "name": "stderr",
     "output_type": "stream",
     "text": [
      "C:\\Users\\mitch\\AppData\\Local\\Temp\\ipykernel_15700\\1595645458.py:1: DtypeWarning: Columns (14,30,42,80,102,104,106,115) have mixed types. Specify dtype option on import or set low_memory=False.\n",
      "  vinny = pd.read_csv('data/gdf.csv')\n"
     ]
    },
    {
     "data": {
      "text/html": [
       "<div>\n",
       "<style scoped>\n",
       "    .dataframe tbody tr th:only-of-type {\n",
       "        vertical-align: middle;\n",
       "    }\n",
       "\n",
       "    .dataframe tbody tr th {\n",
       "        vertical-align: top;\n",
       "    }\n",
       "\n",
       "    .dataframe thead th {\n",
       "        text-align: right;\n",
       "    }\n",
       "</style>\n",
       "<table border=\"1\" class=\"dataframe\">\n",
       "  <thead>\n",
       "    <tr style=\"text-align: right;\">\n",
       "      <th></th>\n",
       "      <th>ABS</th>\n",
       "      <th>ActiveSafetySysNote</th>\n",
       "      <th>AdaptiveCruiseControl</th>\n",
       "      <th>AdaptiveDrivingBeam</th>\n",
       "      <th>AdaptiveHeadlights</th>\n",
       "      <th>AdditionalErrorText</th>\n",
       "      <th>AirBagLocCurtain</th>\n",
       "      <th>AirBagLocFront</th>\n",
       "      <th>AirBagLocKnee</th>\n",
       "      <th>AirBagLocSeatCushion</th>\n",
       "      <th>...</th>\n",
       "      <th>ValveTrainDesign</th>\n",
       "      <th>VehicleDescriptor</th>\n",
       "      <th>VehicleType</th>\n",
       "      <th>WheelBaseLong</th>\n",
       "      <th>WheelBaseShort</th>\n",
       "      <th>WheelBaseType</th>\n",
       "      <th>WheelSizeFront</th>\n",
       "      <th>WheelSizeRear</th>\n",
       "      <th>Wheels</th>\n",
       "      <th>Windows</th>\n",
       "    </tr>\n",
       "  </thead>\n",
       "  <tbody>\n",
       "    <tr>\n",
       "      <th>0</th>\n",
       "      <td>NaN</td>\n",
       "      <td>NaN</td>\n",
       "      <td>NaN</td>\n",
       "      <td>NaN</td>\n",
       "      <td>NaN</td>\n",
       "      <td>NaN</td>\n",
       "      <td>All Rows</td>\n",
       "      <td>1st Row (Driver and Passenger)</td>\n",
       "      <td>NaN</td>\n",
       "      <td>NaN</td>\n",
       "      <td>...</td>\n",
       "      <td>NaN</td>\n",
       "      <td>3GTP1VEC*EG</td>\n",
       "      <td>TRUCK</td>\n",
       "      <td>NaN</td>\n",
       "      <td>NaN</td>\n",
       "      <td>NaN</td>\n",
       "      <td>NaN</td>\n",
       "      <td>NaN</td>\n",
       "      <td>NaN</td>\n",
       "      <td>NaN</td>\n",
       "    </tr>\n",
       "    <tr>\n",
       "      <th>1</th>\n",
       "      <td>NaN</td>\n",
       "      <td>NaN</td>\n",
       "      <td>NaN</td>\n",
       "      <td>NaN</td>\n",
       "      <td>NaN</td>\n",
       "      <td>NaN</td>\n",
       "      <td>NaN</td>\n",
       "      <td>1st Row (Driver and Passenger)</td>\n",
       "      <td>NaN</td>\n",
       "      <td>NaN</td>\n",
       "      <td>...</td>\n",
       "      <td>Overhead Valve (OHV)</td>\n",
       "      <td>1GCSCSE0*AZ</td>\n",
       "      <td>TRUCK</td>\n",
       "      <td>NaN</td>\n",
       "      <td>NaN</td>\n",
       "      <td>NaN</td>\n",
       "      <td>NaN</td>\n",
       "      <td>NaN</td>\n",
       "      <td>NaN</td>\n",
       "      <td>NaN</td>\n",
       "    </tr>\n",
       "    <tr>\n",
       "      <th>2</th>\n",
       "      <td>Standard</td>\n",
       "      <td>NaN</td>\n",
       "      <td>Optional</td>\n",
       "      <td>NaN</td>\n",
       "      <td>NaN</td>\n",
       "      <td>NaN</td>\n",
       "      <td>All Rows</td>\n",
       "      <td>1st Row (Driver and Passenger)</td>\n",
       "      <td>NaN</td>\n",
       "      <td>NaN</td>\n",
       "      <td>...</td>\n",
       "      <td>NaN</td>\n",
       "      <td>3GCPWCED*LG</td>\n",
       "      <td>TRUCK</td>\n",
       "      <td>NaN</td>\n",
       "      <td>NaN</td>\n",
       "      <td>NaN</td>\n",
       "      <td>17.0</td>\n",
       "      <td>17.0</td>\n",
       "      <td>4.0</td>\n",
       "      <td>NaN</td>\n",
       "    </tr>\n",
       "    <tr>\n",
       "      <th>3</th>\n",
       "      <td>Standard</td>\n",
       "      <td>NaN</td>\n",
       "      <td>NaN</td>\n",
       "      <td>NaN</td>\n",
       "      <td>NaN</td>\n",
       "      <td>NaN</td>\n",
       "      <td>All Rows</td>\n",
       "      <td>1st Row (Driver and Passenger)</td>\n",
       "      <td>1st Row (Driver and Passenger)</td>\n",
       "      <td>NaN</td>\n",
       "      <td>...</td>\n",
       "      <td>Dual Overhead Cam (DOHC)</td>\n",
       "      <td>5TFRM5F1*HX</td>\n",
       "      <td>TRUCK</td>\n",
       "      <td>NaN</td>\n",
       "      <td>145.7</td>\n",
       "      <td>Long</td>\n",
       "      <td>18.0</td>\n",
       "      <td>18.0</td>\n",
       "      <td>4.0</td>\n",
       "      <td>NaN</td>\n",
       "    </tr>\n",
       "    <tr>\n",
       "      <th>4</th>\n",
       "      <td>NaN</td>\n",
       "      <td>NaN</td>\n",
       "      <td>NaN</td>\n",
       "      <td>NaN</td>\n",
       "      <td>NaN</td>\n",
       "      <td>NaN</td>\n",
       "      <td>NaN</td>\n",
       "      <td>1st Row (Driver and Passenger)</td>\n",
       "      <td>NaN</td>\n",
       "      <td>NaN</td>\n",
       "      <td>...</td>\n",
       "      <td>NaN</td>\n",
       "      <td>1GT220CG*CZ</td>\n",
       "      <td>TRUCK</td>\n",
       "      <td>NaN</td>\n",
       "      <td>NaN</td>\n",
       "      <td>NaN</td>\n",
       "      <td>NaN</td>\n",
       "      <td>NaN</td>\n",
       "      <td>NaN</td>\n",
       "      <td>NaN</td>\n",
       "    </tr>\n",
       "    <tr>\n",
       "      <th>5</th>\n",
       "      <td>NaN</td>\n",
       "      <td>NaN</td>\n",
       "      <td>NaN</td>\n",
       "      <td>NaN</td>\n",
       "      <td>NaN</td>\n",
       "      <td>NaN</td>\n",
       "      <td>All Rows</td>\n",
       "      <td>1st Row (Driver and Passenger)</td>\n",
       "      <td>NaN</td>\n",
       "      <td>NaN</td>\n",
       "      <td>...</td>\n",
       "      <td>Overhead Valve (OHV)</td>\n",
       "      <td>1GCVKREH*GZ</td>\n",
       "      <td>TRUCK</td>\n",
       "      <td>NaN</td>\n",
       "      <td>NaN</td>\n",
       "      <td>NaN</td>\n",
       "      <td>NaN</td>\n",
       "      <td>NaN</td>\n",
       "      <td>NaN</td>\n",
       "      <td>NaN</td>\n",
       "    </tr>\n",
       "    <tr>\n",
       "      <th>6</th>\n",
       "      <td>NaN</td>\n",
       "      <td>NaN</td>\n",
       "      <td>NaN</td>\n",
       "      <td>NaN</td>\n",
       "      <td>NaN</td>\n",
       "      <td>NaN</td>\n",
       "      <td>All Rows</td>\n",
       "      <td>1st Row (Driver and Passenger)</td>\n",
       "      <td>NaN</td>\n",
       "      <td>NaN</td>\n",
       "      <td>...</td>\n",
       "      <td>Dual Overhead Cam (DOHC)</td>\n",
       "      <td>1GCHTCE3*G1</td>\n",
       "      <td>TRUCK</td>\n",
       "      <td>NaN</td>\n",
       "      <td>NaN</td>\n",
       "      <td>NaN</td>\n",
       "      <td>NaN</td>\n",
       "      <td>NaN</td>\n",
       "      <td>NaN</td>\n",
       "      <td>NaN</td>\n",
       "    </tr>\n",
       "    <tr>\n",
       "      <th>7</th>\n",
       "      <td>NaN</td>\n",
       "      <td>NaN</td>\n",
       "      <td>NaN</td>\n",
       "      <td>NaN</td>\n",
       "      <td>NaN</td>\n",
       "      <td>NaN</td>\n",
       "      <td>NaN</td>\n",
       "      <td>1st Row (Driver and Passenger)</td>\n",
       "      <td>NaN</td>\n",
       "      <td>1st Row (Driver and Passenger)</td>\n",
       "      <td>...</td>\n",
       "      <td>NaN</td>\n",
       "      <td>1G1YR3DW*B5</td>\n",
       "      <td>PASSENGER CAR</td>\n",
       "      <td>NaN</td>\n",
       "      <td>NaN</td>\n",
       "      <td>NaN</td>\n",
       "      <td>NaN</td>\n",
       "      <td>NaN</td>\n",
       "      <td>NaN</td>\n",
       "      <td>NaN</td>\n",
       "    </tr>\n",
       "    <tr>\n",
       "      <th>8</th>\n",
       "      <td>Standard</td>\n",
       "      <td>ParkSense Rear Park Assist: Optional</td>\n",
       "      <td>NaN</td>\n",
       "      <td>NaN</td>\n",
       "      <td>NaN</td>\n",
       "      <td>NaN</td>\n",
       "      <td>NaN</td>\n",
       "      <td>1st Row (Driver and Passenger)</td>\n",
       "      <td>NaN</td>\n",
       "      <td>NaN</td>\n",
       "      <td>...</td>\n",
       "      <td>NaN</td>\n",
       "      <td>1C4BJWDG*HL</td>\n",
       "      <td>MULTIPURPOSE PASSENGER VEHICLE (MPV)</td>\n",
       "      <td>NaN</td>\n",
       "      <td>116.0</td>\n",
       "      <td>NaN</td>\n",
       "      <td>16.0</td>\n",
       "      <td>16.0</td>\n",
       "      <td>4.0</td>\n",
       "      <td>NaN</td>\n",
       "    </tr>\n",
       "    <tr>\n",
       "      <th>9</th>\n",
       "      <td>Standard</td>\n",
       "      <td>Automatic Crash Notification: Optional for Wor...</td>\n",
       "      <td>NaN</td>\n",
       "      <td>NaN</td>\n",
       "      <td>NaN</td>\n",
       "      <td>NaN</td>\n",
       "      <td>All Rows</td>\n",
       "      <td>1st Row (Driver and Passenger)</td>\n",
       "      <td>NaN</td>\n",
       "      <td>NaN</td>\n",
       "      <td>...</td>\n",
       "      <td>Overhead Valve (OHV)</td>\n",
       "      <td>1GCNCNEH*HZ</td>\n",
       "      <td>TRUCK</td>\n",
       "      <td>NaN</td>\n",
       "      <td>119.0</td>\n",
       "      <td>NaN</td>\n",
       "      <td>17.0</td>\n",
       "      <td>17.0</td>\n",
       "      <td>4.0</td>\n",
       "      <td>NaN</td>\n",
       "    </tr>\n",
       "    <tr>\n",
       "      <th>10</th>\n",
       "      <td>NaN</td>\n",
       "      <td>NaN</td>\n",
       "      <td>NaN</td>\n",
       "      <td>NaN</td>\n",
       "      <td>NaN</td>\n",
       "      <td>NaN</td>\n",
       "      <td>All Rows</td>\n",
       "      <td>1st Row (Driver and Passenger)</td>\n",
       "      <td>NaN</td>\n",
       "      <td>NaN</td>\n",
       "      <td>...</td>\n",
       "      <td>Dual Overhead Cam (DOHC)</td>\n",
       "      <td>1GCGTDE3*G1</td>\n",
       "      <td>TRUCK</td>\n",
       "      <td>NaN</td>\n",
       "      <td>NaN</td>\n",
       "      <td>NaN</td>\n",
       "      <td>NaN</td>\n",
       "      <td>NaN</td>\n",
       "      <td>NaN</td>\n",
       "      <td>NaN</td>\n",
       "    </tr>\n",
       "    <tr>\n",
       "      <th>11</th>\n",
       "      <td>NaN</td>\n",
       "      <td>NaN</td>\n",
       "      <td>NaN</td>\n",
       "      <td>NaN</td>\n",
       "      <td>NaN</td>\n",
       "      <td>NaN</td>\n",
       "      <td>All Rows</td>\n",
       "      <td>1st Row (Driver and Passenger)</td>\n",
       "      <td>NaN</td>\n",
       "      <td>NaN</td>\n",
       "      <td>...</td>\n",
       "      <td>NaN</td>\n",
       "      <td>5TFTX4CN*EX</td>\n",
       "      <td>TRUCK</td>\n",
       "      <td>NaN</td>\n",
       "      <td>NaN</td>\n",
       "      <td>Long</td>\n",
       "      <td>NaN</td>\n",
       "      <td>NaN</td>\n",
       "      <td>NaN</td>\n",
       "      <td>NaN</td>\n",
       "    </tr>\n",
       "    <tr>\n",
       "      <th>12</th>\n",
       "      <td>NaN</td>\n",
       "      <td>NaN</td>\n",
       "      <td>NaN</td>\n",
       "      <td>NaN</td>\n",
       "      <td>NaN</td>\n",
       "      <td>NaN</td>\n",
       "      <td>All Rows</td>\n",
       "      <td>1st Row (Driver and Passenger)</td>\n",
       "      <td>1st Row (Driver and Passenger)</td>\n",
       "      <td>NaN</td>\n",
       "      <td>...</td>\n",
       "      <td>NaN</td>\n",
       "      <td>1G1FF1R7*G0</td>\n",
       "      <td>PASSENGER CAR</td>\n",
       "      <td>NaN</td>\n",
       "      <td>NaN</td>\n",
       "      <td>NaN</td>\n",
       "      <td>NaN</td>\n",
       "      <td>NaN</td>\n",
       "      <td>NaN</td>\n",
       "      <td>NaN</td>\n",
       "    </tr>\n",
       "    <tr>\n",
       "      <th>13</th>\n",
       "      <td>NaN</td>\n",
       "      <td>NaN</td>\n",
       "      <td>NaN</td>\n",
       "      <td>NaN</td>\n",
       "      <td>NaN</td>\n",
       "      <td>NaN</td>\n",
       "      <td>All Rows</td>\n",
       "      <td>1st Row (Driver and Passenger)</td>\n",
       "      <td>1st Row (Driver and Passenger)</td>\n",
       "      <td>NaN</td>\n",
       "      <td>...</td>\n",
       "      <td>NaN</td>\n",
       "      <td>5TFEY5F1*EX</td>\n",
       "      <td>TRUCK</td>\n",
       "      <td>NaN</td>\n",
       "      <td>NaN</td>\n",
       "      <td>Long</td>\n",
       "      <td>NaN</td>\n",
       "      <td>NaN</td>\n",
       "      <td>NaN</td>\n",
       "      <td>NaN</td>\n",
       "    </tr>\n",
       "    <tr>\n",
       "      <th>14</th>\n",
       "      <td>NaN</td>\n",
       "      <td>NaN</td>\n",
       "      <td>NaN</td>\n",
       "      <td>NaN</td>\n",
       "      <td>NaN</td>\n",
       "      <td>NaN</td>\n",
       "      <td>NaN</td>\n",
       "      <td>1st Row (Driver and Passenger)</td>\n",
       "      <td>NaN</td>\n",
       "      <td>NaN</td>\n",
       "      <td>...</td>\n",
       "      <td>NaN</td>\n",
       "      <td>1FTER4EH*KL</td>\n",
       "      <td>TRUCK</td>\n",
       "      <td>NaN</td>\n",
       "      <td>NaN</td>\n",
       "      <td>NaN</td>\n",
       "      <td>NaN</td>\n",
       "      <td>NaN</td>\n",
       "      <td>NaN</td>\n",
       "      <td>NaN</td>\n",
       "    </tr>\n",
       "    <tr>\n",
       "      <th>15</th>\n",
       "      <td>Standard</td>\n",
       "      <td>NaN</td>\n",
       "      <td>NaN</td>\n",
       "      <td>NaN</td>\n",
       "      <td>NaN</td>\n",
       "      <td>NaN</td>\n",
       "      <td>1st and 2nd Rows</td>\n",
       "      <td>1st Row (Driver and Passenger)</td>\n",
       "      <td>NaN</td>\n",
       "      <td>NaN</td>\n",
       "      <td>...</td>\n",
       "      <td>NaN</td>\n",
       "      <td>1N6AD0EV*JN</td>\n",
       "      <td>TRUCK</td>\n",
       "      <td>NaN</td>\n",
       "      <td>NaN</td>\n",
       "      <td>NaN</td>\n",
       "      <td>NaN</td>\n",
       "      <td>NaN</td>\n",
       "      <td>NaN</td>\n",
       "      <td>NaN</td>\n",
       "    </tr>\n",
       "    <tr>\n",
       "      <th>16</th>\n",
       "      <td>NaN</td>\n",
       "      <td>NaN</td>\n",
       "      <td>NaN</td>\n",
       "      <td>NaN</td>\n",
       "      <td>NaN</td>\n",
       "      <td>NaN</td>\n",
       "      <td>NaN</td>\n",
       "      <td>1st Row (Driver and Passenger)</td>\n",
       "      <td>NaN</td>\n",
       "      <td>NaN</td>\n",
       "      <td>...</td>\n",
       "      <td>NaN</td>\n",
       "      <td>1FTEX1CB*JK</td>\n",
       "      <td>TRUCK</td>\n",
       "      <td>NaN</td>\n",
       "      <td>NaN</td>\n",
       "      <td>NaN</td>\n",
       "      <td>NaN</td>\n",
       "      <td>NaN</td>\n",
       "      <td>NaN</td>\n",
       "      <td>NaN</td>\n",
       "    </tr>\n",
       "    <tr>\n",
       "      <th>17</th>\n",
       "      <td>NaN</td>\n",
       "      <td>NaN</td>\n",
       "      <td>NaN</td>\n",
       "      <td>NaN</td>\n",
       "      <td>NaN</td>\n",
       "      <td>NaN</td>\n",
       "      <td>All Rows</td>\n",
       "      <td>1st Row (Driver and Passenger)</td>\n",
       "      <td>1st Row (Driver and Passenger)</td>\n",
       "      <td>NaN</td>\n",
       "      <td>...</td>\n",
       "      <td>NaN</td>\n",
       "      <td>3TMAZ5CN*GM</td>\n",
       "      <td>TRUCK</td>\n",
       "      <td>NaN</td>\n",
       "      <td>NaN</td>\n",
       "      <td>Long</td>\n",
       "      <td>NaN</td>\n",
       "      <td>NaN</td>\n",
       "      <td>NaN</td>\n",
       "      <td>NaN</td>\n",
       "    </tr>\n",
       "    <tr>\n",
       "      <th>18</th>\n",
       "      <td>Standard</td>\n",
       "      <td>NaN</td>\n",
       "      <td>NaN</td>\n",
       "      <td>NaN</td>\n",
       "      <td>NaN</td>\n",
       "      <td>NaN</td>\n",
       "      <td>NaN</td>\n",
       "      <td>1st Row (Driver and Passenger)</td>\n",
       "      <td>NaN</td>\n",
       "      <td>NaN</td>\n",
       "      <td>...</td>\n",
       "      <td>NaN</td>\n",
       "      <td>1C4GJXAN*LW</td>\n",
       "      <td>MULTIPURPOSE PASSENGER VEHICLE (MPV)</td>\n",
       "      <td>NaN</td>\n",
       "      <td>NaN</td>\n",
       "      <td>NaN</td>\n",
       "      <td>NaN</td>\n",
       "      <td>NaN</td>\n",
       "      <td>4.0</td>\n",
       "      <td>NaN</td>\n",
       "    </tr>\n",
       "    <tr>\n",
       "      <th>19</th>\n",
       "      <td>Standard</td>\n",
       "      <td>NaN</td>\n",
       "      <td>NaN</td>\n",
       "      <td>NaN</td>\n",
       "      <td>NaN</td>\n",
       "      <td>NaN</td>\n",
       "      <td>NaN</td>\n",
       "      <td>1st Row (Driver and Passenger)</td>\n",
       "      <td>NaN</td>\n",
       "      <td>NaN</td>\n",
       "      <td>...</td>\n",
       "      <td>NaN</td>\n",
       "      <td>1FTEW1CP*LF</td>\n",
       "      <td>TRUCK</td>\n",
       "      <td>NaN</td>\n",
       "      <td>NaN</td>\n",
       "      <td>NaN</td>\n",
       "      <td>NaN</td>\n",
       "      <td>NaN</td>\n",
       "      <td>4.0</td>\n",
       "      <td>NaN</td>\n",
       "    </tr>\n",
       "    <tr>\n",
       "      <th>20</th>\n",
       "      <td>Standard</td>\n",
       "      <td>NaN</td>\n",
       "      <td>NaN</td>\n",
       "      <td>NaN</td>\n",
       "      <td>NaN</td>\n",
       "      <td>NaN</td>\n",
       "      <td>NaN</td>\n",
       "      <td>1st Row (Driver and Passenger)</td>\n",
       "      <td>NaN</td>\n",
       "      <td>NaN</td>\n",
       "      <td>...</td>\n",
       "      <td>NaN</td>\n",
       "      <td>3C6JR6DT*HG</td>\n",
       "      <td>TRUCK</td>\n",
       "      <td>NaN</td>\n",
       "      <td>NaN</td>\n",
       "      <td>NaN</td>\n",
       "      <td>17.0</td>\n",
       "      <td>17.0</td>\n",
       "      <td>4.0</td>\n",
       "      <td>NaN</td>\n",
       "    </tr>\n",
       "    <tr>\n",
       "      <th>21</th>\n",
       "      <td>NaN</td>\n",
       "      <td>NaN</td>\n",
       "      <td>NaN</td>\n",
       "      <td>NaN</td>\n",
       "      <td>NaN</td>\n",
       "      <td>NaN</td>\n",
       "      <td>NaN</td>\n",
       "      <td>1st Row (Driver and Passenger)</td>\n",
       "      <td>NaN</td>\n",
       "      <td>NaN</td>\n",
       "      <td>...</td>\n",
       "      <td>Dual Overhead Cam (DOHC)</td>\n",
       "      <td>JM1NDAC7*L0</td>\n",
       "      <td>PASSENGER CAR</td>\n",
       "      <td>NaN</td>\n",
       "      <td>90.9</td>\n",
       "      <td>NaN</td>\n",
       "      <td>17.0</td>\n",
       "      <td>17.0</td>\n",
       "      <td>4.0</td>\n",
       "      <td>NaN</td>\n",
       "    </tr>\n",
       "    <tr>\n",
       "      <th>22</th>\n",
       "      <td>Standard</td>\n",
       "      <td>NaN</td>\n",
       "      <td>NaN</td>\n",
       "      <td>NaN</td>\n",
       "      <td>NaN</td>\n",
       "      <td>NaN</td>\n",
       "      <td>NaN</td>\n",
       "      <td>1st Row (Driver and Passenger)</td>\n",
       "      <td>NaN</td>\n",
       "      <td>NaN</td>\n",
       "      <td>...</td>\n",
       "      <td>NaN</td>\n",
       "      <td>1FTER1EH*LL</td>\n",
       "      <td>TRUCK</td>\n",
       "      <td>NaN</td>\n",
       "      <td>126.8</td>\n",
       "      <td>NaN</td>\n",
       "      <td>NaN</td>\n",
       "      <td>NaN</td>\n",
       "      <td>4.0</td>\n",
       "      <td>NaN</td>\n",
       "    </tr>\n",
       "    <tr>\n",
       "      <th>23</th>\n",
       "      <td>Standard</td>\n",
       "      <td>NaN</td>\n",
       "      <td>Optional</td>\n",
       "      <td>Optional</td>\n",
       "      <td>NaN</td>\n",
       "      <td>NaN</td>\n",
       "      <td>All Rows</td>\n",
       "      <td>1st Row (Driver and Passenger)</td>\n",
       "      <td>1st Row (Driver and Passenger)</td>\n",
       "      <td>NaN</td>\n",
       "      <td>...</td>\n",
       "      <td>Dual Overhead Cam (DOHC)</td>\n",
       "      <td>1GYFZER4*KF</td>\n",
       "      <td>MULTIPURPOSE PASSENGER VEHICLE (MPV)</td>\n",
       "      <td>NaN</td>\n",
       "      <td>109.4</td>\n",
       "      <td>NaN</td>\n",
       "      <td>18.0</td>\n",
       "      <td>18.0</td>\n",
       "      <td>4.0</td>\n",
       "      <td>NaN</td>\n",
       "    </tr>\n",
       "    <tr>\n",
       "      <th>24</th>\n",
       "      <td>NaN</td>\n",
       "      <td>NaN</td>\n",
       "      <td>NaN</td>\n",
       "      <td>NaN</td>\n",
       "      <td>NaN</td>\n",
       "      <td>NaN</td>\n",
       "      <td>NaN</td>\n",
       "      <td>1st Row (Driver and Passenger)</td>\n",
       "      <td>NaN</td>\n",
       "      <td>NaN</td>\n",
       "      <td>...</td>\n",
       "      <td>NaN</td>\n",
       "      <td>ZACCJBAW*GP</td>\n",
       "      <td>MULTIPURPOSE PASSENGER VEHICLE (MPV)</td>\n",
       "      <td>NaN</td>\n",
       "      <td>NaN</td>\n",
       "      <td>NaN</td>\n",
       "      <td>NaN</td>\n",
       "      <td>NaN</td>\n",
       "      <td>NaN</td>\n",
       "      <td>NaN</td>\n",
       "    </tr>\n",
       "  </tbody>\n",
       "</table>\n",
       "<p>25 rows × 150 columns</p>\n",
       "</div>"
      ],
      "text/plain": [
       "         ABS                                ActiveSafetySysNote  \\\n",
       "0        NaN                                                NaN   \n",
       "1        NaN                                                NaN   \n",
       "2   Standard                                                NaN   \n",
       "3   Standard                                                NaN   \n",
       "4        NaN                                                NaN   \n",
       "5        NaN                                                NaN   \n",
       "6        NaN                                                NaN   \n",
       "7        NaN                                                NaN   \n",
       "8   Standard               ParkSense Rear Park Assist: Optional   \n",
       "9   Standard  Automatic Crash Notification: Optional for Wor...   \n",
       "10       NaN                                                NaN   \n",
       "11       NaN                                                NaN   \n",
       "12       NaN                                                NaN   \n",
       "13       NaN                                                NaN   \n",
       "14       NaN                                                NaN   \n",
       "15  Standard                                                NaN   \n",
       "16       NaN                                                NaN   \n",
       "17       NaN                                                NaN   \n",
       "18  Standard                                                NaN   \n",
       "19  Standard                                                NaN   \n",
       "20  Standard                                                NaN   \n",
       "21       NaN                                                NaN   \n",
       "22  Standard                                                NaN   \n",
       "23  Standard                                                NaN   \n",
       "24       NaN                                                NaN   \n",
       "\n",
       "   AdaptiveCruiseControl AdaptiveDrivingBeam  AdaptiveHeadlights  \\\n",
       "0                    NaN                 NaN                 NaN   \n",
       "1                    NaN                 NaN                 NaN   \n",
       "2               Optional                 NaN                 NaN   \n",
       "3                    NaN                 NaN                 NaN   \n",
       "4                    NaN                 NaN                 NaN   \n",
       "5                    NaN                 NaN                 NaN   \n",
       "6                    NaN                 NaN                 NaN   \n",
       "7                    NaN                 NaN                 NaN   \n",
       "8                    NaN                 NaN                 NaN   \n",
       "9                    NaN                 NaN                 NaN   \n",
       "10                   NaN                 NaN                 NaN   \n",
       "11                   NaN                 NaN                 NaN   \n",
       "12                   NaN                 NaN                 NaN   \n",
       "13                   NaN                 NaN                 NaN   \n",
       "14                   NaN                 NaN                 NaN   \n",
       "15                   NaN                 NaN                 NaN   \n",
       "16                   NaN                 NaN                 NaN   \n",
       "17                   NaN                 NaN                 NaN   \n",
       "18                   NaN                 NaN                 NaN   \n",
       "19                   NaN                 NaN                 NaN   \n",
       "20                   NaN                 NaN                 NaN   \n",
       "21                   NaN                 NaN                 NaN   \n",
       "22                   NaN                 NaN                 NaN   \n",
       "23              Optional            Optional                 NaN   \n",
       "24                   NaN                 NaN                 NaN   \n",
       "\n",
       "   AdditionalErrorText  AirBagLocCurtain                  AirBagLocFront  \\\n",
       "0                  NaN          All Rows  1st Row (Driver and Passenger)   \n",
       "1                  NaN               NaN  1st Row (Driver and Passenger)   \n",
       "2                  NaN          All Rows  1st Row (Driver and Passenger)   \n",
       "3                  NaN          All Rows  1st Row (Driver and Passenger)   \n",
       "4                  NaN               NaN  1st Row (Driver and Passenger)   \n",
       "5                  NaN          All Rows  1st Row (Driver and Passenger)   \n",
       "6                  NaN          All Rows  1st Row (Driver and Passenger)   \n",
       "7                  NaN               NaN  1st Row (Driver and Passenger)   \n",
       "8                  NaN               NaN  1st Row (Driver and Passenger)   \n",
       "9                  NaN          All Rows  1st Row (Driver and Passenger)   \n",
       "10                 NaN          All Rows  1st Row (Driver and Passenger)   \n",
       "11                 NaN          All Rows  1st Row (Driver and Passenger)   \n",
       "12                 NaN          All Rows  1st Row (Driver and Passenger)   \n",
       "13                 NaN          All Rows  1st Row (Driver and Passenger)   \n",
       "14                 NaN               NaN  1st Row (Driver and Passenger)   \n",
       "15                 NaN  1st and 2nd Rows  1st Row (Driver and Passenger)   \n",
       "16                 NaN               NaN  1st Row (Driver and Passenger)   \n",
       "17                 NaN          All Rows  1st Row (Driver and Passenger)   \n",
       "18                 NaN               NaN  1st Row (Driver and Passenger)   \n",
       "19                 NaN               NaN  1st Row (Driver and Passenger)   \n",
       "20                 NaN               NaN  1st Row (Driver and Passenger)   \n",
       "21                 NaN               NaN  1st Row (Driver and Passenger)   \n",
       "22                 NaN               NaN  1st Row (Driver and Passenger)   \n",
       "23                 NaN          All Rows  1st Row (Driver and Passenger)   \n",
       "24                 NaN               NaN  1st Row (Driver and Passenger)   \n",
       "\n",
       "                     AirBagLocKnee            AirBagLocSeatCushion  ...  \\\n",
       "0                              NaN                             NaN  ...   \n",
       "1                              NaN                             NaN  ...   \n",
       "2                              NaN                             NaN  ...   \n",
       "3   1st Row (Driver and Passenger)                             NaN  ...   \n",
       "4                              NaN                             NaN  ...   \n",
       "5                              NaN                             NaN  ...   \n",
       "6                              NaN                             NaN  ...   \n",
       "7                              NaN  1st Row (Driver and Passenger)  ...   \n",
       "8                              NaN                             NaN  ...   \n",
       "9                              NaN                             NaN  ...   \n",
       "10                             NaN                             NaN  ...   \n",
       "11                             NaN                             NaN  ...   \n",
       "12  1st Row (Driver and Passenger)                             NaN  ...   \n",
       "13  1st Row (Driver and Passenger)                             NaN  ...   \n",
       "14                             NaN                             NaN  ...   \n",
       "15                             NaN                             NaN  ...   \n",
       "16                             NaN                             NaN  ...   \n",
       "17  1st Row (Driver and Passenger)                             NaN  ...   \n",
       "18                             NaN                             NaN  ...   \n",
       "19                             NaN                             NaN  ...   \n",
       "20                             NaN                             NaN  ...   \n",
       "21                             NaN                             NaN  ...   \n",
       "22                             NaN                             NaN  ...   \n",
       "23  1st Row (Driver and Passenger)                             NaN  ...   \n",
       "24                             NaN                             NaN  ...   \n",
       "\n",
       "            ValveTrainDesign VehicleDescriptor  \\\n",
       "0                        NaN       3GTP1VEC*EG   \n",
       "1       Overhead Valve (OHV)       1GCSCSE0*AZ   \n",
       "2                        NaN       3GCPWCED*LG   \n",
       "3   Dual Overhead Cam (DOHC)       5TFRM5F1*HX   \n",
       "4                        NaN       1GT220CG*CZ   \n",
       "5       Overhead Valve (OHV)       1GCVKREH*GZ   \n",
       "6   Dual Overhead Cam (DOHC)       1GCHTCE3*G1   \n",
       "7                        NaN       1G1YR3DW*B5   \n",
       "8                        NaN       1C4BJWDG*HL   \n",
       "9       Overhead Valve (OHV)       1GCNCNEH*HZ   \n",
       "10  Dual Overhead Cam (DOHC)       1GCGTDE3*G1   \n",
       "11                       NaN       5TFTX4CN*EX   \n",
       "12                       NaN       1G1FF1R7*G0   \n",
       "13                       NaN       5TFEY5F1*EX   \n",
       "14                       NaN       1FTER4EH*KL   \n",
       "15                       NaN       1N6AD0EV*JN   \n",
       "16                       NaN       1FTEX1CB*JK   \n",
       "17                       NaN       3TMAZ5CN*GM   \n",
       "18                       NaN       1C4GJXAN*LW   \n",
       "19                       NaN       1FTEW1CP*LF   \n",
       "20                       NaN       3C6JR6DT*HG   \n",
       "21  Dual Overhead Cam (DOHC)       JM1NDAC7*L0   \n",
       "22                       NaN       1FTER1EH*LL   \n",
       "23  Dual Overhead Cam (DOHC)       1GYFZER4*KF   \n",
       "24                       NaN       ZACCJBAW*GP   \n",
       "\n",
       "                             VehicleType WheelBaseLong  WheelBaseShort  \\\n",
       "0                                  TRUCK           NaN             NaN   \n",
       "1                                  TRUCK           NaN             NaN   \n",
       "2                                  TRUCK           NaN             NaN   \n",
       "3                                  TRUCK           NaN           145.7   \n",
       "4                                  TRUCK           NaN             NaN   \n",
       "5                                  TRUCK           NaN             NaN   \n",
       "6                                  TRUCK           NaN             NaN   \n",
       "7                          PASSENGER CAR           NaN             NaN   \n",
       "8   MULTIPURPOSE PASSENGER VEHICLE (MPV)           NaN           116.0   \n",
       "9                                  TRUCK           NaN           119.0   \n",
       "10                                 TRUCK           NaN             NaN   \n",
       "11                                 TRUCK           NaN             NaN   \n",
       "12                         PASSENGER CAR           NaN             NaN   \n",
       "13                                 TRUCK           NaN             NaN   \n",
       "14                                 TRUCK           NaN             NaN   \n",
       "15                                 TRUCK           NaN             NaN   \n",
       "16                                 TRUCK           NaN             NaN   \n",
       "17                                 TRUCK           NaN             NaN   \n",
       "18  MULTIPURPOSE PASSENGER VEHICLE (MPV)           NaN             NaN   \n",
       "19                                 TRUCK           NaN             NaN   \n",
       "20                                 TRUCK           NaN             NaN   \n",
       "21                         PASSENGER CAR           NaN            90.9   \n",
       "22                                 TRUCK           NaN           126.8   \n",
       "23  MULTIPURPOSE PASSENGER VEHICLE (MPV)           NaN           109.4   \n",
       "24  MULTIPURPOSE PASSENGER VEHICLE (MPV)           NaN             NaN   \n",
       "\n",
       "    WheelBaseType  WheelSizeFront  WheelSizeRear  Wheels Windows  \n",
       "0             NaN             NaN            NaN     NaN     NaN  \n",
       "1             NaN             NaN            NaN     NaN     NaN  \n",
       "2             NaN            17.0           17.0     4.0     NaN  \n",
       "3            Long            18.0           18.0     4.0     NaN  \n",
       "4             NaN             NaN            NaN     NaN     NaN  \n",
       "5             NaN             NaN            NaN     NaN     NaN  \n",
       "6             NaN             NaN            NaN     NaN     NaN  \n",
       "7             NaN             NaN            NaN     NaN     NaN  \n",
       "8             NaN            16.0           16.0     4.0     NaN  \n",
       "9             NaN            17.0           17.0     4.0     NaN  \n",
       "10            NaN             NaN            NaN     NaN     NaN  \n",
       "11           Long             NaN            NaN     NaN     NaN  \n",
       "12            NaN             NaN            NaN     NaN     NaN  \n",
       "13           Long             NaN            NaN     NaN     NaN  \n",
       "14            NaN             NaN            NaN     NaN     NaN  \n",
       "15            NaN             NaN            NaN     NaN     NaN  \n",
       "16            NaN             NaN            NaN     NaN     NaN  \n",
       "17           Long             NaN            NaN     NaN     NaN  \n",
       "18            NaN             NaN            NaN     4.0     NaN  \n",
       "19            NaN             NaN            NaN     4.0     NaN  \n",
       "20            NaN            17.0           17.0     4.0     NaN  \n",
       "21            NaN            17.0           17.0     4.0     NaN  \n",
       "22            NaN             NaN            NaN     4.0     NaN  \n",
       "23            NaN            18.0           18.0     4.0     NaN  \n",
       "24            NaN             NaN            NaN     NaN     NaN  \n",
       "\n",
       "[25 rows x 150 columns]"
      ]
     },
     "execution_count": 26,
     "metadata": {},
     "output_type": "execute_result"
    }
   ],
   "source": [
    "vinny = pd.read_csv('data/gdf.csv')\n",
    "vinny = vinny.drop(['Unnamed: 0'], axis = 1)\n",
    "vinny.head(25)"
   ]
  },
  {
   "cell_type": "code",
   "execution_count": 27,
   "id": "f6303da9",
   "metadata": {},
   "outputs": [
    {
     "name": "stdout",
     "output_type": "stream",
     "text": [
      "101928\n"
     ]
    },
    {
     "data": {
      "text/plain": [
       "{'ABS': 76273,\n",
       " 'ActiveSafetySysNote': 94477,\n",
       " 'AdaptiveCruiseControl': 92805,\n",
       " 'AdaptiveDrivingBeam': 93489,\n",
       " 'AdaptiveHeadlights': 101928,\n",
       " 'AdditionalErrorText': 101276,\n",
       " 'AirBagLocCurtain': 52021,\n",
       " 'AirBagLocFront': 11849,\n",
       " 'AirBagLocKnee': 79691,\n",
       " 'AirBagLocSeatCushion': 98939,\n",
       " 'AirBagLocSide': 21678,\n",
       " 'AutoReverseSystem': 80525,\n",
       " 'AutomaticPedestrianAlertingSound': 100574,\n",
       " 'AxleConfiguration': 101811,\n",
       " 'Axles': 80041,\n",
       " 'BasePrice': 85384,\n",
       " 'BatteryA': 101917,\n",
       " 'BatteryA_to': 101928,\n",
       " 'BatteryCells': 101926,\n",
       " 'BatteryInfo': 101591,\n",
       " 'BatteryKWh': 101789,\n",
       " 'BatteryKWh_to': 101859,\n",
       " 'BatteryModules': 101928,\n",
       " 'BatteryPacks': 101254,\n",
       " 'BatteryType': 101444,\n",
       " 'BatteryV': 101647,\n",
       " 'BatteryV_to': 101928,\n",
       " 'BedLengthIN': 101697,\n",
       " 'BedType': 59479,\n",
       " 'BlindSpotIntervention': 101910,\n",
       " 'BlindSpotMon': 89487,\n",
       " 'BodyCabType': 42522,\n",
       " 'BodyClass': 744,\n",
       " 'BrakeSystemDesc': 100475,\n",
       " 'BrakeSystemType': 62277,\n",
       " 'BusFloorConfigType': 2808,\n",
       " 'BusLength': 101926,\n",
       " 'BusType': 2808,\n",
       " 'CAN_AACN': 89514,\n",
       " 'CIB': 90314,\n",
       " 'CashForClunkers': 101928,\n",
       " 'ChargerLevel': 101789,\n",
       " 'ChargerPowerKW': 101842,\n",
       " 'CoolingType': 91956,\n",
       " 'CurbWeightLB': 100617,\n",
       " 'CustomMotorcycleType': 594,\n",
       " 'DaytimeRunningLight': 81582,\n",
       " 'DestinationMarket': 98796,\n",
       " 'DisplacementCC': 1692,\n",
       " 'DisplacementCI': 1692,\n",
       " 'DisplacementL': 1692,\n",
       " 'Doors': 19181,\n",
       " 'DriveType': 28779,\n",
       " 'DriverAssist': 101928,\n",
       " 'DynamicBrakeSupport': 80294,\n",
       " 'EDR': 100924,\n",
       " 'ESC': 78819,\n",
       " 'EVDriveUnit': 101677,\n",
       " 'ElectrificationLevel': 98989,\n",
       " 'EngineConfiguration': 37878,\n",
       " 'EngineCycles': 95995,\n",
       " 'EngineCylinders': 9986,\n",
       " 'EngineHP': 47385,\n",
       " 'EngineHP_to': 95404,\n",
       " 'EngineKW': 101429,\n",
       " 'EngineManufacturer': 53184,\n",
       " 'EngineModel': 47744,\n",
       " 'EntertainmentSystem': 99847,\n",
       " 'ErrorCode': 0,\n",
       " 'ErrorText': 0,\n",
       " 'ForwardCollisionWarning': 89046,\n",
       " 'FuelInjectionType': 75744,\n",
       " 'FuelTypePrimary': 4110,\n",
       " 'FuelTypeSecondary': 92141,\n",
       " 'GCWR': 101928,\n",
       " 'GCWR_to': 101928,\n",
       " 'GVWR': 1794,\n",
       " 'GVWR_to': 63332,\n",
       " 'KeylessIgnition': 87223,\n",
       " 'LaneCenteringAssistance': 101829,\n",
       " 'LaneDepartureWarning': 90308,\n",
       " 'LaneKeepSystem': 91989,\n",
       " 'LowerBeamHeadlampLightSource': 99082,\n",
       " 'Make': 565,\n",
       " 'MakeID': 565,\n",
       " 'Manufacturer': 528,\n",
       " 'ManufacturerId': 528,\n",
       " 'Model': 758,\n",
       " 'ModelID': 758,\n",
       " 'ModelYear': 553,\n",
       " 'MotorcycleChassisType': 598,\n",
       " 'MotorcycleSuspensionType': 597,\n",
       " 'NCSABodyType': 101928,\n",
       " 'NCSAMake': 101928,\n",
       " 'NCSAMapExcApprovedBy': 101928,\n",
       " 'NCSAMapExcApprovedOn': 101928,\n",
       " 'NCSAMappingException': 101928,\n",
       " 'NCSAModel': 101928,\n",
       " 'NCSANote': 101928,\n",
       " 'NonLandUse': 101928,\n",
       " 'Note': 86102,\n",
       " 'OtherBusInfo': 101917,\n",
       " 'OtherEngineInfo': 68697,\n",
       " 'OtherMotorcycleInfo': 101915,\n",
       " 'OtherRestraintSystemInfo': 66498,\n",
       " 'OtherTrailerInfo': 101895,\n",
       " 'ParkAssist': 97558,\n",
       " 'PedestrianAutomaticEmergencyBraking': 95660,\n",
       " 'PlantCity': 3724,\n",
       " 'PlantCompanyName': 29871,\n",
       " 'PlantCountry': 751,\n",
       " 'PlantState': 21411,\n",
       " 'PossibleValues': 101682,\n",
       " 'Pretensioner': 93266,\n",
       " 'RearAutomaticEmergencyBraking': 101860,\n",
       " 'RearCrossTrafficAlert': 99703,\n",
       " 'RearVisibilitySystem': 79260,\n",
       " 'SAEAutomationLevel': 101888,\n",
       " 'SAEAutomationLevel_to': 101928,\n",
       " 'SeatBeltsAll': 11913,\n",
       " 'SeatRows': 81468,\n",
       " 'Seats': 80132,\n",
       " 'SemiautomaticHeadlampBeamSwitching': 81068,\n",
       " 'Series': 42823,\n",
       " 'Series2': 83798,\n",
       " 'SteeringLocation': 70993,\n",
       " 'SuggestedVIN': 101332,\n",
       " 'TPMS': 24940,\n",
       " 'TopSpeedMPH': 92125,\n",
       " 'TrackWidth': 101072,\n",
       " 'TractionControl': 79622,\n",
       " 'TrailerBodyType': 568,\n",
       " 'TrailerLength': 101857,\n",
       " 'TrailerType': 580,\n",
       " 'TransmissionSpeeds': 82334,\n",
       " 'TransmissionStyle': 73697,\n",
       " 'Trim': 47188,\n",
       " 'Trim2': 99168,\n",
       " 'Turbo': 81970,\n",
       " 'VIN': 0,\n",
       " 'ValveTrainDesign': 68285,\n",
       " 'VehicleDescriptor': 0,\n",
       " 'VehicleType': 528,\n",
       " 'WheelBaseLong': 100746,\n",
       " 'WheelBaseShort': 81572,\n",
       " 'WheelBaseType': 97432,\n",
       " 'WheelSizeFront': 85127,\n",
       " 'WheelSizeRear': 85144,\n",
       " 'Wheels': 78477,\n",
       " 'Windows': 98191}"
      ]
     },
     "execution_count": 27,
     "metadata": {},
     "output_type": "execute_result"
    }
   ],
   "source": [
    "print(str(len(vinny)))\n",
    "null_dic = vinny.isnull().sum().to_dict()\n",
    "null_dic"
   ]
  },
  {
   "cell_type": "markdown",
   "id": "a03e4438",
   "metadata": {},
   "source": [
    "**Some VINS generated errors and created no additional data. These can be recycled into those with missing VIN data.**"
   ]
  },
  {
   "cell_type": "code",
   "execution_count": 28,
   "id": "02a5a13b",
   "metadata": {},
   "outputs": [
    {
     "data": {
      "text/plain": [
       "ErrorCode\n",
       "0              100665\n",
       "1                 228\n",
       "6,7               194\n",
       "1,400             138\n",
       "1,7,400           108\n",
       "6,7,11             66\n",
       "1,7                59\n",
       "6,7,11,400         46\n",
       "1,3,14             43\n",
       "1,5,14             28\n",
       "5,6,14             25\n",
       "0,14               25\n",
       "1,4,14             22\n",
       "6,7,400            21\n",
       "4,14               20\n",
       "1,7,11,400         19\n",
       "1,3,14,400         19\n",
       "3,14               18\n",
       "1,14               18\n",
       "5,14               15\n",
       "7                  15\n",
       "2,14               15\n",
       "8                  14\n",
       "1,5,14,400         12\n",
       "1,8                12\n",
       "6,11,14,400        11\n",
       "1,4,14,400         10\n",
       "6,8                 9\n",
       "1,2,14              8\n",
       "6,14                7\n",
       "6,11,14             6\n",
       "1,2,14,400          6\n",
       "6                   5\n",
       "0,10                4\n",
       "4,6,14              3\n",
       "6,8,11              3\n",
       "1,8,400             3\n",
       "1,11,400            3\n",
       "5,6,14,400          1\n",
       "0,9                 1\n",
       "1,11,14,400         1\n",
       "6,11                1\n",
       "4,6,14,400          1\n",
       "Name: count, dtype: int64"
      ]
     },
     "execution_count": 28,
     "metadata": {},
     "output_type": "execute_result"
    }
   ],
   "source": [
    "vinny.ErrorCode.value_counts()"
   ]
  },
  {
   "cell_type": "code",
   "execution_count": 29,
   "id": "8df1ca56",
   "metadata": {},
   "outputs": [
    {
     "data": {
      "text/plain": [
       "(100665, 150)"
      ]
     },
     "execution_count": 29,
     "metadata": {},
     "output_type": "execute_result"
    }
   ],
   "source": [
    "vindf = vinny[vinny.ErrorCode == '0']\n",
    "vinny_errors = vinny[vinny.ErrorCode != '0']\n",
    "vindf.shape"
   ]
  },
  {
   "cell_type": "markdown",
   "id": "6409dab4",
   "metadata": {},
   "source": [
    "**Incomplete vehicles, buses, motorcycles, trailers, and low speed vehicles are small part of data and should be dropped**"
   ]
  },
  {
   "cell_type": "code",
   "execution_count": 30,
   "id": "0c525c21",
   "metadata": {},
   "outputs": [
    {
     "data": {
      "text/plain": [
       "VehicleType\n",
       "PASSENGER CAR                           39751\n",
       "MULTIPURPOSE PASSENGER VEHICLE (MPV)    37466\n",
       "TRUCK                                   21101\n",
       "INCOMPLETE VEHICLE                       2003\n",
       "BUS                                       234\n",
       "MOTORCYCLE                                 57\n",
       "TRAILER                                    50\n",
       "LOW SPEED VEHICLE (LSV)                     3\n",
       "Name: count, dtype: int64"
      ]
     },
     "execution_count": 30,
     "metadata": {},
     "output_type": "execute_result"
    }
   ],
   "source": [
    "vindf.VehicleType.value_counts()"
   ]
  },
  {
   "cell_type": "code",
   "execution_count": 31,
   "id": "dd4989dc",
   "metadata": {},
   "outputs": [],
   "source": [
    "vindf = vindf[vindf.VehicleType.isin(['PASSENGER CAR', 'MULTIPURPOSE PASSENGER VEHICLE (MPV)', 'TRUCK'])]"
   ]
  },
  {
   "cell_type": "code",
   "execution_count": 32,
   "id": "99bf6bdb",
   "metadata": {},
   "outputs": [
    {
     "data": {
      "text/plain": [
       "{'ABS': 72883,\n",
       " 'ActiveSafetySysNote': 90900,\n",
       " 'AdaptiveCruiseControl': 89378,\n",
       " 'AdaptiveDrivingBeam': 90062,\n",
       " 'AdaptiveHeadlights': 98318,\n",
       " 'AdditionalErrorText': 98318,\n",
       " 'AirBagLocCurtain': 48799,\n",
       " 'AirBagLocFront': 9992,\n",
       " 'AirBagLocKnee': 76233,\n",
       " 'AirBagLocSeatCushion': 95430,\n",
       " 'AirBagLocSide': 19060,\n",
       " 'AutoReverseSystem': 77154,\n",
       " 'AutomaticPedestrianAlertingSound': 97133,\n",
       " 'AxleConfiguration': 98313,\n",
       " 'Axles': 76761,\n",
       " 'BasePrice': 81798,\n",
       " 'BatteryA': 98307,\n",
       " 'BatteryA_to': 98318,\n",
       " 'BatteryCells': 98316,\n",
       " 'BatteryInfo': 97981,\n",
       " 'BatteryKWh': 98179,\n",
       " 'BatteryKWh_to': 98249,\n",
       " 'BatteryModules': 98318,\n",
       " 'BatteryPacks': 97644,\n",
       " 'BatteryType': 97930,\n",
       " 'BatteryV': 98040,\n",
       " 'BatteryV_to': 98318,\n",
       " 'BedLengthIN': 98088,\n",
       " 'BedType': 56577,\n",
       " 'BlindSpotIntervention': 98300,\n",
       " 'BlindSpotMon': 86082,\n",
       " 'BodyCabType': 40960,\n",
       " 'BodyClass': 1,\n",
       " 'BrakeSystemDesc': 96944,\n",
       " 'BrakeSystemType': 61057,\n",
       " 'BusFloorConfigType': 0,\n",
       " 'BusLength': 98318,\n",
       " 'BusType': 0,\n",
       " 'CAN_AACN': 86124,\n",
       " 'CIB': 86900,\n",
       " 'CashForClunkers': 98318,\n",
       " 'ChargerLevel': 98273,\n",
       " 'ChargerPowerKW': 98232,\n",
       " 'CoolingType': 88562,\n",
       " 'CurbWeightLB': 97009,\n",
       " 'CustomMotorcycleType': 0,\n",
       " 'DaytimeRunningLight': 78218,\n",
       " 'DestinationMarket': 95270,\n",
       " 'DisplacementCC': 868,\n",
       " 'DisplacementCI': 868,\n",
       " 'DisplacementL': 868,\n",
       " 'Doors': 16330,\n",
       " 'DriveType': 27491,\n",
       " 'DriverAssist': 98318,\n",
       " 'DynamicBrakeSupport': 76922,\n",
       " 'EDR': 97483,\n",
       " 'ESC': 75416,\n",
       " 'EVDriveUnit': 98161,\n",
       " 'ElectrificationLevel': 95487,\n",
       " 'EngineConfiguration': 36417,\n",
       " 'EngineCycles': 92505,\n",
       " 'EngineCylinders': 8960,\n",
       " 'EngineHP': 45274,\n",
       " 'EngineHP_to': 92014,\n",
       " 'EngineKW': 97834,\n",
       " 'EngineManufacturer': 51259,\n",
       " 'EngineModel': 45454,\n",
       " 'EntertainmentSystem': 96360,\n",
       " 'ErrorCode': 0,\n",
       " 'ErrorText': 0,\n",
       " 'ForwardCollisionWarning': 85630,\n",
       " 'FuelInjectionType': 72849,\n",
       " 'FuelTypePrimary': 3318,\n",
       " 'FuelTypeSecondary': 88885,\n",
       " 'GCWR': 98318,\n",
       " 'GCWR_to': 98318,\n",
       " 'GVWR': 972,\n",
       " 'GVWR_to': 59925,\n",
       " 'KeylessIgnition': 83755,\n",
       " 'LaneCenteringAssistance': 98219,\n",
       " 'LaneDepartureWarning': 86899,\n",
       " 'LaneKeepSystem': 88564,\n",
       " 'LowerBeamHeadlampLightSource': 95646,\n",
       " 'Make': 0,\n",
       " 'MakeID': 0,\n",
       " 'Manufacturer': 0,\n",
       " 'ManufacturerId': 0,\n",
       " 'Model': 0,\n",
       " 'ModelID': 0,\n",
       " 'ModelYear': 0,\n",
       " 'MotorcycleChassisType': 0,\n",
       " 'MotorcycleSuspensionType': 0,\n",
       " 'NCSABodyType': 98318,\n",
       " 'NCSAMake': 98318,\n",
       " 'NCSAMapExcApprovedBy': 98318,\n",
       " 'NCSAMapExcApprovedOn': 98318,\n",
       " 'NCSAMappingException': 98318,\n",
       " 'NCSAModel': 98318,\n",
       " 'NCSANote': 98318,\n",
       " 'NonLandUse': 98318,\n",
       " 'Note': 83526,\n",
       " 'OtherBusInfo': 98318,\n",
       " 'OtherEngineInfo': 66152,\n",
       " 'OtherMotorcycleInfo': 98318,\n",
       " 'OtherRestraintSystemInfo': 63396,\n",
       " 'OtherTrailerInfo': 98318,\n",
       " 'ParkAssist': 94139,\n",
       " 'PedestrianAutomaticEmergencyBraking': 92227,\n",
       " 'PlantCity': 3004,\n",
       " 'PlantCompanyName': 28500,\n",
       " 'PlantCountry': 83,\n",
       " 'PlantState': 20430,\n",
       " 'PossibleValues': 98318,\n",
       " 'Pretensioner': 89820,\n",
       " 'RearAutomaticEmergencyBraking': 98250,\n",
       " 'RearCrossTrafficAlert': 96264,\n",
       " 'RearVisibilitySystem': 75924,\n",
       " 'SAEAutomationLevel': 98278,\n",
       " 'SAEAutomationLevel_to': 98318,\n",
       " 'SeatBeltsAll': 10258,\n",
       " 'SeatRows': 77923,\n",
       " 'Seats': 76614,\n",
       " 'SemiautomaticHeadlampBeamSwitching': 77691,\n",
       " 'Series': 41007,\n",
       " 'Series2': 80548,\n",
       " 'SteeringLocation': 67705,\n",
       " 'SuggestedVIN': 98318,\n",
       " 'TPMS': 21806,\n",
       " 'TopSpeedMPH': 88531,\n",
       " 'TrackWidth': 97464,\n",
       " 'TractionControl': 76176,\n",
       " 'TrailerBodyType': 0,\n",
       " 'TrailerLength': 98318,\n",
       " 'TrailerType': 0,\n",
       " 'TransmissionSpeeds': 78833,\n",
       " 'TransmissionStyle': 70340,\n",
       " 'Trim': 44492,\n",
       " 'Trim2': 95618,\n",
       " 'Turbo': 78875,\n",
       " 'VIN': 0,\n",
       " 'ValveTrainDesign': 65002,\n",
       " 'VehicleDescriptor': 0,\n",
       " 'VehicleType': 0,\n",
       " 'WheelBaseLong': 97193,\n",
       " 'WheelBaseShort': 78243,\n",
       " 'WheelBaseType': 93941,\n",
       " 'WheelSizeFront': 81581,\n",
       " 'WheelSizeRear': 81590,\n",
       " 'Wheels': 74972,\n",
       " 'Windows': 94599}"
      ]
     },
     "execution_count": 32,
     "metadata": {},
     "output_type": "execute_result"
    }
   ],
   "source": [
    "vindf.isnull().sum().to_dict()"
   ]
  },
  {
   "cell_type": "markdown",
   "id": "88469245",
   "metadata": {},
   "source": [
    "**Way too many useless rows! Some are 100% null. Dropping the columns that are over 98% null.**"
   ]
  },
  {
   "cell_type": "code",
   "execution_count": 33,
   "id": "eacd7ec9",
   "metadata": {},
   "outputs": [
    {
     "data": {
      "text/plain": [
       "['AdaptiveHeadlights',\n",
       " 'AdditionalErrorText',\n",
       " 'AutomaticPedestrianAlertingSound',\n",
       " 'AxleConfiguration',\n",
       " 'BatteryA',\n",
       " 'BatteryA_to',\n",
       " 'BatteryCells',\n",
       " 'BatteryInfo',\n",
       " 'BatteryKWh',\n",
       " 'BatteryKWh_to',\n",
       " 'BatteryModules',\n",
       " 'BatteryPacks',\n",
       " 'BatteryType',\n",
       " 'BatteryV',\n",
       " 'BatteryV_to',\n",
       " 'BedLengthIN',\n",
       " 'BlindSpotIntervention',\n",
       " 'BrakeSystemDesc',\n",
       " 'BusLength',\n",
       " 'CashForClunkers',\n",
       " 'ChargerLevel',\n",
       " 'ChargerPowerKW',\n",
       " 'CurbWeightLB',\n",
       " 'DriverAssist',\n",
       " 'EDR',\n",
       " 'EVDriveUnit',\n",
       " 'EngineKW',\n",
       " 'EntertainmentSystem',\n",
       " 'GCWR',\n",
       " 'GCWR_to',\n",
       " 'LaneCenteringAssistance',\n",
       " 'NCSABodyType',\n",
       " 'NCSAMake',\n",
       " 'NCSAMapExcApprovedBy',\n",
       " 'NCSAMapExcApprovedOn',\n",
       " 'NCSAMappingException',\n",
       " 'NCSAModel',\n",
       " 'NCSANote',\n",
       " 'NonLandUse',\n",
       " 'OtherBusInfo',\n",
       " 'OtherMotorcycleInfo',\n",
       " 'OtherTrailerInfo',\n",
       " 'PossibleValues',\n",
       " 'RearAutomaticEmergencyBraking',\n",
       " 'SAEAutomationLevel',\n",
       " 'SAEAutomationLevel_to',\n",
       " 'SuggestedVIN',\n",
       " 'TrackWidth',\n",
       " 'TrailerLength',\n",
       " 'WheelBaseLong']"
      ]
     },
     "execution_count": 33,
     "metadata": {},
     "output_type": "execute_result"
    }
   ],
   "source": [
    "dropCols = []\n",
    "for k,v in vindf.isnull().sum().to_dict().items():\n",
    "    if v > (0.98 * 98318):\n",
    "        dropCols.append(k)\n",
    "dropCols"
   ]
  },
  {
   "cell_type": "code",
   "execution_count": 34,
   "id": "1b3681ee",
   "metadata": {},
   "outputs": [],
   "source": [
    "vindf.drop(columns=dropCols, axis = 1, inplace=True)"
   ]
  },
  {
   "cell_type": "code",
   "execution_count": 35,
   "id": "66e0e9cc",
   "metadata": {},
   "outputs": [
    {
     "data": {
      "text/plain": [
       "(98318, 100)"
      ]
     },
     "execution_count": 35,
     "metadata": {},
     "output_type": "execute_result"
    }
   ],
   "source": [
    "vindf.shape"
   ]
  },
  {
   "cell_type": "markdown",
   "id": "b73c43ca",
   "metadata": {},
   "source": [
    "**Wow. 50 rows gone. Nice!**\n",
    "\n",
    "**Now, time to merge these columns with the craigslist data according to their VIN.**"
   ]
  },
  {
   "cell_type": "code",
   "execution_count": 36,
   "id": "bcf54498",
   "metadata": {},
   "outputs": [
    {
     "name": "stdout",
     "output_type": "stream",
     "text": [
      "New Data: 98318 rows\n",
      "Original: 96571 rows\n"
     ]
    }
   ],
   "source": [
    "print('New Data: ' + str(len(vindf)) + ' rows')\n",
    "print('Original: ' + str(len(vin_df)) + ' rows')"
   ]
  },
  {
   "cell_type": "code",
   "execution_count": 37,
   "id": "4aa2f31e",
   "metadata": {},
   "outputs": [
    {
     "data": {
      "text/plain": [
       "['VIN']"
      ]
     },
     "execution_count": 37,
     "metadata": {},
     "output_type": "execute_result"
    }
   ],
   "source": [
    "cols = df.columns.to_list()\n",
    "cols2 = vindf.columns.to_list()\n",
    "list(set(cols) & set(cols2))"
   ]
  },
  {
   "cell_type": "code",
   "execution_count": 38,
   "id": "a7cb187d",
   "metadata": {},
   "outputs": [
    {
     "name": "stdout",
     "output_type": "stream",
     "text": [
      "API data, VIN column datatype: object\n",
      "Craigslist data, VIN column datatype: object\n"
     ]
    }
   ],
   "source": [
    "#vinbigdf = pd.concat(vin_df, \n",
    "#vindf.join(vin_df, on='VIN', rsuffix='_craigslist')\n",
    "print('API data, VIN column datatype: ' + str(vindf['VIN'].dtype))\n",
    "print('Craigslist data, VIN column datatype: ' + str(vin_df['VIN'].dtype))"
   ]
  },
  {
   "cell_type": "code",
   "execution_count": 39,
   "id": "e44c0ab0",
   "metadata": {},
   "outputs": [
    {
     "data": {
      "text/plain": [
       "(166561, 126)"
      ]
     },
     "execution_count": 39,
     "metadata": {},
     "output_type": "execute_result"
    }
   ],
   "source": [
    "testdf2 = pd.concat([vindf,vin_df], axis=1)\n",
    "testdf2.shape"
   ]
  },
  {
   "cell_type": "code",
   "execution_count": 40,
   "id": "b3dccc8b",
   "metadata": {},
   "outputs": [
    {
     "data": {
      "text/plain": [
       "dtype('O')"
      ]
     },
     "execution_count": 40,
     "metadata": {},
     "output_type": "execute_result"
    }
   ],
   "source": [
    "vin_df['VIN'].dtype"
   ]
  },
  {
   "cell_type": "code",
   "execution_count": 41,
   "id": "e27ce2b3",
   "metadata": {},
   "outputs": [
    {
     "data": {
      "text/plain": [
       "27        3GTP1VEC4EG551563\n",
       "28        1GCSCSE06AZ123805\n",
       "29        3GCPWCED5LG130317\n",
       "30        5TFRM5F17HX120972\n",
       "32        1GT220CG8CZ231238\n",
       "                ...        \n",
       "426682    56ZL1UJ20KP000149\n",
       "426727    2A8GF68446R882658\n",
       "426737    2HGES15535H620534\n",
       "426746    1FDWF37P64EA24868\n",
       "426833    SAJGX2749VCOO8376\n",
       "Name: VIN, Length: 96571, dtype: object"
      ]
     },
     "execution_count": 41,
     "metadata": {},
     "output_type": "execute_result"
    }
   ],
   "source": [
    "vindf['VIN'].apply(str)\n",
    "vin_df['VIN'].apply(str)"
   ]
  },
  {
   "cell_type": "code",
   "execution_count": 45,
   "id": "6fcb4a9d",
   "metadata": {},
   "outputs": [
    {
     "name": "stdout",
     "output_type": "stream",
     "text": [
      "True\n"
     ]
    },
    {
     "data": {
      "text/plain": [
       "True"
      ]
     },
     "execution_count": 45,
     "metadata": {},
     "output_type": "execute_result"
    }
   ],
   "source": [
    "#vindf.merge(vin_df, on='VIN')\n",
    "#vindf.columns\n",
    "\n",
    "print(vindf.VIN.is_unique)\n",
    "vin_df.VIN.is_unique"
   ]
  },
  {
   "cell_type": "code",
   "execution_count": 49,
   "id": "3ca9839b",
   "metadata": {},
   "outputs": [],
   "source": [
    "api_vins = vindf.VIN.to_list()\n",
    "\n",
    "craig_vins = vin_df.VIN.to_list()"
   ]
  },
  {
   "cell_type": "code",
   "execution_count": 52,
   "id": "d8d481c3",
   "metadata": {},
   "outputs": [
    {
     "name": "stdout",
     "output_type": "stream",
     "text": [
      "Does every element of craig_vins is in api_vins ? : False\n"
     ]
    }
   ],
   "source": [
    "res = set(craig_vins).issubset(api_vins)\n",
    " \n",
    "# Printing result\n",
    "print(\"Does every element of craig_vins is in api_vins ? : \" + str(res))"
   ]
  },
  {
   "cell_type": "code",
   "execution_count": 54,
   "id": "77b5c857",
   "metadata": {},
   "outputs": [
    {
     "data": {
      "text/plain": [
       "8827"
      ]
     },
     "execution_count": 54,
     "metadata": {},
     "output_type": "execute_result"
    }
   ],
   "source": [
    "len(set(craig_vins) ^ set(api_vins))"
   ]
  },
  {
   "cell_type": "code",
   "execution_count": 55,
   "id": "2b5e3f60",
   "metadata": {},
   "outputs": [
    {
     "data": {
      "text/plain": [
       "93031"
      ]
     },
     "execution_count": 55,
     "metadata": {},
     "output_type": "execute_result"
    }
   ],
   "source": [
    "len(list(set(craig_vins) & set(api_vins)))"
   ]
  },
  {
   "cell_type": "code",
   "execution_count": 56,
   "id": "3d3749f2",
   "metadata": {},
   "outputs": [
    {
     "data": {
      "text/plain": [
       "Index(['ABS', 'ActiveSafetySysNote', 'AdaptiveCruiseControl',\n",
       "       'AdaptiveDrivingBeam', 'AirBagLocCurtain', 'AirBagLocFront',\n",
       "       'AirBagLocKnee', 'AirBagLocSeatCushion', 'AirBagLocSide',\n",
       "       'AutoReverseSystem',\n",
       "       ...\n",
       "       'size', 'type', 'paint_color', 'image_url', 'description', 'county',\n",
       "       'state', 'lat', 'long', 'posting_date'],\n",
       "      dtype='object', length=125)"
      ]
     },
     "execution_count": 56,
     "metadata": {},
     "output_type": "execute_result"
    }
   ],
   "source": [
    "merged_df = vindf.merge(vin_df, on='VIN')"
   ]
  },
  {
   "cell_type": "code",
   "execution_count": 57,
   "id": "2d154c44",
   "metadata": {},
   "outputs": [
    {
     "data": {
      "text/plain": [
       "['ABS',\n",
       " 'ActiveSafetySysNote',\n",
       " 'AdaptiveCruiseControl',\n",
       " 'AdaptiveDrivingBeam',\n",
       " 'AirBagLocCurtain',\n",
       " 'AirBagLocFront',\n",
       " 'AirBagLocKnee',\n",
       " 'AirBagLocSeatCushion',\n",
       " 'AirBagLocSide',\n",
       " 'AutoReverseSystem',\n",
       " 'Axles',\n",
       " 'BasePrice',\n",
       " 'BedType',\n",
       " 'BlindSpotMon',\n",
       " 'BodyCabType',\n",
       " 'BodyClass',\n",
       " 'BrakeSystemType',\n",
       " 'BusFloorConfigType',\n",
       " 'BusType',\n",
       " 'CAN_AACN',\n",
       " 'CIB',\n",
       " 'CoolingType',\n",
       " 'CustomMotorcycleType',\n",
       " 'DaytimeRunningLight',\n",
       " 'DestinationMarket',\n",
       " 'DisplacementCC',\n",
       " 'DisplacementCI',\n",
       " 'DisplacementL',\n",
       " 'Doors',\n",
       " 'DriveType',\n",
       " 'DynamicBrakeSupport',\n",
       " 'ESC',\n",
       " 'ElectrificationLevel',\n",
       " 'EngineConfiguration',\n",
       " 'EngineCycles',\n",
       " 'EngineCylinders',\n",
       " 'EngineHP',\n",
       " 'EngineHP_to',\n",
       " 'EngineManufacturer',\n",
       " 'EngineModel',\n",
       " 'ErrorCode',\n",
       " 'ErrorText',\n",
       " 'ForwardCollisionWarning',\n",
       " 'FuelInjectionType',\n",
       " 'FuelTypePrimary',\n",
       " 'FuelTypeSecondary',\n",
       " 'GVWR',\n",
       " 'GVWR_to',\n",
       " 'KeylessIgnition',\n",
       " 'LaneDepartureWarning',\n",
       " 'LaneKeepSystem',\n",
       " 'LowerBeamHeadlampLightSource',\n",
       " 'Make',\n",
       " 'MakeID',\n",
       " 'Manufacturer',\n",
       " 'ManufacturerId',\n",
       " 'Model',\n",
       " 'ModelID',\n",
       " 'ModelYear',\n",
       " 'MotorcycleChassisType',\n",
       " 'MotorcycleSuspensionType',\n",
       " 'Note',\n",
       " 'OtherEngineInfo',\n",
       " 'OtherRestraintSystemInfo',\n",
       " 'ParkAssist',\n",
       " 'PedestrianAutomaticEmergencyBraking',\n",
       " 'PlantCity',\n",
       " 'PlantCompanyName',\n",
       " 'PlantCountry',\n",
       " 'PlantState',\n",
       " 'Pretensioner',\n",
       " 'RearCrossTrafficAlert',\n",
       " 'RearVisibilitySystem',\n",
       " 'SeatBeltsAll',\n",
       " 'SeatRows',\n",
       " 'Seats',\n",
       " 'SemiautomaticHeadlampBeamSwitching',\n",
       " 'Series',\n",
       " 'Series2',\n",
       " 'SteeringLocation',\n",
       " 'TPMS',\n",
       " 'TopSpeedMPH',\n",
       " 'TractionControl',\n",
       " 'TrailerBodyType',\n",
       " 'TrailerType',\n",
       " 'TransmissionSpeeds',\n",
       " 'TransmissionStyle',\n",
       " 'Trim',\n",
       " 'Trim2',\n",
       " 'Turbo',\n",
       " 'VIN',\n",
       " 'ValveTrainDesign',\n",
       " 'VehicleDescriptor',\n",
       " 'VehicleType',\n",
       " 'WheelBaseShort',\n",
       " 'WheelBaseType',\n",
       " 'WheelSizeFront',\n",
       " 'WheelSizeRear',\n",
       " 'Wheels',\n",
       " 'Windows',\n",
       " 'id',\n",
       " 'url',\n",
       " 'region',\n",
       " 'region_url',\n",
       " 'price',\n",
       " 'year',\n",
       " 'manufacturer',\n",
       " 'model',\n",
       " 'condition',\n",
       " 'cylinders',\n",
       " 'fuel',\n",
       " 'odometer',\n",
       " 'title_status',\n",
       " 'transmission',\n",
       " 'drive',\n",
       " 'size',\n",
       " 'type',\n",
       " 'paint_color',\n",
       " 'image_url',\n",
       " 'description',\n",
       " 'county',\n",
       " 'state',\n",
       " 'lat',\n",
       " 'long',\n",
       " 'posting_date']"
      ]
     },
     "execution_count": 57,
     "metadata": {},
     "output_type": "execute_result"
    }
   ],
   "source": [
    "merged_df.columns.to_list()"
   ]
  },
  {
   "cell_type": "code",
   "execution_count": 58,
   "id": "1ba7958a",
   "metadata": {},
   "outputs": [
    {
     "data": {
      "text/plain": [
       "(93031, 125)"
      ]
     },
     "execution_count": 58,
     "metadata": {},
     "output_type": "execute_result"
    }
   ],
   "source": [
    "merged_df.shape"
   ]
  },
  {
   "cell_type": "code",
   "execution_count": 59,
   "id": "d8dac21d",
   "metadata": {},
   "outputs": [
    {
     "data": {
      "text/plain": [
       "True"
      ]
     },
     "execution_count": 59,
     "metadata": {},
     "output_type": "execute_result"
    }
   ],
   "source": [
    "merged_df.VIN.is_unique"
   ]
  },
  {
   "cell_type": "code",
   "execution_count": 60,
   "id": "c220c871",
   "metadata": {},
   "outputs": [],
   "source": [
    "merged_df.to_csv('merged_vins.csv', index=False)"
   ]
  },
  {
   "cell_type": "code",
   "execution_count": null,
   "id": "1e7cb5b3",
   "metadata": {},
   "outputs": [],
   "source": []
  }
 ],
 "metadata": {
  "kernelspec": {
   "display_name": "Python 3 (ipykernel)",
   "language": "python",
   "name": "python3"
  },
  "language_info": {
   "codemirror_mode": {
    "name": "ipython",
    "version": 3
   },
   "file_extension": ".py",
   "mimetype": "text/x-python",
   "name": "python",
   "nbconvert_exporter": "python",
   "pygments_lexer": "ipython3",
   "version": "3.11.7"
  }
 },
 "nbformat": 4,
 "nbformat_minor": 5
}
