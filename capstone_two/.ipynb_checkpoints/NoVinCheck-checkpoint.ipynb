{
 "cells": [
  {
   "cell_type": "code",
   "execution_count": 1,
   "id": "1e833733",
   "metadata": {},
   "outputs": [],
   "source": [
    "import pandas as pd\n",
    "import numpy as np\n",
    "import seaborn as sns\n",
    "import matplotlib.pyplot as plt"
   ]
  },
  {
   "cell_type": "code",
   "execution_count": 2,
   "id": "3299f2ab",
   "metadata": {},
   "outputs": [
    {
     "data": {
      "text/html": [
       "<div>\n",
       "<style scoped>\n",
       "    .dataframe tbody tr th:only-of-type {\n",
       "        vertical-align: middle;\n",
       "    }\n",
       "\n",
       "    .dataframe tbody tr th {\n",
       "        vertical-align: top;\n",
       "    }\n",
       "\n",
       "    .dataframe thead th {\n",
       "        text-align: right;\n",
       "    }\n",
       "</style>\n",
       "<table border=\"1\" class=\"dataframe\">\n",
       "  <thead>\n",
       "    <tr style=\"text-align: right;\">\n",
       "      <th></th>\n",
       "      <th>id</th>\n",
       "      <th>url</th>\n",
       "      <th>region</th>\n",
       "      <th>region_url</th>\n",
       "      <th>price</th>\n",
       "      <th>year</th>\n",
       "      <th>manufacturer</th>\n",
       "      <th>model</th>\n",
       "      <th>condition</th>\n",
       "      <th>cylinders</th>\n",
       "      <th>...</th>\n",
       "      <th>size</th>\n",
       "      <th>type</th>\n",
       "      <th>paint_color</th>\n",
       "      <th>image_url</th>\n",
       "      <th>description</th>\n",
       "      <th>county</th>\n",
       "      <th>state</th>\n",
       "      <th>lat</th>\n",
       "      <th>long</th>\n",
       "      <th>posting_date</th>\n",
       "    </tr>\n",
       "  </thead>\n",
       "  <tbody>\n",
       "    <tr>\n",
       "      <th>0</th>\n",
       "      <td>7222695916</td>\n",
       "      <td>https://prescott.craigslist.org/cto/d/prescott...</td>\n",
       "      <td>prescott</td>\n",
       "      <td>https://prescott.craigslist.org</td>\n",
       "      <td>6000</td>\n",
       "      <td>NaN</td>\n",
       "      <td>NaN</td>\n",
       "      <td>NaN</td>\n",
       "      <td>NaN</td>\n",
       "      <td>NaN</td>\n",
       "      <td>...</td>\n",
       "      <td>NaN</td>\n",
       "      <td>NaN</td>\n",
       "      <td>NaN</td>\n",
       "      <td>NaN</td>\n",
       "      <td>NaN</td>\n",
       "      <td>NaN</td>\n",
       "      <td>az</td>\n",
       "      <td>NaN</td>\n",
       "      <td>NaN</td>\n",
       "      <td>NaN</td>\n",
       "    </tr>\n",
       "    <tr>\n",
       "      <th>1</th>\n",
       "      <td>7218891961</td>\n",
       "      <td>https://fayar.craigslist.org/ctd/d/bentonville...</td>\n",
       "      <td>fayetteville</td>\n",
       "      <td>https://fayar.craigslist.org</td>\n",
       "      <td>11900</td>\n",
       "      <td>NaN</td>\n",
       "      <td>NaN</td>\n",
       "      <td>NaN</td>\n",
       "      <td>NaN</td>\n",
       "      <td>NaN</td>\n",
       "      <td>...</td>\n",
       "      <td>NaN</td>\n",
       "      <td>NaN</td>\n",
       "      <td>NaN</td>\n",
       "      <td>NaN</td>\n",
       "      <td>NaN</td>\n",
       "      <td>NaN</td>\n",
       "      <td>ar</td>\n",
       "      <td>NaN</td>\n",
       "      <td>NaN</td>\n",
       "      <td>NaN</td>\n",
       "    </tr>\n",
       "    <tr>\n",
       "      <th>2</th>\n",
       "      <td>7221797935</td>\n",
       "      <td>https://keys.craigslist.org/cto/d/summerland-k...</td>\n",
       "      <td>florida keys</td>\n",
       "      <td>https://keys.craigslist.org</td>\n",
       "      <td>21000</td>\n",
       "      <td>NaN</td>\n",
       "      <td>NaN</td>\n",
       "      <td>NaN</td>\n",
       "      <td>NaN</td>\n",
       "      <td>NaN</td>\n",
       "      <td>...</td>\n",
       "      <td>NaN</td>\n",
       "      <td>NaN</td>\n",
       "      <td>NaN</td>\n",
       "      <td>NaN</td>\n",
       "      <td>NaN</td>\n",
       "      <td>NaN</td>\n",
       "      <td>fl</td>\n",
       "      <td>NaN</td>\n",
       "      <td>NaN</td>\n",
       "      <td>NaN</td>\n",
       "    </tr>\n",
       "    <tr>\n",
       "      <th>3</th>\n",
       "      <td>7222270760</td>\n",
       "      <td>https://worcester.craigslist.org/cto/d/west-br...</td>\n",
       "      <td>worcester / central MA</td>\n",
       "      <td>https://worcester.craigslist.org</td>\n",
       "      <td>1500</td>\n",
       "      <td>NaN</td>\n",
       "      <td>NaN</td>\n",
       "      <td>NaN</td>\n",
       "      <td>NaN</td>\n",
       "      <td>NaN</td>\n",
       "      <td>...</td>\n",
       "      <td>NaN</td>\n",
       "      <td>NaN</td>\n",
       "      <td>NaN</td>\n",
       "      <td>NaN</td>\n",
       "      <td>NaN</td>\n",
       "      <td>NaN</td>\n",
       "      <td>ma</td>\n",
       "      <td>NaN</td>\n",
       "      <td>NaN</td>\n",
       "      <td>NaN</td>\n",
       "    </tr>\n",
       "    <tr>\n",
       "      <th>4</th>\n",
       "      <td>7210384030</td>\n",
       "      <td>https://greensboro.craigslist.org/cto/d/trinit...</td>\n",
       "      <td>greensboro</td>\n",
       "      <td>https://greensboro.craigslist.org</td>\n",
       "      <td>4900</td>\n",
       "      <td>NaN</td>\n",
       "      <td>NaN</td>\n",
       "      <td>NaN</td>\n",
       "      <td>NaN</td>\n",
       "      <td>NaN</td>\n",
       "      <td>...</td>\n",
       "      <td>NaN</td>\n",
       "      <td>NaN</td>\n",
       "      <td>NaN</td>\n",
       "      <td>NaN</td>\n",
       "      <td>NaN</td>\n",
       "      <td>NaN</td>\n",
       "      <td>nc</td>\n",
       "      <td>NaN</td>\n",
       "      <td>NaN</td>\n",
       "      <td>NaN</td>\n",
       "    </tr>\n",
       "  </tbody>\n",
       "</table>\n",
       "<p>5 rows × 26 columns</p>\n",
       "</div>"
      ],
      "text/plain": [
       "           id                                                url  \\\n",
       "0  7222695916  https://prescott.craigslist.org/cto/d/prescott...   \n",
       "1  7218891961  https://fayar.craigslist.org/ctd/d/bentonville...   \n",
       "2  7221797935  https://keys.craigslist.org/cto/d/summerland-k...   \n",
       "3  7222270760  https://worcester.craigslist.org/cto/d/west-br...   \n",
       "4  7210384030  https://greensboro.craigslist.org/cto/d/trinit...   \n",
       "\n",
       "                   region                         region_url  price  year  \\\n",
       "0                prescott    https://prescott.craigslist.org   6000   NaN   \n",
       "1            fayetteville       https://fayar.craigslist.org  11900   NaN   \n",
       "2            florida keys        https://keys.craigslist.org  21000   NaN   \n",
       "3  worcester / central MA   https://worcester.craigslist.org   1500   NaN   \n",
       "4              greensboro  https://greensboro.craigslist.org   4900   NaN   \n",
       "\n",
       "  manufacturer model condition cylinders  ... size  type paint_color  \\\n",
       "0          NaN   NaN       NaN       NaN  ...  NaN   NaN         NaN   \n",
       "1          NaN   NaN       NaN       NaN  ...  NaN   NaN         NaN   \n",
       "2          NaN   NaN       NaN       NaN  ...  NaN   NaN         NaN   \n",
       "3          NaN   NaN       NaN       NaN  ...  NaN   NaN         NaN   \n",
       "4          NaN   NaN       NaN       NaN  ...  NaN   NaN         NaN   \n",
       "\n",
       "  image_url description county state lat long posting_date  \n",
       "0       NaN         NaN    NaN    az NaN  NaN          NaN  \n",
       "1       NaN         NaN    NaN    ar NaN  NaN          NaN  \n",
       "2       NaN         NaN    NaN    fl NaN  NaN          NaN  \n",
       "3       NaN         NaN    NaN    ma NaN  NaN          NaN  \n",
       "4       NaN         NaN    NaN    nc NaN  NaN          NaN  \n",
       "\n",
       "[5 rows x 26 columns]"
      ]
     },
     "execution_count": 2,
     "metadata": {},
     "output_type": "execute_result"
    }
   ],
   "source": [
    "df = pd.read_csv('data/vehicles.csv')\n",
    "df.head()"
   ]
  },
  {
   "cell_type": "code",
   "execution_count": 3,
   "id": "52656746",
   "metadata": {},
   "outputs": [
    {
     "data": {
      "text/plain": [
       "id                   0\n",
       "url                  0\n",
       "region               0\n",
       "region_url           0\n",
       "price                0\n",
       "year              1205\n",
       "manufacturer     17646\n",
       "model             5277\n",
       "condition       174104\n",
       "cylinders       177678\n",
       "fuel              3013\n",
       "odometer          4400\n",
       "title_status      8242\n",
       "transmission      2556\n",
       "VIN             161042\n",
       "drive           130567\n",
       "size            306361\n",
       "type             92858\n",
       "paint_color     130203\n",
       "image_url           68\n",
       "description         70\n",
       "county          426880\n",
       "state                0\n",
       "lat               6549\n",
       "long              6549\n",
       "posting_date        68\n",
       "dtype: int64"
      ]
     },
     "execution_count": 3,
     "metadata": {},
     "output_type": "execute_result"
    }
   ],
   "source": [
    "df.isnull().sum()"
   ]
  },
  {
   "cell_type": "code",
   "execution_count": 4,
   "id": "b191ca8a",
   "metadata": {},
   "outputs": [
    {
     "data": {
      "text/plain": [
       "Index(['id', 'url', 'region', 'region_url', 'price', 'year', 'manufacturer',\n",
       "       'model', 'condition', 'cylinders', 'fuel', 'odometer', 'title_status',\n",
       "       'transmission', 'VIN', 'drive', 'size', 'type', 'paint_color',\n",
       "       'image_url', 'description', 'county', 'state', 'lat', 'long',\n",
       "       'posting_date'],\n",
       "      dtype='object')"
      ]
     },
     "execution_count": 4,
     "metadata": {},
     "output_type": "execute_result"
    }
   ],
   "source": [
    "df.columns"
   ]
  },
  {
   "cell_type": "markdown",
   "id": "3b247f19",
   "metadata": {},
   "source": [
    "**Salvage cars do not run so they cannot be used. Although, new cars make some sense, it is dropped from this dataset.**"
   ]
  },
  {
   "cell_type": "code",
   "execution_count": 5,
   "id": "742017bf",
   "metadata": {},
   "outputs": [
    {
     "data": {
      "text/plain": [
       "condition\n",
       "good         121456\n",
       "excellent    101467\n",
       "like new      21178\n",
       "fair           6769\n",
       "new            1305\n",
       "salvage         601\n",
       "Name: count, dtype: int64"
      ]
     },
     "execution_count": 5,
     "metadata": {},
     "output_type": "execute_result"
    }
   ],
   "source": [
    "df.condition.value_counts()"
   ]
  },
  {
   "cell_type": "code",
   "execution_count": 6,
   "id": "0c4cf7d0",
   "metadata": {},
   "outputs": [
    {
     "data": {
      "text/plain": [
       "condition\n",
       "good         121456\n",
       "excellent    101467\n",
       "like new      21178\n",
       "fair           6769\n",
       "Name: count, dtype: int64"
      ]
     },
     "execution_count": 6,
     "metadata": {},
     "output_type": "execute_result"
    }
   ],
   "source": [
    "df.drop(df[df.condition.isin(['new','salvage'])].index, inplace=True)\n",
    "df.condition.value_counts()"
   ]
  },
  {
   "cell_type": "code",
   "execution_count": 7,
   "id": "1124e7fa",
   "metadata": {},
   "outputs": [
    {
     "data": {
      "text/plain": [
       "title_status\n",
       "clean         403666\n",
       "rebuilt         7166\n",
       "salvage         3593\n",
       "lien            1394\n",
       "missing          760\n",
       "parts only       153\n",
       "Name: count, dtype: int64"
      ]
     },
     "execution_count": 7,
     "metadata": {},
     "output_type": "execute_result"
    }
   ],
   "source": [
    "df.title_status.value_counts()"
   ]
  },
  {
   "cell_type": "markdown",
   "id": "950ad527",
   "metadata": {},
   "source": [
    "**'Lien' cars have outstanding loans on the car, 'Missing' means they do not have the title. 'Salvage' and 'Parts Only' are cars that do not run. 'Rebuilt' adds an extra element of risk.**"
   ]
  },
  {
   "cell_type": "code",
   "execution_count": 8,
   "id": "5d955686",
   "metadata": {},
   "outputs": [
    {
     "data": {
      "text/plain": [
       "title_status\n",
       "clean    403666\n",
       "Name: count, dtype: int64"
      ]
     },
     "execution_count": 8,
     "metadata": {},
     "output_type": "execute_result"
    }
   ],
   "source": [
    "df = df[df.title_status == 'clean']\n",
    "df.title_status.value_counts()"
   ]
  },
  {
   "cell_type": "code",
   "execution_count": 9,
   "id": "58680eaa",
   "metadata": {},
   "outputs": [],
   "source": [
    "df['posting_date'] = pd.to_datetime(df['posting_date'], utc=True)"
   ]
  },
  {
   "cell_type": "markdown",
   "id": "0f4947c9",
   "metadata": {},
   "source": [
    "**It is good that the posting date are all within one month. This means that the market conditions (inflation, etc.) are all equal for the dataset.**"
   ]
  },
  {
   "cell_type": "code",
   "execution_count": 10,
   "id": "21c9f93f",
   "metadata": {},
   "outputs": [
    {
     "name": "stdout",
     "output_type": "stream",
     "text": [
      "Earliest posting_date: 2021-04-04 07:00:25+00:00 \n",
      "Latest posting_date: 2021-05-05 04:24:09+00:00\n"
     ]
    }
   ],
   "source": [
    "print(f\"Earliest posting_date: {df.posting_date.min()} \\nLatest posting_date: {df.posting_date.max()}\")"
   ]
  },
  {
   "cell_type": "markdown",
   "id": "fbbe3a5e",
   "metadata": {},
   "source": [
    "**That's one cheap and expensive car! Something is not right here.**"
   ]
  },
  {
   "cell_type": "code",
   "execution_count": 11,
   "id": "3db026db",
   "metadata": {},
   "outputs": [
    {
     "name": "stdout",
     "output_type": "stream",
     "text": [
      "Maximum price: 3736928711 $\n",
      "Minimum price: 0 $\n"
     ]
    }
   ],
   "source": [
    "print(f\"Maximum price: {df.price.max()} $\\nMinimum price: {df.price.min()} $\")"
   ]
  },
  {
   "cell_type": "code",
   "execution_count": 12,
   "id": "2a7c1fad",
   "metadata": {},
   "outputs": [
    {
     "data": {
      "text/plain": [
       "(array([4.9562e+04, 2.4012e+04, 3.1633e+04, 3.1352e+04, 2.6398e+04,\n",
       "        2.0065e+04, 1.9643e+04, 2.0292e+04, 1.8593e+04, 1.7775e+04,\n",
       "        1.2824e+04, 1.3109e+04, 1.4234e+04, 1.3275e+04, 1.3839e+04,\n",
       "        1.0135e+04, 1.0280e+04, 1.0287e+04, 8.3130e+03, 1.0037e+04,\n",
       "        3.8530e+03, 3.6290e+03, 3.1600e+03, 2.3580e+03, 2.6230e+03,\n",
       "        1.1650e+03, 1.5590e+03, 1.4300e+03, 8.6500e+02, 1.4530e+03,\n",
       "        4.0500e+02, 6.2000e+02, 7.4100e+02, 3.8500e+02, 8.1300e+02,\n",
       "        2.3400e+02, 3.4400e+02, 2.8600e+02, 2.0300e+02, 3.6900e+02,\n",
       "        9.4000e+01, 1.6900e+02, 1.7700e+02, 1.0400e+02, 1.1600e+02,\n",
       "        3.1000e+01, 3.7000e+01, 5.0000e+01, 1.9000e+01, 1.1900e+02]),\n",
       " array([     0.,   2000.,   4000.,   6000.,   8000.,  10000.,  12000.,\n",
       "         14000.,  16000.,  18000.,  20000.,  22000.,  24000.,  26000.,\n",
       "         28000.,  30000.,  32000.,  34000.,  36000.,  38000.,  40000.,\n",
       "         42000.,  44000.,  46000.,  48000.,  50000.,  52000.,  54000.,\n",
       "         56000.,  58000.,  60000.,  62000.,  64000.,  66000.,  68000.,\n",
       "         70000.,  72000.,  74000.,  76000.,  78000.,  80000.,  82000.,\n",
       "         84000.,  86000.,  88000.,  90000.,  92000.,  94000.,  96000.,\n",
       "         98000., 100000.]),\n",
       " <BarContainer object of 50 artists>)"
      ]
     },
     "execution_count": 12,
     "metadata": {},
     "output_type": "execute_result"
    },
    {
     "data": {
      "image/png": "[encoded data removed]",
      "text/plain": [
       "<Figure size 640x480 with 1 Axes>"
      ]
     },
     "metadata": {},
     "output_type": "display_data"
    }
   ],
   "source": [
    "plt.hist(df.price, bins=50, range=[0,100000])"
   ]
  },
  {
   "cell_type": "markdown",
   "id": "08515f22",
   "metadata": {},
   "source": [
    "**That many cars should not be within 0 and 2000 dollars (each bin is 2000). I set the minimum allowed price at 500 for this data. Anything set to 0 is likely a fake price set to entice buyers**"
   ]
  },
  {
   "cell_type": "code",
   "execution_count": 13,
   "id": "5aa715b7",
   "metadata": {},
   "outputs": [],
   "source": [
    "df.drop(df[df.price < 500].index, inplace = True)"
   ]
  },
  {
   "cell_type": "code",
   "execution_count": 14,
   "id": "c20f7b0a",
   "metadata": {},
   "outputs": [],
   "source": [
    "df.drop(df[df.price > 150000].index, inplace = True)"
   ]
  },
  {
   "cell_type": "code",
   "execution_count": 15,
   "id": "f47861c5",
   "metadata": {},
   "outputs": [
    {
     "data": {
      "text/plain": [
       "(array([ 1434.,  3203.,  3297.,  4110.,  7389.,  7418.,  8488.,  7218.,\n",
       "         9518., 12958.,  7468., 10226.,  5806., 10000., 11793.,  4428.,\n",
       "         9280.,  3302.,  7346.,  8166.,  3875.,  7137.,  3005.,  6815.,\n",
       "         8988.,  3856.,  6913.,  3340.,  6607.,  7992.,  3039.,  5949.,\n",
       "         2585.,  7060.,  4998.,  2281.,  5155.,  2324.,  4606.,  5711.,\n",
       "         2033.,  6223.,  1513.,  4906.,  6102.,  2071.,  5016.,  2041.,\n",
       "         3842.,  7995.]),\n",
       " array([    0.,   600.,  1200.,  1800.,  2400.,  3000.,  3600.,  4200.,\n",
       "         4800.,  5400.,  6000.,  6600.,  7200.,  7800.,  8400.,  9000.,\n",
       "         9600., 10200., 10800., 11400., 12000., 12600., 13200., 13800.,\n",
       "        14400., 15000., 15600., 16200., 16800., 17400., 18000., 18600.,\n",
       "        19200., 19800., 20400., 21000., 21600., 22200., 22800., 23400.,\n",
       "        24000., 24600., 25200., 25800., 26400., 27000., 27600., 28200.,\n",
       "        28800., 29400., 30000.]),\n",
       " <BarContainer object of 50 artists>)"
      ]
     },
     "execution_count": 15,
     "metadata": {},
     "output_type": "execute_result"
    },
    {
     "data": {
      "image/png": "[encoded data removed]",
      "text/plain": [
       "<Figure size 640x480 with 1 Axes>"
      ]
     },
     "metadata": {},
     "output_type": "display_data"
    }
   ],
   "source": [
    "plt.hist(df.price[df.price <= 30000], bins=50, range=[0,30000])"
   ]
  },
  {
   "cell_type": "markdown",
   "id": "36748a76",
   "metadata": {},
   "source": [
    "**Most dollar prices below 500 are fake. Used cars worth more than 150,000 are outliers. Both have been dropped.**"
   ]
  },
  {
   "cell_type": "code",
   "execution_count": 16,
   "id": "08242096",
   "metadata": {},
   "outputs": [
    {
     "data": {
      "text/plain": [
       "(array([5.00000e+00, 4.30000e+01, 3.61000e+02, 4.35000e+02, 1.21300e+03,\n",
       "        3.08500e+03, 3.16100e+03, 7.11200e+03, 6.85130e+04, 2.60613e+05]),\n",
       " array([1900. , 1911.9, 1923.8, 1935.7, 1947.6, 1959.5, 1971.4, 1983.3,\n",
       "        1995.2, 2007.1, 2019. ]),\n",
       " <BarContainer object of 10 artists>)"
      ]
     },
     "execution_count": 16,
     "metadata": {},
     "output_type": "execute_result"
    },
    {
     "data": {
      "image/png": "[encoded data removed]",
      "text/plain": [
       "<Figure size 640x480 with 1 Axes>"
      ]
     },
     "metadata": {},
     "output_type": "display_data"
    }
   ],
   "source": [
    "plt.hist(df.year[df['year'] < 2020])#.describe()"
   ]
  },
  {
   "cell_type": "markdown",
   "id": "2899ed1a",
   "metadata": {},
   "source": [
    "**Most of the data are for cars released between 2000 and 2020. Barely any are below 1995. However, I was lenient and set the threshold as any car made after 1970.**"
   ]
  },
  {
   "cell_type": "code",
   "execution_count": 17,
   "id": "beab8e3c",
   "metadata": {},
   "outputs": [
    {
     "data": {
      "text/plain": [
       "(array([  781.,   553.,  1845.,  1902.,  1582.,  1913.,  3130.,  7291.,\n",
       "        29740., 74225.]),\n",
       " array([1950. , 1956.1, 1962.2, 1968.3, 1974.4, 1980.5, 1986.6, 1992.7,\n",
       "        1998.8, 2004.9, 2011. ]),\n",
       " <BarContainer object of 10 artists>)"
      ]
     },
     "execution_count": 17,
     "metadata": {},
     "output_type": "execute_result"
    },
    {
     "data": {
      "image/png": "[encoded data removed]",
      "text/plain": [
       "<Figure size 640x480 with 1 Axes>"
      ]
     },
     "metadata": {},
     "output_type": "display_data"
    }
   ],
   "source": [
    "plt.hist(df.year[df['year'] < 2011], range=[1950, 2011])#.describe()"
   ]
  },
  {
   "cell_type": "markdown",
   "id": "fc3cd1de",
   "metadata": {},
   "source": [
    "**Years before 1970 are more 'antique' cars, are outliers, and should be dropped.**"
   ]
  },
  {
   "cell_type": "code",
   "execution_count": 18,
   "id": "c220e736",
   "metadata": {},
   "outputs": [],
   "source": [
    "df.drop(df[df.year <= 1970].index, inplace = True)"
   ]
  },
  {
   "cell_type": "markdown",
   "id": "f9a221a9",
   "metadata": {},
   "source": [
    "**14,340 rows missing manufacturers, \n",
    "4,157 rows missing model,\n",
    "759 rows missing year**\n",
    "\n",
    "**These can be found using the VIN number if it is not null (137,980 are null). The dataframe can be split into those with VIN and those without and the VIN can be used to input manufacturer, model, year, and other information.**\n",
    "\n",
    "\n",
    "**Rows without odometer information should be dropped.**"
   ]
  },
  {
   "cell_type": "code",
   "execution_count": 20,
   "id": "f5a62782",
   "metadata": {},
   "outputs": [],
   "source": [
    "df = df[df.odometer.notna()]"
   ]
  },
  {
   "cell_type": "code",
   "execution_count": 25,
   "id": "3681c4fc",
   "metadata": {},
   "outputs": [
    {
     "data": {
      "text/plain": [
       "id                   0\n",
       "url                  0\n",
       "region               0\n",
       "region_url           0\n",
       "price                0\n",
       "year               758\n",
       "manufacturer     13314\n",
       "model             3616\n",
       "condition       137665\n",
       "cylinders       149663\n",
       "fuel              1702\n",
       "odometer             0\n",
       "title_status         0\n",
       "transmission      1453\n",
       "VIN             132685\n",
       "drive           107427\n",
       "size            257462\n",
       "type             75821\n",
       "paint_color      99408\n",
       "image_url            0\n",
       "description          2\n",
       "county          356628\n",
       "state                0\n",
       "lat               3352\n",
       "long              3352\n",
       "posting_date         0\n",
       "dtype: int64"
      ]
     },
     "execution_count": 25,
     "metadata": {},
     "output_type": "execute_result"
    }
   ],
   "source": [
    "df.isnull().sum()"
   ]
  },
  {
   "cell_type": "code",
   "execution_count": 21,
   "id": "e966d2d1",
   "metadata": {},
   "outputs": [
    {
     "data": {
      "text/plain": [
       "(356628, 26)"
      ]
     },
     "execution_count": 21,
     "metadata": {},
     "output_type": "execute_result"
    }
   ],
   "source": [
    "df.shape"
   ]
  },
  {
   "cell_type": "code",
   "execution_count": 22,
   "id": "4845d599",
   "metadata": {},
   "outputs": [],
   "source": [
    "df2 = df[df.VIN.isnull()]"
   ]
  },
  {
   "cell_type": "code",
   "execution_count": 23,
   "id": "8c054380",
   "metadata": {},
   "outputs": [
    {
     "data": {
      "text/plain": [
       "(132685, 26)"
      ]
     },
     "execution_count": 23,
     "metadata": {},
     "output_type": "execute_result"
    }
   ],
   "source": [
    "df2.shape"
   ]
  },
  {
   "cell_type": "code",
   "execution_count": 26,
   "id": "9c994f12",
   "metadata": {},
   "outputs": [
    {
     "data": {
      "text/plain": [
       "id                   0\n",
       "url                  0\n",
       "region               0\n",
       "region_url           0\n",
       "price                0\n",
       "year                 0\n",
       "manufacturer      6904\n",
       "model             2385\n",
       "condition        48297\n",
       "cylinders        46522\n",
       "fuel                21\n",
       "odometer             0\n",
       "title_status         0\n",
       "transmission         5\n",
       "VIN             132685\n",
       "drive            47230\n",
       "size             75558\n",
       "type             52973\n",
       "paint_color      50051\n",
       "image_url            0\n",
       "description          1\n",
       "county          132685\n",
       "state                0\n",
       "lat               2172\n",
       "long              2172\n",
       "posting_date         0\n",
       "dtype: int64"
      ]
     },
     "execution_count": 26,
     "metadata": {},
     "output_type": "execute_result"
    }
   ],
   "source": [
    "df2.isnull().sum()"
   ]
  },
  {
   "cell_type": "code",
   "execution_count": 42,
   "id": "7708e57b",
   "metadata": {},
   "outputs": [
    {
     "data": {
      "text/plain": [
       "(317236, 26)"
      ]
     },
     "execution_count": 42,
     "metadata": {},
     "output_type": "execute_result"
    }
   ],
   "source": [
    "c = ['price', 'year', 'manufacturer', 'model', 'condition', 'cylinders', 'fuel', 'odometer', 'VIN', 'description', 'state']\n",
    "\n",
    "df3 = df.drop_duplicates(subset=c)\n",
    "df3.shape"
   ]
  },
  {
   "cell_type": "code",
   "execution_count": 40,
   "id": "cf92a1f9",
   "metadata": {},
   "outputs": [
    {
     "data": {
      "text/plain": [
       "['id',\n",
       " 'url',\n",
       " 'region',\n",
       " 'region_url',\n",
       " 'price',\n",
       " 'year',\n",
       " 'manufacturer',\n",
       " 'model',\n",
       " 'condition',\n",
       " 'cylinders',\n",
       " 'fuel',\n",
       " 'odometer',\n",
       " 'title_status',\n",
       " 'transmission',\n",
       " 'VIN',\n",
       " 'drive',\n",
       " 'size',\n",
       " 'type',\n",
       " 'paint_color',\n",
       " 'image_url',\n",
       " 'description',\n",
       " 'county',\n",
       " 'state',\n",
       " 'lat',\n",
       " 'long',\n",
       " 'posting_date']"
      ]
     },
     "execution_count": 40,
     "metadata": {},
     "output_type": "execute_result"
    }
   ],
   "source": [
    "df.columns.tolist()"
   ]
  },
  {
   "cell_type": "code",
   "execution_count": 55,
   "id": "ce1a5db4",
   "metadata": {},
   "outputs": [],
   "source": [
    "scdf = df[df['model'].str.contains('Scion',na=False)]"
   ]
  },
  {
   "cell_type": "code",
   "execution_count": 59,
   "id": "8522187c",
   "metadata": {},
   "outputs": [
    {
     "data": {
      "text/plain": [
       "id                 0\n",
       "url                0\n",
       "region             0\n",
       "region_url         0\n",
       "price              0\n",
       "year               0\n",
       "manufacturer    1393\n",
       "model              0\n",
       "condition        168\n",
       "cylinders       1107\n",
       "fuel               3\n",
       "odometer           0\n",
       "title_status       0\n",
       "transmission       0\n",
       "VIN              117\n",
       "drive            183\n",
       "size            1281\n",
       "type              74\n",
       "paint_color      193\n",
       "image_url          0\n",
       "description        0\n",
       "county          1393\n",
       "state              0\n",
       "lat                4\n",
       "long               4\n",
       "posting_date       0\n",
       "dtype: int64"
      ]
     },
     "execution_count": 59,
     "metadata": {},
     "output_type": "execute_result"
    }
   ],
   "source": [
    "scdf.isnull().sum()"
   ]
  },
  {
   "cell_type": "code",
   "execution_count": null,
   "id": "25b32648",
   "metadata": {},
   "outputs": [],
   "source": []
  },
  {
   "cell_type": "code",
   "execution_count": 38,
   "id": "62b0c8d6",
   "metadata": {},
   "outputs": [
    {
     "data": {
      "text/html": [
       "<div>\n",
       "<style scoped>\n",
       "    .dataframe tbody tr th:only-of-type {\n",
       "        vertical-align: middle;\n",
       "    }\n",
       "\n",
       "    .dataframe tbody tr th {\n",
       "        vertical-align: top;\n",
       "    }\n",
       "\n",
       "    .dataframe thead th {\n",
       "        text-align: right;\n",
       "    }\n",
       "</style>\n",
       "<table border=\"1\" class=\"dataframe\">\n",
       "  <thead>\n",
       "    <tr style=\"text-align: right;\">\n",
       "      <th></th>\n",
       "      <th>id</th>\n",
       "      <th>url</th>\n",
       "      <th>region</th>\n",
       "      <th>region_url</th>\n",
       "      <th>price</th>\n",
       "      <th>year</th>\n",
       "      <th>manufacturer</th>\n",
       "      <th>model</th>\n",
       "      <th>condition</th>\n",
       "      <th>cylinders</th>\n",
       "      <th>...</th>\n",
       "      <th>size</th>\n",
       "      <th>type</th>\n",
       "      <th>paint_color</th>\n",
       "      <th>image_url</th>\n",
       "      <th>description</th>\n",
       "      <th>county</th>\n",
       "      <th>state</th>\n",
       "      <th>lat</th>\n",
       "      <th>long</th>\n",
       "      <th>posting_date</th>\n",
       "    </tr>\n",
       "  </thead>\n",
       "  <tbody>\n",
       "    <tr>\n",
       "      <th>308</th>\n",
       "      <td>7315603628</td>\n",
       "      <td>https://bham.craigslist.org/cto/d/birmingham-r...</td>\n",
       "      <td>birmingham</td>\n",
       "      <td>https://bham.craigslist.org</td>\n",
       "      <td>8500</td>\n",
       "      <td>2006.0</td>\n",
       "      <td>rover</td>\n",
       "      <td>NaN</td>\n",
       "      <td>good</td>\n",
       "      <td>8 cylinders</td>\n",
       "      <td>...</td>\n",
       "      <td>full-size</td>\n",
       "      <td>SUV</td>\n",
       "      <td>white</td>\n",
       "      <td>https://images.craigslist.org/01212_92wfsDnAqQ...</td>\n",
       "      <td>2006 Range Rover  Supercharged</td>\n",
       "      <td>NaN</td>\n",
       "      <td>al</td>\n",
       "      <td>33.381300</td>\n",
       "      <td>-86.704600</td>\n",
       "      <td>2021-05-02 01:17:02+00:00</td>\n",
       "    </tr>\n",
       "    <tr>\n",
       "      <th>414</th>\n",
       "      <td>7314590934</td>\n",
       "      <td>https://bham.craigslist.org/cto/d/ormond-beach...</td>\n",
       "      <td>birmingham</td>\n",
       "      <td>https://bham.craigslist.org</td>\n",
       "      <td>39900</td>\n",
       "      <td>2015.0</td>\n",
       "      <td>lincoln</td>\n",
       "      <td>NaN</td>\n",
       "      <td>NaN</td>\n",
       "      <td>NaN</td>\n",
       "      <td>...</td>\n",
       "      <td>NaN</td>\n",
       "      <td>NaN</td>\n",
       "      <td>NaN</td>\n",
       "      <td>https://images.craigslist.org/00i0i_8sGrGiSVN5...</td>\n",
       "      <td>beautiful 2015 Lincoln MKS personal limousine ...</td>\n",
       "      <td>NaN</td>\n",
       "      <td>al</td>\n",
       "      <td>29.283300</td>\n",
       "      <td>-81.088200</td>\n",
       "      <td>2021-04-29 23:26:24+00:00</td>\n",
       "    </tr>\n",
       "    <tr>\n",
       "      <th>729</th>\n",
       "      <td>7311795393</td>\n",
       "      <td>https://bham.craigslist.org/cto/d/townley-91-c...</td>\n",
       "      <td>birmingham</td>\n",
       "      <td>https://bham.craigslist.org</td>\n",
       "      <td>12000</td>\n",
       "      <td>1991.0</td>\n",
       "      <td>chevrolet</td>\n",
       "      <td>NaN</td>\n",
       "      <td>like new</td>\n",
       "      <td>NaN</td>\n",
       "      <td>...</td>\n",
       "      <td>NaN</td>\n",
       "      <td>NaN</td>\n",
       "      <td>grey</td>\n",
       "      <td>https://images.craigslist.org/00Z0Z_1hxBV231vo...</td>\n",
       "      <td>1991 Chevrolet Pickup 350 motor 40k miles on m...</td>\n",
       "      <td>NaN</td>\n",
       "      <td>al</td>\n",
       "      <td>33.847000</td>\n",
       "      <td>-87.437200</td>\n",
       "      <td>2021-04-24 12:52:05+00:00</td>\n",
       "    </tr>\n",
       "    <tr>\n",
       "      <th>1341</th>\n",
       "      <td>7306342905</td>\n",
       "      <td>https://bham.craigslist.org/cto/d/birmingham-2...</td>\n",
       "      <td>birmingham</td>\n",
       "      <td>https://bham.craigslist.org</td>\n",
       "      <td>25000</td>\n",
       "      <td>2013.0</td>\n",
       "      <td>jeep</td>\n",
       "      <td>NaN</td>\n",
       "      <td>excellent</td>\n",
       "      <td>NaN</td>\n",
       "      <td>...</td>\n",
       "      <td>NaN</td>\n",
       "      <td>NaN</td>\n",
       "      <td>black</td>\n",
       "      <td>https://images.craigslist.org/00M0M_fSBZCVKpIW...</td>\n",
       "      <td>2013 4 Door Hard Top Jeep Wrangler Sahara. 111...</td>\n",
       "      <td>NaN</td>\n",
       "      <td>al</td>\n",
       "      <td>33.396700</td>\n",
       "      <td>-86.834600</td>\n",
       "      <td>2021-04-13 20:07:09+00:00</td>\n",
       "    </tr>\n",
       "    <tr>\n",
       "      <th>2034</th>\n",
       "      <td>7306864678</td>\n",
       "      <td>https://dothan.craigslist.org/cto/d/tallahasse...</td>\n",
       "      <td>dothan</td>\n",
       "      <td>https://dothan.craigslist.org</td>\n",
       "      <td>18800</td>\n",
       "      <td>1978.0</td>\n",
       "      <td>chevrolet</td>\n",
       "      <td>NaN</td>\n",
       "      <td>good</td>\n",
       "      <td>8 cylinders</td>\n",
       "      <td>...</td>\n",
       "      <td>NaN</td>\n",
       "      <td>pickup</td>\n",
       "      <td>orange</td>\n",
       "      <td>https://images.craigslist.org/00z0z_3O9rlVKtDK...</td>\n",
       "      <td>1978 CHEVY C10 STEPSIDE SHORT BED PICKUP TRUCK...</td>\n",
       "      <td>NaN</td>\n",
       "      <td>al</td>\n",
       "      <td>30.447800</td>\n",
       "      <td>-84.321100</td>\n",
       "      <td>2021-04-14 20:16:29+00:00</td>\n",
       "    </tr>\n",
       "    <tr>\n",
       "      <th>...</th>\n",
       "      <td>...</td>\n",
       "      <td>...</td>\n",
       "      <td>...</td>\n",
       "      <td>...</td>\n",
       "      <td>...</td>\n",
       "      <td>...</td>\n",
       "      <td>...</td>\n",
       "      <td>...</td>\n",
       "      <td>...</td>\n",
       "      <td>...</td>\n",
       "      <td>...</td>\n",
       "      <td>...</td>\n",
       "      <td>...</td>\n",
       "      <td>...</td>\n",
       "      <td>...</td>\n",
       "      <td>...</td>\n",
       "      <td>...</td>\n",
       "      <td>...</td>\n",
       "      <td>...</td>\n",
       "      <td>...</td>\n",
       "      <td>...</td>\n",
       "    </tr>\n",
       "    <tr>\n",
       "      <th>426108</th>\n",
       "      <td>7305892728</td>\n",
       "      <td>https://wausau.craigslist.org/cto/d/rib-lake-1...</td>\n",
       "      <td>wausau</td>\n",
       "      <td>https://wausau.craigslist.org</td>\n",
       "      <td>1500</td>\n",
       "      <td>1993.0</td>\n",
       "      <td>ram</td>\n",
       "      <td>NaN</td>\n",
       "      <td>NaN</td>\n",
       "      <td>NaN</td>\n",
       "      <td>...</td>\n",
       "      <td>NaN</td>\n",
       "      <td>NaN</td>\n",
       "      <td>NaN</td>\n",
       "      <td>https://images.craigslist.org/00X0X_gmVhIhF0Ec...</td>\n",
       "      <td>1993 Dodge Power Ram 318 Magnum Automatic exl ...</td>\n",
       "      <td>NaN</td>\n",
       "      <td>wi</td>\n",
       "      <td>45.298400</td>\n",
       "      <td>-90.176300</td>\n",
       "      <td>2021-04-12 22:04:52+00:00</td>\n",
       "    </tr>\n",
       "    <tr>\n",
       "      <th>426271</th>\n",
       "      <td>7317007912</td>\n",
       "      <td>https://wyoming.craigslist.org/cto/d/craig-rat...</td>\n",
       "      <td>wyoming</td>\n",
       "      <td>https://wyoming.craigslist.org</td>\n",
       "      <td>7500</td>\n",
       "      <td>2000.0</td>\n",
       "      <td>ford</td>\n",
       "      <td>NaN</td>\n",
       "      <td>good</td>\n",
       "      <td>8 cylinders</td>\n",
       "      <td>...</td>\n",
       "      <td>NaN</td>\n",
       "      <td>pickup</td>\n",
       "      <td>black</td>\n",
       "      <td>https://images.craigslist.org/00U0U_glS2yTgTQw...</td>\n",
       "      <td>2000 RANGER CHOPED 4 IN,,, SUICIDE DOORS,,, 5,...</td>\n",
       "      <td>NaN</td>\n",
       "      <td>wy</td>\n",
       "      <td>40.733841</td>\n",
       "      <td>-107.687093</td>\n",
       "      <td>2021-05-04 23:17:34+00:00</td>\n",
       "    </tr>\n",
       "    <tr>\n",
       "      <th>426418</th>\n",
       "      <td>7312999192</td>\n",
       "      <td>https://wyoming.craigslist.org/ctd/d/cheyenne-...</td>\n",
       "      <td>wyoming</td>\n",
       "      <td>https://wyoming.craigslist.org</td>\n",
       "      <td>5695</td>\n",
       "      <td>1996.0</td>\n",
       "      <td>ford</td>\n",
       "      <td>NaN</td>\n",
       "      <td>excellent</td>\n",
       "      <td>8 cylinders</td>\n",
       "      <td>...</td>\n",
       "      <td>full-size</td>\n",
       "      <td>van</td>\n",
       "      <td>blue</td>\n",
       "      <td>https://images.craigslist.org/00y0y_2v8a0RCWIN...</td>\n",
       "      <td>gret running extended van pls call 3072864208 ...</td>\n",
       "      <td>NaN</td>\n",
       "      <td>wy</td>\n",
       "      <td>41.143700</td>\n",
       "      <td>-104.796200</td>\n",
       "      <td>2021-04-26 20:08:26+00:00</td>\n",
       "    </tr>\n",
       "    <tr>\n",
       "      <th>426519</th>\n",
       "      <td>7310712269</td>\n",
       "      <td>https://wyoming.craigslist.org/ctd/d/evansvill...</td>\n",
       "      <td>wyoming</td>\n",
       "      <td>https://wyoming.craigslist.org</td>\n",
       "      <td>7500</td>\n",
       "      <td>2012.0</td>\n",
       "      <td>chevrolet</td>\n",
       "      <td>NaN</td>\n",
       "      <td>NaN</td>\n",
       "      <td>6 cylinders</td>\n",
       "      <td>...</td>\n",
       "      <td>NaN</td>\n",
       "      <td>NaN</td>\n",
       "      <td>NaN</td>\n",
       "      <td>https://images.craigslist.org/00f0f_6obeD8MLhj...</td>\n",
       "      <td>Power windows, power locks, power mirrors, pow...</td>\n",
       "      <td>NaN</td>\n",
       "      <td>wy</td>\n",
       "      <td>42.899200</td>\n",
       "      <td>-106.175400</td>\n",
       "      <td>2021-04-22 04:45:06+00:00</td>\n",
       "    </tr>\n",
       "    <tr>\n",
       "      <th>426693</th>\n",
       "      <td>7305662521</td>\n",
       "      <td>https://wyoming.craigslist.org/ctd/d/conrad-20...</td>\n",
       "      <td>wyoming</td>\n",
       "      <td>https://wyoming.craigslist.org</td>\n",
       "      <td>39999</td>\n",
       "      <td>2017.0</td>\n",
       "      <td>jeep</td>\n",
       "      <td>NaN</td>\n",
       "      <td>NaN</td>\n",
       "      <td>NaN</td>\n",
       "      <td>...</td>\n",
       "      <td>NaN</td>\n",
       "      <td>NaN</td>\n",
       "      <td>NaN</td>\n",
       "      <td>https://images.craigslist.org/00303_1gTVEyef9X...</td>\n",
       "      <td>CALL OR TEXT BLAYNE @ 406-450-6788  2017 JEEP ...</td>\n",
       "      <td>NaN</td>\n",
       "      <td>wy</td>\n",
       "      <td>48.178300</td>\n",
       "      <td>-111.939700</td>\n",
       "      <td>2021-04-12 16:06:08+00:00</td>\n",
       "    </tr>\n",
       "  </tbody>\n",
       "</table>\n",
       "<p>2385 rows × 26 columns</p>\n",
       "</div>"
      ],
      "text/plain": [
       "                id                                                url  \\\n",
       "308     7315603628  https://bham.craigslist.org/cto/d/birmingham-r...   \n",
       "414     7314590934  https://bham.craigslist.org/cto/d/ormond-beach...   \n",
       "729     7311795393  https://bham.craigslist.org/cto/d/townley-91-c...   \n",
       "1341    7306342905  https://bham.craigslist.org/cto/d/birmingham-2...   \n",
       "2034    7306864678  https://dothan.craigslist.org/cto/d/tallahasse...   \n",
       "...            ...                                                ...   \n",
       "426108  7305892728  https://wausau.craigslist.org/cto/d/rib-lake-1...   \n",
       "426271  7317007912  https://wyoming.craigslist.org/cto/d/craig-rat...   \n",
       "426418  7312999192  https://wyoming.craigslist.org/ctd/d/cheyenne-...   \n",
       "426519  7310712269  https://wyoming.craigslist.org/ctd/d/evansvill...   \n",
       "426693  7305662521  https://wyoming.craigslist.org/ctd/d/conrad-20...   \n",
       "\n",
       "            region                      region_url  price    year  \\\n",
       "308     birmingham     https://bham.craigslist.org   8500  2006.0   \n",
       "414     birmingham     https://bham.craigslist.org  39900  2015.0   \n",
       "729     birmingham     https://bham.craigslist.org  12000  1991.0   \n",
       "1341    birmingham     https://bham.craigslist.org  25000  2013.0   \n",
       "2034        dothan   https://dothan.craigslist.org  18800  1978.0   \n",
       "...            ...                             ...    ...     ...   \n",
       "426108      wausau   https://wausau.craigslist.org   1500  1993.0   \n",
       "426271     wyoming  https://wyoming.craigslist.org   7500  2000.0   \n",
       "426418     wyoming  https://wyoming.craigslist.org   5695  1996.0   \n",
       "426519     wyoming  https://wyoming.craigslist.org   7500  2012.0   \n",
       "426693     wyoming  https://wyoming.craigslist.org  39999  2017.0   \n",
       "\n",
       "       manufacturer model  condition    cylinders  ...       size    type  \\\n",
       "308           rover   NaN       good  8 cylinders  ...  full-size     SUV   \n",
       "414         lincoln   NaN        NaN          NaN  ...        NaN     NaN   \n",
       "729       chevrolet   NaN   like new          NaN  ...        NaN     NaN   \n",
       "1341           jeep   NaN  excellent          NaN  ...        NaN     NaN   \n",
       "2034      chevrolet   NaN       good  8 cylinders  ...        NaN  pickup   \n",
       "...             ...   ...        ...          ...  ...        ...     ...   \n",
       "426108          ram   NaN        NaN          NaN  ...        NaN     NaN   \n",
       "426271         ford   NaN       good  8 cylinders  ...        NaN  pickup   \n",
       "426418         ford   NaN  excellent  8 cylinders  ...  full-size     van   \n",
       "426519    chevrolet   NaN        NaN  6 cylinders  ...        NaN     NaN   \n",
       "426693         jeep   NaN        NaN          NaN  ...        NaN     NaN   \n",
       "\n",
       "       paint_color                                          image_url  \\\n",
       "308          white  https://images.craigslist.org/01212_92wfsDnAqQ...   \n",
       "414            NaN  https://images.craigslist.org/00i0i_8sGrGiSVN5...   \n",
       "729           grey  https://images.craigslist.org/00Z0Z_1hxBV231vo...   \n",
       "1341         black  https://images.craigslist.org/00M0M_fSBZCVKpIW...   \n",
       "2034        orange  https://images.craigslist.org/00z0z_3O9rlVKtDK...   \n",
       "...            ...                                                ...   \n",
       "426108         NaN  https://images.craigslist.org/00X0X_gmVhIhF0Ec...   \n",
       "426271       black  https://images.craigslist.org/00U0U_glS2yTgTQw...   \n",
       "426418        blue  https://images.craigslist.org/00y0y_2v8a0RCWIN...   \n",
       "426519         NaN  https://images.craigslist.org/00f0f_6obeD8MLhj...   \n",
       "426693         NaN  https://images.craigslist.org/00303_1gTVEyef9X...   \n",
       "\n",
       "                                              description county state  \\\n",
       "308                        2006 Range Rover  Supercharged    NaN    al   \n",
       "414     beautiful 2015 Lincoln MKS personal limousine ...    NaN    al   \n",
       "729     1991 Chevrolet Pickup 350 motor 40k miles on m...    NaN    al   \n",
       "1341    2013 4 Door Hard Top Jeep Wrangler Sahara. 111...    NaN    al   \n",
       "2034    1978 CHEVY C10 STEPSIDE SHORT BED PICKUP TRUCK...    NaN    al   \n",
       "...                                                   ...    ...   ...   \n",
       "426108  1993 Dodge Power Ram 318 Magnum Automatic exl ...    NaN    wi   \n",
       "426271  2000 RANGER CHOPED 4 IN,,, SUICIDE DOORS,,, 5,...    NaN    wy   \n",
       "426418  gret running extended van pls call 3072864208 ...    NaN    wy   \n",
       "426519  Power windows, power locks, power mirrors, pow...    NaN    wy   \n",
       "426693  CALL OR TEXT BLAYNE @ 406-450-6788  2017 JEEP ...    NaN    wy   \n",
       "\n",
       "              lat        long              posting_date  \n",
       "308     33.381300  -86.704600 2021-05-02 01:17:02+00:00  \n",
       "414     29.283300  -81.088200 2021-04-29 23:26:24+00:00  \n",
       "729     33.847000  -87.437200 2021-04-24 12:52:05+00:00  \n",
       "1341    33.396700  -86.834600 2021-04-13 20:07:09+00:00  \n",
       "2034    30.447800  -84.321100 2021-04-14 20:16:29+00:00  \n",
       "...           ...         ...                       ...  \n",
       "426108  45.298400  -90.176300 2021-04-12 22:04:52+00:00  \n",
       "426271  40.733841 -107.687093 2021-05-04 23:17:34+00:00  \n",
       "426418  41.143700 -104.796200 2021-04-26 20:08:26+00:00  \n",
       "426519  42.899200 -106.175400 2021-04-22 04:45:06+00:00  \n",
       "426693  48.178300 -111.939700 2021-04-12 16:06:08+00:00  \n",
       "\n",
       "[2385 rows x 26 columns]"
      ]
     },
     "execution_count": 38,
     "metadata": {},
     "output_type": "execute_result"
    }
   ],
   "source": [
    "df2[(df2.model.isnull())]"
   ]
  }
 ],
 "metadata": {
  "kernelspec": {
   "display_name": "Python 3 (ipykernel)",
   "language": "python",
   "name": "python3"
  },
  "language_info": {
   "codemirror_mode": {
    "name": "ipython",
    "version": 3
   },
   "file_extension": ".py",
   "mimetype": "text/x-python",
   "name": "python",
   "nbconvert_exporter": "python",
   "pygments_lexer": "ipython3",
   "version": "3.11.7"
  }
 },
 "nbformat": 4,
 "nbformat_minor": 5
}
