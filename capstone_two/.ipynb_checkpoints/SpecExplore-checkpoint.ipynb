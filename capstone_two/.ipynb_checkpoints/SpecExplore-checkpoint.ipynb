{
 "cells": [
  {
   "cell_type": "code",
   "execution_count": 1,
   "id": "65199611",
   "metadata": {},
   "outputs": [],
   "source": [
    "import pandas as pd\n",
    "import numpy as np\n",
    "import seaborn as sns\n",
    "import matplotlib.pyplot as plt"
   ]
  },
  {
   "cell_type": "code",
   "execution_count": 10,
   "id": "ad690abc",
   "metadata": {},
   "outputs": [
    {
     "data": {
      "text/html": [
       "<div>\n",
       "<style scoped>\n",
       "    .dataframe tbody tr th:only-of-type {\n",
       "        vertical-align: middle;\n",
       "    }\n",
       "\n",
       "    .dataframe tbody tr th {\n",
       "        vertical-align: top;\n",
       "    }\n",
       "\n",
       "    .dataframe thead th {\n",
       "        text-align: right;\n",
       "    }\n",
       "</style>\n",
       "<table border=\"1\" class=\"dataframe\">\n",
       "  <thead>\n",
       "    <tr style=\"text-align: right;\">\n",
       "      <th></th>\n",
       "      <th>Genmodel_ID</th>\n",
       "      <th>Maker</th>\n",
       "      <th>Genmodel</th>\n",
       "      <th>Trim</th>\n",
       "      <th>Year</th>\n",
       "      <th>Price</th>\n",
       "      <th>Gas_emission</th>\n",
       "      <th>Fuel_type</th>\n",
       "      <th>Engine_size</th>\n",
       "    </tr>\n",
       "  </thead>\n",
       "  <tbody>\n",
       "    <tr>\n",
       "      <th>0</th>\n",
       "      <td>2_1</td>\n",
       "      <td>Abarth</td>\n",
       "      <td>124 spider</td>\n",
       "      <td>124 Spider1.4 Turbo MultiAir 170hp 2d</td>\n",
       "      <td>2016</td>\n",
       "      <td>29365</td>\n",
       "      <td>148</td>\n",
       "      <td>Petrol</td>\n",
       "      <td>1368</td>\n",
       "    </tr>\n",
       "    <tr>\n",
       "      <th>1</th>\n",
       "      <td>2_1</td>\n",
       "      <td>Abarth</td>\n",
       "      <td>124 spider</td>\n",
       "      <td>124 Spider1.4 Turbo MultiAir 170hp Sequenziale...</td>\n",
       "      <td>2016</td>\n",
       "      <td>31365</td>\n",
       "      <td>153</td>\n",
       "      <td>Petrol</td>\n",
       "      <td>1368</td>\n",
       "    </tr>\n",
       "    <tr>\n",
       "      <th>2</th>\n",
       "      <td>2_1</td>\n",
       "      <td>Abarth</td>\n",
       "      <td>124 spider</td>\n",
       "      <td>124 Spider1.4 Turbo MultiAir 170hp 2d</td>\n",
       "      <td>2017</td>\n",
       "      <td>29365</td>\n",
       "      <td>148</td>\n",
       "      <td>Petrol</td>\n",
       "      <td>1368</td>\n",
       "    </tr>\n",
       "    <tr>\n",
       "      <th>3</th>\n",
       "      <td>2_1</td>\n",
       "      <td>Abarth</td>\n",
       "      <td>124 spider</td>\n",
       "      <td>124 Spider1.4 Turbo MultiAir 170hp Sequenziale...</td>\n",
       "      <td>2017</td>\n",
       "      <td>31365</td>\n",
       "      <td>153</td>\n",
       "      <td>Petrol</td>\n",
       "      <td>1368</td>\n",
       "    </tr>\n",
       "    <tr>\n",
       "      <th>4</th>\n",
       "      <td>2_1</td>\n",
       "      <td>Abarth</td>\n",
       "      <td>124 spider</td>\n",
       "      <td>124 SpiderScorpione 1.4 Turbo MultiAir 170hp 2d</td>\n",
       "      <td>2017</td>\n",
       "      <td>26665</td>\n",
       "      <td>148</td>\n",
       "      <td>Petrol</td>\n",
       "      <td>1368</td>\n",
       "    </tr>\n",
       "  </tbody>\n",
       "</table>\n",
       "</div>"
      ],
      "text/plain": [
       "  Genmodel_ID   Maker    Genmodel  \\\n",
       "0         2_1  Abarth  124 spider   \n",
       "1         2_1  Abarth  124 spider   \n",
       "2         2_1  Abarth  124 spider   \n",
       "3         2_1  Abarth  124 spider   \n",
       "4         2_1  Abarth  124 spider   \n",
       "\n",
       "                                                Trim  Year  Price  \\\n",
       "0              124 Spider1.4 Turbo MultiAir 170hp 2d  2016  29365   \n",
       "1  124 Spider1.4 Turbo MultiAir 170hp Sequenziale...  2016  31365   \n",
       "2              124 Spider1.4 Turbo MultiAir 170hp 2d  2017  29365   \n",
       "3  124 Spider1.4 Turbo MultiAir 170hp Sequenziale...  2017  31365   \n",
       "4    124 SpiderScorpione 1.4 Turbo MultiAir 170hp 2d  2017  26665   \n",
       "\n",
       "   Gas_emission Fuel_type  Engine_size  \n",
       "0           148    Petrol         1368  \n",
       "1           153    Petrol         1368  \n",
       "2           148    Petrol         1368  \n",
       "3           153    Petrol         1368  \n",
       "4           148    Petrol         1368  "
      ]
     },
     "execution_count": 10,
     "metadata": {},
     "output_type": "execute_result"
    }
   ],
   "source": [
    "df = pd.read_csv('data/tables_v2.0/Trim_table.csv')\n",
    "df.head()"
   ]
  },
  {
   "cell_type": "code",
   "execution_count": 11,
   "id": "ef0c89c0",
   "metadata": {},
   "outputs": [
    {
     "data": {
      "text/plain": [
       "(335562, 9)"
      ]
     },
     "execution_count": 11,
     "metadata": {},
     "output_type": "execute_result"
    }
   ],
   "source": [
    "df.shape"
   ]
  },
  {
   "cell_type": "code",
   "execution_count": 18,
   "id": "d8878957",
   "metadata": {},
   "outputs": [
    {
     "data": {
      "text/html": [
       "<div>\n",
       "<style scoped>\n",
       "    .dataframe tbody tr th:only-of-type {\n",
       "        vertical-align: middle;\n",
       "    }\n",
       "\n",
       "    .dataframe tbody tr th {\n",
       "        vertical-align: top;\n",
       "    }\n",
       "\n",
       "    .dataframe thead th {\n",
       "        text-align: right;\n",
       "    }\n",
       "</style>\n",
       "<table border=\"1\" class=\"dataframe\">\n",
       "  <thead>\n",
       "    <tr style=\"text-align: right;\">\n",
       "      <th></th>\n",
       "      <th>Genmodel_ID</th>\n",
       "      <th>Maker</th>\n",
       "      <th>Genmodel</th>\n",
       "      <th>Trim</th>\n",
       "      <th>Year</th>\n",
       "      <th>Price</th>\n",
       "      <th>Gas_emission</th>\n",
       "      <th>Fuel_type</th>\n",
       "      <th>Engine_size</th>\n",
       "    </tr>\n",
       "  </thead>\n",
       "  <tbody>\n",
       "  </tbody>\n",
       "</table>\n",
       "</div>"
      ],
      "text/plain": [
       "Empty DataFrame\n",
       "Columns: [Genmodel_ID, Maker, Genmodel, Trim, Year, Price, Gas_emission, Fuel_type, Engine_size]\n",
       "Index: []"
      ]
     },
     "execution_count": 18,
     "metadata": {},
     "output_type": "execute_result"
    }
   ],
   "source": [
    "df[df['Maker'].isin(['Genesis','genesis'])]"
   ]
  },
  {
   "cell_type": "code",
   "execution_count": null,
   "id": "cf265882",
   "metadata": {},
   "outputs": [],
   "source": []
  }
 ],
 "metadata": {
  "kernelspec": {
   "display_name": "Python 3 (ipykernel)",
   "language": "python",
   "name": "python3"
  },
  "language_info": {
   "codemirror_mode": {
    "name": "ipython",
    "version": 3
   },
   "file_extension": ".py",
   "mimetype": "text/x-python",
   "name": "python",
   "nbconvert_exporter": "python",
   "pygments_lexer": "ipython3",
   "version": "3.11.7"
  }
 },
 "nbformat": 4,
 "nbformat_minor": 5
}
