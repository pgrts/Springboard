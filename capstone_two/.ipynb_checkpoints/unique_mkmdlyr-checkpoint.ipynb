{
 "cells": [
  {
   "cell_type": "code",
   "execution_count": 1,
   "id": "d15d0a25",
   "metadata": {},
   "outputs": [],
   "source": [
    "import pandas as pd\n",
    "df= pd.read_csv('merged_vins.csv')"
   ]
  },
  {
   "cell_type": "code",
   "execution_count": 3,
   "id": "63b6ca36",
   "metadata": {},
   "outputs": [],
   "source": [
    "df2 = df[['Make','Model','ModelYear']].drop_duplicates()"
   ]
  },
  {
   "cell_type": "code",
   "execution_count": 4,
   "id": "ff1953f8",
   "metadata": {},
   "outputs": [
    {
     "data": {
      "text/html": [
       "<div>\n",
       "<style scoped>\n",
       "    .dataframe tbody tr th:only-of-type {\n",
       "        vertical-align: middle;\n",
       "    }\n",
       "\n",
       "    .dataframe tbody tr th {\n",
       "        vertical-align: top;\n",
       "    }\n",
       "\n",
       "    .dataframe thead th {\n",
       "        text-align: right;\n",
       "    }\n",
       "</style>\n",
       "<table border=\"1\" class=\"dataframe\">\n",
       "  <thead>\n",
       "    <tr style=\"text-align: right;\">\n",
       "      <th></th>\n",
       "      <th>Make</th>\n",
       "      <th>Model</th>\n",
       "      <th>ModelYear</th>\n",
       "    </tr>\n",
       "  </thead>\n",
       "  <tbody>\n",
       "    <tr>\n",
       "      <th>0</th>\n",
       "      <td>GMC</td>\n",
       "      <td>Sierra</td>\n",
       "      <td>2014.0</td>\n",
       "    </tr>\n",
       "    <tr>\n",
       "      <th>1</th>\n",
       "      <td>CHEVROLET</td>\n",
       "      <td>Silverado</td>\n",
       "      <td>2010.0</td>\n",
       "    </tr>\n",
       "    <tr>\n",
       "      <th>2</th>\n",
       "      <td>CHEVROLET</td>\n",
       "      <td>Silverado</td>\n",
       "      <td>2020.0</td>\n",
       "    </tr>\n",
       "    <tr>\n",
       "      <th>3</th>\n",
       "      <td>TOYOTA</td>\n",
       "      <td>Tundra</td>\n",
       "      <td>2017.0</td>\n",
       "    </tr>\n",
       "    <tr>\n",
       "      <th>4</th>\n",
       "      <td>GMC</td>\n",
       "      <td>Sierra</td>\n",
       "      <td>2012.0</td>\n",
       "    </tr>\n",
       "  </tbody>\n",
       "</table>\n",
       "</div>"
      ],
      "text/plain": [
       "        Make      Model  ModelYear\n",
       "0        GMC     Sierra     2014.0\n",
       "1  CHEVROLET  Silverado     2010.0\n",
       "2  CHEVROLET  Silverado     2020.0\n",
       "3     TOYOTA     Tundra     2017.0\n",
       "4        GMC     Sierra     2012.0"
      ]
     },
     "execution_count": 4,
     "metadata": {},
     "output_type": "execute_result"
    }
   ],
   "source": [
    "df2.head()"
   ]
  },
  {
   "cell_type": "code",
   "execution_count": 8,
   "id": "0ad5820d",
   "metadata": {},
   "outputs": [
    {
     "data": {
      "text/plain": [
       "{'FORD': 496,\n",
       " 'CHEVROLET': 487,\n",
       " 'TOYOTA': 458,\n",
       " 'BMW': 438,\n",
       " 'NISSAN': 312,\n",
       " 'MERCEDES-BENZ': 270,\n",
       " 'AUDI': 216,\n",
       " 'HONDA': 208,\n",
       " 'DODGE': 189,\n",
       " 'LEXUS': 187,\n",
       " 'VOLKSWAGEN': 186,\n",
       " 'GMC': 182,\n",
       " 'HYUNDAI': 176,\n",
       " 'KIA': 153,\n",
       " 'MAZDA': 151,\n",
       " 'CADILLAC': 146,\n",
       " 'JEEP': 145,\n",
       " 'VOLVO': 143,\n",
       " 'BUICK': 124,\n",
       " 'SUBARU': 122,\n",
       " 'INFINITI': 121,\n",
       " 'LINCOLN': 119,\n",
       " 'MITSUBISHI': 111,\n",
       " 'ACURA': 110,\n",
       " 'CHRYSLER': 107,\n",
       " 'PORSCHE': 90,\n",
       " 'PONTIAC': 88,\n",
       " 'LAND ROVER': 85,\n",
       " 'JAGUAR': 81,\n",
       " 'MINI': 64,\n",
       " 'MERCURY': 59,\n",
       " 'RAM': 58,\n",
       " 'SATURN': 47,\n",
       " 'SUZUKI': 32,\n",
       " 'SAAB': 30,\n",
       " 'OLDSMOBILE': 28,\n",
       " 'MASERATI': 28,\n",
       " 'FIAT': 18,\n",
       " 'HUMMER': 17,\n",
       " 'TESLA': 17,\n",
       " 'FREIGHTLINER': 17,\n",
       " 'PETERBILT': 15,\n",
       " 'ISUZU': 13,\n",
       " 'BENTLEY': 12,\n",
       " 'ALFA ROMEO': 11,\n",
       " 'SMART': 10,\n",
       " 'KENWORTH': 9,\n",
       " 'INTERNATIONAL': 8,\n",
       " 'VOLVO TRUCK': 8,\n",
       " 'GENESIS': 8,\n",
       " 'PLYMOUTH': 6,\n",
       " 'LOTUS': 5,\n",
       " 'MACK': 5,\n",
       " 'ASTON MARTIN': 5,\n",
       " 'ROLLS-ROYCE': 4,\n",
       " 'STERLING TRUCK': 3,\n",
       " 'WESTERN STAR': 3,\n",
       " 'PIERCE MANUFACTURING': 3,\n",
       " 'E-ONE': 2,\n",
       " 'AM GENERAL': 2,\n",
       " 'THE VEHICLE PRODUCTION GROUP': 2,\n",
       " 'LAMBORGHINI': 2,\n",
       " 'FISKER': 1,\n",
       " 'KARMA': 1,\n",
       " 'WORKHORSE': 1,\n",
       " 'AVANTI': 1,\n",
       " 'FERRARI': 1,\n",
       " 'AMERICAN MOTORS': 1,\n",
       " 'CATERPILLAR': 1,\n",
       " 'MCLAREN': 1,\n",
       " 'GEO': 1,\n",
       " 'EAGLE': 1}"
      ]
     },
     "execution_count": 8,
     "metadata": {},
     "output_type": "execute_result"
    }
   ],
   "source": [
    "top_makes = df2.Make.value_counts().to_dict()\n",
    "top_makes"
   ]
  },
  {
   "cell_type": "code",
   "execution_count": 14,
   "id": "df5a43cd",
   "metadata": {},
   "outputs": [
    {
     "data": {
      "text/plain": [
       "30266    ZHWUC1ZF6FLA03167\n",
       "78340    ZHWGU54T39LA08037\n",
       "Name: VIN, dtype: object"
      ]
     },
     "execution_count": 14,
     "metadata": {},
     "output_type": "execute_result"
    }
   ],
   "source": [
    "df.VIN[df.Make == 'LAMBORGHINI']"
   ]
  },
  {
   "cell_type": "code",
   "execution_count": 10,
   "id": "1b2f88a0",
   "metadata": {},
   "outputs": [
    {
     "data": {
      "text/plain": [
       "['ABS',\n",
       " 'ActiveSafetySysNote',\n",
       " 'AdaptiveCruiseControl',\n",
       " 'AdaptiveDrivingBeam',\n",
       " 'AirBagLocCurtain',\n",
       " 'AirBagLocFront',\n",
       " 'AirBagLocKnee',\n",
       " 'AirBagLocSeatCushion',\n",
       " 'AirBagLocSide',\n",
       " 'AutoReverseSystem',\n",
       " 'Axles',\n",
       " 'BasePrice',\n",
       " 'BedType',\n",
       " 'BlindSpotMon',\n",
       " 'BodyCabType',\n",
       " 'BodyClass',\n",
       " 'BrakeSystemType',\n",
       " 'BusFloorConfigType',\n",
       " 'BusType',\n",
       " 'CAN_AACN',\n",
       " 'CIB',\n",
       " 'CoolingType',\n",
       " 'CustomMotorcycleType',\n",
       " 'DaytimeRunningLight',\n",
       " 'DestinationMarket',\n",
       " 'DisplacementCC',\n",
       " 'DisplacementCI',\n",
       " 'DisplacementL',\n",
       " 'Doors',\n",
       " 'DriveType',\n",
       " 'DynamicBrakeSupport',\n",
       " 'ESC',\n",
       " 'ElectrificationLevel',\n",
       " 'EngineConfiguration',\n",
       " 'EngineCycles',\n",
       " 'EngineCylinders',\n",
       " 'EngineHP',\n",
       " 'EngineHP_to',\n",
       " 'EngineManufacturer',\n",
       " 'EngineModel',\n",
       " 'ErrorCode',\n",
       " 'ErrorText',\n",
       " 'ForwardCollisionWarning',\n",
       " 'FuelInjectionType',\n",
       " 'FuelTypePrimary',\n",
       " 'FuelTypeSecondary',\n",
       " 'GVWR',\n",
       " 'GVWR_to',\n",
       " 'KeylessIgnition',\n",
       " 'LaneDepartureWarning',\n",
       " 'LaneKeepSystem',\n",
       " 'LowerBeamHeadlampLightSource',\n",
       " 'Make',\n",
       " 'MakeID',\n",
       " 'Manufacturer',\n",
       " 'ManufacturerId',\n",
       " 'Model',\n",
       " 'ModelID',\n",
       " 'ModelYear',\n",
       " 'MotorcycleChassisType',\n",
       " 'MotorcycleSuspensionType',\n",
       " 'Note',\n",
       " 'OtherEngineInfo',\n",
       " 'OtherRestraintSystemInfo',\n",
       " 'ParkAssist',\n",
       " 'PedestrianAutomaticEmergencyBraking',\n",
       " 'PlantCity',\n",
       " 'PlantCompanyName',\n",
       " 'PlantCountry',\n",
       " 'PlantState',\n",
       " 'Pretensioner',\n",
       " 'RearCrossTrafficAlert',\n",
       " 'RearVisibilitySystem',\n",
       " 'SeatBeltsAll',\n",
       " 'SeatRows',\n",
       " 'Seats',\n",
       " 'SemiautomaticHeadlampBeamSwitching',\n",
       " 'Series',\n",
       " 'Series2',\n",
       " 'SteeringLocation',\n",
       " 'TPMS',\n",
       " 'TopSpeedMPH',\n",
       " 'TractionControl',\n",
       " 'TrailerBodyType',\n",
       " 'TrailerType',\n",
       " 'TransmissionSpeeds',\n",
       " 'TransmissionStyle',\n",
       " 'Trim',\n",
       " 'Trim2',\n",
       " 'Turbo',\n",
       " 'VIN',\n",
       " 'ValveTrainDesign',\n",
       " 'VehicleDescriptor',\n",
       " 'VehicleType',\n",
       " 'WheelBaseShort',\n",
       " 'WheelBaseType',\n",
       " 'WheelSizeFront',\n",
       " 'WheelSizeRear',\n",
       " 'Wheels',\n",
       " 'Windows',\n",
       " 'id',\n",
       " 'url',\n",
       " 'region',\n",
       " 'region_url',\n",
       " 'price',\n",
       " 'year',\n",
       " 'manufacturer',\n",
       " 'model',\n",
       " 'condition',\n",
       " 'cylinders',\n",
       " 'fuel',\n",
       " 'odometer',\n",
       " 'title_status',\n",
       " 'transmission',\n",
       " 'drive',\n",
       " 'size',\n",
       " 'type',\n",
       " 'paint_color',\n",
       " 'image_url',\n",
       " 'description',\n",
       " 'county',\n",
       " 'state',\n",
       " 'lat',\n",
       " 'long',\n",
       " 'posting_date']"
      ]
     },
     "execution_count": 10,
     "metadata": {},
     "output_type": "execute_result"
    }
   ],
   "source": [
    "df.columns.to_list()"
   ]
  },
  {
   "cell_type": "code",
   "execution_count": 26,
   "id": "8486f08d",
   "metadata": {},
   "outputs": [
    {
     "data": {
      "text/plain": [
       "72853    1983.0\n",
       "Name: ModelYear, dtype: float64"
      ]
     },
     "execution_count": 26,
     "metadata": {},
     "output_type": "execute_result"
    }
   ],
   "source": [
    "df.ModelYear[df.Make == 'AVANTI']"
   ]
  },
  {
   "cell_type": "code",
   "execution_count": 19,
   "id": "73260b32",
   "metadata": {},
   "outputs": [
    {
     "data": {
      "text/plain": [
       "['KENWORTH',\n",
       " 'INTERNATIONAL',\n",
       " 'VOLVO TRUCK',\n",
       " 'GENESIS',\n",
       " 'PLYMOUTH',\n",
       " 'LOTUS',\n",
       " 'MACK',\n",
       " 'ASTON MARTIN',\n",
       " 'ROLLS-ROYCE',\n",
       " 'STERLING TRUCK',\n",
       " 'WESTERN STAR',\n",
       " 'PIERCE MANUFACTURING',\n",
       " 'E-ONE',\n",
       " 'AM GENERAL',\n",
       " 'THE VEHICLE PRODUCTION GROUP',\n",
       " 'LAMBORGHINI',\n",
       " 'FISKER',\n",
       " 'KARMA',\n",
       " 'WORKHORSE',\n",
       " 'AVANTI',\n",
       " 'FERRARI',\n",
       " 'AMERICAN MOTORS',\n",
       " 'CATERPILLAR',\n",
       " 'MCLAREN',\n",
       " 'GEO',\n",
       " 'EAGLE',\n",
       " 'FREIGHTLINER',\n",
       " 'INTERNATIONAL']"
      ]
     },
     "execution_count": 19,
     "metadata": {},
     "output_type": "execute_result"
    }
   ],
   "source": [
    "makesdrop = []\n",
    "for k,v in top_makes.items():\n",
    "    if v < 10: \n",
    "        makesdrop.append(k)\n",
    "makesdrop.extend(['FREIGHTLINER', 'INTERNATIONAL'])\n",
    "makesdrop"
   ]
  },
  {
   "cell_type": "code",
   "execution_count": 36,
   "id": "0755759d",
   "metadata": {},
   "outputs": [
    {
     "data": {
      "text/plain": [
       "['KENWORTH',\n",
       " 'INTERNATIONAL',\n",
       " 'VOLVO TRUCK',\n",
       " 'MACK',\n",
       " 'STERLING TRUCK',\n",
       " 'WESTERN STAR',\n",
       " 'PIERCE MANUFACTURING',\n",
       " 'E-ONE',\n",
       " 'AM GENERAL',\n",
       " 'THE VEHICLE PRODUCTION GROUP',\n",
       " 'LAMBORGHINI',\n",
       " 'FISKER',\n",
       " 'KARMA',\n",
       " 'WORKHORSE',\n",
       " 'FERRARI',\n",
       " 'AMERICAN MOTORS',\n",
       " 'CATERPILLAR',\n",
       " 'GEO',\n",
       " 'EAGLE',\n",
       " 'FREIGHTLINER',\n",
       " 'INTERNATIONAL']"
      ]
     },
     "execution_count": 36,
     "metadata": {},
     "output_type": "execute_result"
    }
   ],
   "source": [
    "keeplis = ['MCLAREN', 'GENESIS', 'PLYMOUTH','ROLLS-ROYCE','LOTUS','ASTON MARTIN','AVANTI']\n",
    "finallis = [i for i in makesdrop if i not in keeplis]\n",
    "finallis"
   ]
  },
  {
   "cell_type": "code",
   "execution_count": 39,
   "id": "a6e5f32f",
   "metadata": {},
   "outputs": [
    {
     "data": {
      "text/plain": [
       "{'F-150': 3784,\n",
       " 'Silverado': 3451,\n",
       " 'Sierra': 1636,\n",
       " '1500': 1628,\n",
       " 'F-250': 1312,\n",
       " 'Tacoma': 1072,\n",
       " 'Ram': 994,\n",
       " 'F-350': 902,\n",
       " 'Tundra': 780,\n",
       " '2500': 611,\n",
       " 'Colorado': 345,\n",
       " 'Ranger': 340,\n",
       " 'Transit': 334,\n",
       " 'Frontier': 332,\n",
       " 'Titan': 297,\n",
       " 'Express': 272,\n",
       " '3500': 261,\n",
       " 'Transit Connect': 235,\n",
       " 'Dakota': 131,\n",
       " 'E-250': 113,\n",
       " 'Ridgeline': 107,\n",
       " 'Canyon': 90,\n",
       " 'E-150': 82,\n",
       " 'Savana': 82,\n",
       " 'Gladiator': 71,\n",
       " 'ProMaster 1500': 63,\n",
       " 'F-450': 60,\n",
       " 'GMT-400': 59,\n",
       " 'Silverado HD': 59,\n",
       " 'Sierra HD': 57,\n",
       " 'E-350': 57,\n",
       " 'ProMaster 2500': 43,\n",
       " 'S-10 Pickup': 43,\n",
       " 'Sprinter': 41,\n",
       " 'NV200': 39,\n",
       " 'NV': 35,\n",
       " 'City Express': 25,\n",
       " 'Silverado LD': 21,\n",
       " 'B-Series': 19,\n",
       " 'Sonoma': 18,\n",
       " 'C/K Pickup': 16,\n",
       " 'ProMaster 3500': 11,\n",
       " 'Pick-Up': 11,\n",
       " 'VNL': 10,\n",
       " 'Cascadia': 10,\n",
       " 'El Camino': 8,\n",
       " 'T680': 8,\n",
       " 'Mark LT': 7,\n",
       " 'LF687': 5,\n",
       " '379': 5,\n",
       " 'SSR': 5,\n",
       " 'Ram Van': 5,\n",
       " 'Pickup': 5,\n",
       " 'Sierra Limited': 5,\n",
       " '389': 4,\n",
       " 'D-Series': 4,\n",
       " 'Raider': 4,\n",
       " '4900': 3,\n",
       " 'Tilt Cab': 3,\n",
       " 'CST120': 3,\n",
       " 'P - Series': 3,\n",
       " 'Astro Van': 3,\n",
       " 'Safari': 2,\n",
       " 'V Conventional': 2,\n",
       " 'Truck': 2,\n",
       " 'Comanche': 2,\n",
       " 'F-150 Heritage': 2,\n",
       " 'CH': 2,\n",
       " 'T100': 2,\n",
       " 'CXU (Pinnacle)': 2,\n",
       " 'Caballero': 2,\n",
       " 'R Conventional': 2,\n",
       " 'HHR': 2,\n",
       " 'T6 Series': 2,\n",
       " '385': 1,\n",
       " '4500 Job Rated': 1,\n",
       " 'P42': 1,\n",
       " 'W900': 1,\n",
       " 'T2000': 1,\n",
       " 'T8 Series': 1,\n",
       " '579': 1,\n",
       " '387': 1,\n",
       " 'Equator': 1,\n",
       " 'Military Truck': 1,\n",
       " 'G-Series': 1,\n",
       " 'S15 Pickup': 1,\n",
       " '567': 1,\n",
       " 'H3T': 1,\n",
       " 'LF617': 1,\n",
       " 'USF-1E': 1,\n",
       " 'Blazer': 1,\n",
       " '388': 1,\n",
       " 'CXN (Vision)': 1,\n",
       " 'H3': 1,\n",
       " 'RF027': 1,\n",
       " 'T6F': 1,\n",
       " 'T800': 1,\n",
       " 'A9500 series': 1,\n",
       " '4900E': 1,\n",
       " '386': 1,\n",
       " 'CF7AA': 1,\n",
       " 'W-Series': 1,\n",
       " 'LF697': 1,\n",
       " 'SC8000': 1,\n",
       " 'Vandura': 1,\n",
       " 'Trooper': 1,\n",
       " 'VNM': 1}"
      ]
     },
     "execution_count": 39,
     "metadata": {},
     "output_type": "execute_result"
    }
   ],
   "source": [
    "df.Model[df.VehicleType == 'TRUCK'].value_counts().to_dict()"
   ]
  },
  {
   "cell_type": "code",
   "execution_count": 38,
   "id": "f5d30da2",
   "metadata": {},
   "outputs": [],
   "source": [
    "df3 = df2[~df2.Make.isin(finallis)]"
   ]
  },
  {
   "cell_type": "code",
   "execution_count": 44,
   "id": "a809bfe6",
   "metadata": {},
   "outputs": [],
   "source": [
    "df4 = df3.groupby(['Make','Model','ModelYear']).size().reset_index().rename(columns={0:'count2'})"
   ]
  },
  {
   "cell_type": "code",
   "execution_count": 45,
   "id": "77157852",
   "metadata": {},
   "outputs": [
    {
     "data": {
      "text/plain": [
       "count2\n",
       "1    6190\n",
       "Name: count, dtype: int64"
      ]
     },
     "execution_count": 45,
     "metadata": {},
     "output_type": "execute_result"
    }
   ],
   "source": [
    "df4.count2.value_counts()"
   ]
  },
  {
   "cell_type": "code",
   "execution_count": 46,
   "id": "a56abf99",
   "metadata": {},
   "outputs": [
    {
     "data": {
      "text/html": [
       "<div>\n",
       "<style scoped>\n",
       "    .dataframe tbody tr th:only-of-type {\n",
       "        vertical-align: middle;\n",
       "    }\n",
       "\n",
       "    .dataframe tbody tr th {\n",
       "        vertical-align: top;\n",
       "    }\n",
       "\n",
       "    .dataframe thead th {\n",
       "        text-align: right;\n",
       "    }\n",
       "</style>\n",
       "<table border=\"1\" class=\"dataframe\">\n",
       "  <thead>\n",
       "    <tr style=\"text-align: right;\">\n",
       "      <th></th>\n",
       "      <th>Make</th>\n",
       "      <th>Model</th>\n",
       "      <th>ModelYear</th>\n",
       "    </tr>\n",
       "  </thead>\n",
       "  <tbody>\n",
       "    <tr>\n",
       "      <th>0</th>\n",
       "      <td>GMC</td>\n",
       "      <td>Sierra</td>\n",
       "      <td>2014.0</td>\n",
       "    </tr>\n",
       "    <tr>\n",
       "      <th>1</th>\n",
       "      <td>CHEVROLET</td>\n",
       "      <td>Silverado</td>\n",
       "      <td>2010.0</td>\n",
       "    </tr>\n",
       "    <tr>\n",
       "      <th>2</th>\n",
       "      <td>CHEVROLET</td>\n",
       "      <td>Silverado</td>\n",
       "      <td>2020.0</td>\n",
       "    </tr>\n",
       "    <tr>\n",
       "      <th>3</th>\n",
       "      <td>TOYOTA</td>\n",
       "      <td>Tundra</td>\n",
       "      <td>2017.0</td>\n",
       "    </tr>\n",
       "    <tr>\n",
       "      <th>4</th>\n",
       "      <td>GMC</td>\n",
       "      <td>Sierra</td>\n",
       "      <td>2012.0</td>\n",
       "    </tr>\n",
       "  </tbody>\n",
       "</table>\n",
       "</div>"
      ],
      "text/plain": [
       "        Make      Model  ModelYear\n",
       "0        GMC     Sierra     2014.0\n",
       "1  CHEVROLET  Silverado     2010.0\n",
       "2  CHEVROLET  Silverado     2020.0\n",
       "3     TOYOTA     Tundra     2017.0\n",
       "4        GMC     Sierra     2012.0"
      ]
     },
     "execution_count": 46,
     "metadata": {},
     "output_type": "execute_result"
    }
   ],
   "source": [
    "df3.head()"
   ]
  },
  {
   "cell_type": "code",
   "execution_count": 47,
   "id": "1e4897af",
   "metadata": {},
   "outputs": [],
   "source": [
    "df3.to_csv('uniq3.csv', index=False)"
   ]
  },
  {
   "cell_type": "code",
   "execution_count": null,
   "id": "8abd78e0",
   "metadata": {},
   "outputs": [],
   "source": []
  }
 ],
 "metadata": {
  "kernelspec": {
   "display_name": "Python 3 (ipykernel)",
   "language": "python",
   "name": "python3"
  },
  "language_info": {
   "codemirror_mode": {
    "name": "ipython",
    "version": 3
   },
   "file_extension": ".py",
   "mimetype": "text/x-python",
   "name": "python",
   "nbconvert_exporter": "python",
   "pygments_lexer": "ipython3",
   "version": "3.11.7"
  }
 },
 "nbformat": 4,
 "nbformat_minor": 5
}
