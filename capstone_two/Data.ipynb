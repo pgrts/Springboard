{
 "cells": [
  {
   "cell_type": "code",
   "execution_count": 2,
   "id": "d9e70954",
   "metadata": {},
   "outputs": [],
   "source": [
    "import pandas as pd\n",
    "import numpy as np\n",
    "import seaborn as sns\n",
    "import matplotlib.pyplot as plt"
   ]
  },
  {
   "cell_type": "code",
   "execution_count": 3,
   "id": "1c488973",
   "metadata": {},
   "outputs": [
    {
     "data": {
      "text/html": [
       "<div>\n",
       "<style scoped>\n",
       "    .dataframe tbody tr th:only-of-type {\n",
       "        vertical-align: middle;\n",
       "    }\n",
       "\n",
       "    .dataframe tbody tr th {\n",
       "        vertical-align: top;\n",
       "    }\n",
       "\n",
       "    .dataframe thead th {\n",
       "        text-align: right;\n",
       "    }\n",
       "</style>\n",
       "<table border=\"1\" class=\"dataframe\">\n",
       "  <thead>\n",
       "    <tr style=\"text-align: right;\">\n",
       "      <th></th>\n",
       "      <th>id</th>\n",
       "      <th>url</th>\n",
       "      <th>region</th>\n",
       "      <th>region_url</th>\n",
       "      <th>price</th>\n",
       "      <th>year</th>\n",
       "      <th>manufacturer</th>\n",
       "      <th>model</th>\n",
       "      <th>condition</th>\n",
       "      <th>cylinders</th>\n",
       "      <th>...</th>\n",
       "      <th>size</th>\n",
       "      <th>type</th>\n",
       "      <th>paint_color</th>\n",
       "      <th>image_url</th>\n",
       "      <th>description</th>\n",
       "      <th>county</th>\n",
       "      <th>state</th>\n",
       "      <th>lat</th>\n",
       "      <th>long</th>\n",
       "      <th>posting_date</th>\n",
       "    </tr>\n",
       "  </thead>\n",
       "  <tbody>\n",
       "    <tr>\n",
       "      <th>0</th>\n",
       "      <td>7222695916</td>\n",
       "      <td>https://prescott.craigslist.org/cto/d/prescott...</td>\n",
       "      <td>prescott</td>\n",
       "      <td>https://prescott.craigslist.org</td>\n",
       "      <td>6000</td>\n",
       "      <td>NaN</td>\n",
       "      <td>NaN</td>\n",
       "      <td>NaN</td>\n",
       "      <td>NaN</td>\n",
       "      <td>NaN</td>\n",
       "      <td>...</td>\n",
       "      <td>NaN</td>\n",
       "      <td>NaN</td>\n",
       "      <td>NaN</td>\n",
       "      <td>NaN</td>\n",
       "      <td>NaN</td>\n",
       "      <td>NaN</td>\n",
       "      <td>az</td>\n",
       "      <td>NaN</td>\n",
       "      <td>NaN</td>\n",
       "      <td>NaN</td>\n",
       "    </tr>\n",
       "    <tr>\n",
       "      <th>1</th>\n",
       "      <td>7218891961</td>\n",
       "      <td>https://fayar.craigslist.org/ctd/d/bentonville...</td>\n",
       "      <td>fayetteville</td>\n",
       "      <td>https://fayar.craigslist.org</td>\n",
       "      <td>11900</td>\n",
       "      <td>NaN</td>\n",
       "      <td>NaN</td>\n",
       "      <td>NaN</td>\n",
       "      <td>NaN</td>\n",
       "      <td>NaN</td>\n",
       "      <td>...</td>\n",
       "      <td>NaN</td>\n",
       "      <td>NaN</td>\n",
       "      <td>NaN</td>\n",
       "      <td>NaN</td>\n",
       "      <td>NaN</td>\n",
       "      <td>NaN</td>\n",
       "      <td>ar</td>\n",
       "      <td>NaN</td>\n",
       "      <td>NaN</td>\n",
       "      <td>NaN</td>\n",
       "    </tr>\n",
       "    <tr>\n",
       "      <th>2</th>\n",
       "      <td>7221797935</td>\n",
       "      <td>https://keys.craigslist.org/cto/d/summerland-k...</td>\n",
       "      <td>florida keys</td>\n",
       "      <td>https://keys.craigslist.org</td>\n",
       "      <td>21000</td>\n",
       "      <td>NaN</td>\n",
       "      <td>NaN</td>\n",
       "      <td>NaN</td>\n",
       "      <td>NaN</td>\n",
       "      <td>NaN</td>\n",
       "      <td>...</td>\n",
       "      <td>NaN</td>\n",
       "      <td>NaN</td>\n",
       "      <td>NaN</td>\n",
       "      <td>NaN</td>\n",
       "      <td>NaN</td>\n",
       "      <td>NaN</td>\n",
       "      <td>fl</td>\n",
       "      <td>NaN</td>\n",
       "      <td>NaN</td>\n",
       "      <td>NaN</td>\n",
       "    </tr>\n",
       "    <tr>\n",
       "      <th>3</th>\n",
       "      <td>7222270760</td>\n",
       "      <td>https://worcester.craigslist.org/cto/d/west-br...</td>\n",
       "      <td>worcester / central MA</td>\n",
       "      <td>https://worcester.craigslist.org</td>\n",
       "      <td>1500</td>\n",
       "      <td>NaN</td>\n",
       "      <td>NaN</td>\n",
       "      <td>NaN</td>\n",
       "      <td>NaN</td>\n",
       "      <td>NaN</td>\n",
       "      <td>...</td>\n",
       "      <td>NaN</td>\n",
       "      <td>NaN</td>\n",
       "      <td>NaN</td>\n",
       "      <td>NaN</td>\n",
       "      <td>NaN</td>\n",
       "      <td>NaN</td>\n",
       "      <td>ma</td>\n",
       "      <td>NaN</td>\n",
       "      <td>NaN</td>\n",
       "      <td>NaN</td>\n",
       "    </tr>\n",
       "    <tr>\n",
       "      <th>4</th>\n",
       "      <td>7210384030</td>\n",
       "      <td>https://greensboro.craigslist.org/cto/d/trinit...</td>\n",
       "      <td>greensboro</td>\n",
       "      <td>https://greensboro.craigslist.org</td>\n",
       "      <td>4900</td>\n",
       "      <td>NaN</td>\n",
       "      <td>NaN</td>\n",
       "      <td>NaN</td>\n",
       "      <td>NaN</td>\n",
       "      <td>NaN</td>\n",
       "      <td>...</td>\n",
       "      <td>NaN</td>\n",
       "      <td>NaN</td>\n",
       "      <td>NaN</td>\n",
       "      <td>NaN</td>\n",
       "      <td>NaN</td>\n",
       "      <td>NaN</td>\n",
       "      <td>nc</td>\n",
       "      <td>NaN</td>\n",
       "      <td>NaN</td>\n",
       "      <td>NaN</td>\n",
       "    </tr>\n",
       "  </tbody>\n",
       "</table>\n",
       "<p>5 rows × 26 columns</p>\n",
       "</div>"
      ],
      "text/plain": [
       "           id                                                url  \\\n",
       "0  7222695916  https://prescott.craigslist.org/cto/d/prescott...   \n",
       "1  7218891961  https://fayar.craigslist.org/ctd/d/bentonville...   \n",
       "2  7221797935  https://keys.craigslist.org/cto/d/summerland-k...   \n",
       "3  7222270760  https://worcester.craigslist.org/cto/d/west-br...   \n",
       "4  7210384030  https://greensboro.craigslist.org/cto/d/trinit...   \n",
       "\n",
       "                   region                         region_url  price  year  \\\n",
       "0                prescott    https://prescott.craigslist.org   6000   NaN   \n",
       "1            fayetteville       https://fayar.craigslist.org  11900   NaN   \n",
       "2            florida keys        https://keys.craigslist.org  21000   NaN   \n",
       "3  worcester / central MA   https://worcester.craigslist.org   1500   NaN   \n",
       "4              greensboro  https://greensboro.craigslist.org   4900   NaN   \n",
       "\n",
       "  manufacturer model condition cylinders  ... size  type paint_color  \\\n",
       "0          NaN   NaN       NaN       NaN  ...  NaN   NaN         NaN   \n",
       "1          NaN   NaN       NaN       NaN  ...  NaN   NaN         NaN   \n",
       "2          NaN   NaN       NaN       NaN  ...  NaN   NaN         NaN   \n",
       "3          NaN   NaN       NaN       NaN  ...  NaN   NaN         NaN   \n",
       "4          NaN   NaN       NaN       NaN  ...  NaN   NaN         NaN   \n",
       "\n",
       "  image_url description county state lat long posting_date  \n",
       "0       NaN         NaN    NaN    az NaN  NaN          NaN  \n",
       "1       NaN         NaN    NaN    ar NaN  NaN          NaN  \n",
       "2       NaN         NaN    NaN    fl NaN  NaN          NaN  \n",
       "3       NaN         NaN    NaN    ma NaN  NaN          NaN  \n",
       "4       NaN         NaN    NaN    nc NaN  NaN          NaN  \n",
       "\n",
       "[5 rows x 26 columns]"
      ]
     },
     "execution_count": 3,
     "metadata": {},
     "output_type": "execute_result"
    }
   ],
   "source": [
    "df = pd.read_csv('data/vehicles.csv')\n",
    "df.head()"
   ]
  },
  {
   "cell_type": "code",
   "execution_count": 4,
   "id": "9a84f74c",
   "metadata": {},
   "outputs": [
    {
     "name": "stderr",
     "output_type": "stream",
     "text": [
      "C:\\Users\\mitch\\AppData\\Local\\Temp\\ipykernel_11016\\2501215559.py:1: DtypeWarning: Columns (9,11,12,13,14,15,16,17,19,20,24,27,29,33,43,44,47,49,51,69,75,77) have mixed types. Specify dtype option on import or set low_memory=False.\n",
      "  df_spec = pd.read_csv('data/CarSpecs_1945_2020.csv')\n"
     ]
    },
    {
     "data": {
      "text/html": [
       "<div>\n",
       "<style scoped>\n",
       "    .dataframe tbody tr th:only-of-type {\n",
       "        vertical-align: middle;\n",
       "    }\n",
       "\n",
       "    .dataframe tbody tr th {\n",
       "        vertical-align: top;\n",
       "    }\n",
       "\n",
       "    .dataframe thead th {\n",
       "        text-align: right;\n",
       "    }\n",
       "</style>\n",
       "<table border=\"1\" class=\"dataframe\">\n",
       "  <thead>\n",
       "    <tr style=\"text-align: right;\">\n",
       "      <th></th>\n",
       "      <th>id_trim</th>\n",
       "      <th>Make</th>\n",
       "      <th>Modle</th>\n",
       "      <th>Generation</th>\n",
       "      <th>Year_from</th>\n",
       "      <th>Year_to</th>\n",
       "      <th>Series</th>\n",
       "      <th>Trim</th>\n",
       "      <th>Body_type</th>\n",
       "      <th>load_height_mm</th>\n",
       "      <th>...</th>\n",
       "      <th>front_suspension</th>\n",
       "      <th>steering_type</th>\n",
       "      <th>car_class</th>\n",
       "      <th>country_of_origin</th>\n",
       "      <th>number_of_doors</th>\n",
       "      <th>safety_assessment</th>\n",
       "      <th>rating_name</th>\n",
       "      <th>battery_capacity_KW_per_h</th>\n",
       "      <th>electric_range_km</th>\n",
       "      <th>charging_time_h</th>\n",
       "    </tr>\n",
       "  </thead>\n",
       "  <tbody>\n",
       "    <tr>\n",
       "      <th>0</th>\n",
       "      <td>1</td>\n",
       "      <td>AC</td>\n",
       "      <td>ACE</td>\n",
       "      <td>1 generation</td>\n",
       "      <td>1993.0</td>\n",
       "      <td>2000.0</td>\n",
       "      <td>Cabriolet</td>\n",
       "      <td>3.5 MT</td>\n",
       "      <td>Cabriolet</td>\n",
       "      <td>NaN</td>\n",
       "      <td>...</td>\n",
       "      <td>Helical springs</td>\n",
       "      <td>NaN</td>\n",
       "      <td>NaN</td>\n",
       "      <td>NaN</td>\n",
       "      <td>NaN</td>\n",
       "      <td>NaN</td>\n",
       "      <td>NaN</td>\n",
       "      <td>NaN</td>\n",
       "      <td>NaN</td>\n",
       "      <td>NaN</td>\n",
       "    </tr>\n",
       "    <tr>\n",
       "      <th>1</th>\n",
       "      <td>2</td>\n",
       "      <td>AC</td>\n",
       "      <td>ACE</td>\n",
       "      <td>1 generation</td>\n",
       "      <td>1993.0</td>\n",
       "      <td>2000.0</td>\n",
       "      <td>Cabriolet</td>\n",
       "      <td>4.6 MT</td>\n",
       "      <td>Cabriolet</td>\n",
       "      <td>NaN</td>\n",
       "      <td>...</td>\n",
       "      <td>Helical springs</td>\n",
       "      <td>NaN</td>\n",
       "      <td>NaN</td>\n",
       "      <td>NaN</td>\n",
       "      <td>NaN</td>\n",
       "      <td>NaN</td>\n",
       "      <td>NaN</td>\n",
       "      <td>NaN</td>\n",
       "      <td>NaN</td>\n",
       "      <td>NaN</td>\n",
       "    </tr>\n",
       "    <tr>\n",
       "      <th>2</th>\n",
       "      <td>3</td>\n",
       "      <td>AC</td>\n",
       "      <td>ACE</td>\n",
       "      <td>1 generation</td>\n",
       "      <td>1993.0</td>\n",
       "      <td>2000.0</td>\n",
       "      <td>Cabriolet</td>\n",
       "      <td>4.9 AT</td>\n",
       "      <td>Cabriolet</td>\n",
       "      <td>NaN</td>\n",
       "      <td>...</td>\n",
       "      <td>Helical springs</td>\n",
       "      <td>NaN</td>\n",
       "      <td>NaN</td>\n",
       "      <td>NaN</td>\n",
       "      <td>NaN</td>\n",
       "      <td>NaN</td>\n",
       "      <td>NaN</td>\n",
       "      <td>NaN</td>\n",
       "      <td>NaN</td>\n",
       "      <td>NaN</td>\n",
       "    </tr>\n",
       "    <tr>\n",
       "      <th>3</th>\n",
       "      <td>4</td>\n",
       "      <td>AC</td>\n",
       "      <td>ACE</td>\n",
       "      <td>1 generation</td>\n",
       "      <td>1993.0</td>\n",
       "      <td>2000.0</td>\n",
       "      <td>Roadster</td>\n",
       "      <td>2.9 AT</td>\n",
       "      <td>NaN</td>\n",
       "      <td>NaN</td>\n",
       "      <td>...</td>\n",
       "      <td>NaN</td>\n",
       "      <td>NaN</td>\n",
       "      <td>NaN</td>\n",
       "      <td>NaN</td>\n",
       "      <td>NaN</td>\n",
       "      <td>NaN</td>\n",
       "      <td>NaN</td>\n",
       "      <td>NaN</td>\n",
       "      <td>NaN</td>\n",
       "      <td>NaN</td>\n",
       "    </tr>\n",
       "    <tr>\n",
       "      <th>4</th>\n",
       "      <td>5</td>\n",
       "      <td>AC</td>\n",
       "      <td>ACE</td>\n",
       "      <td>1 generation</td>\n",
       "      <td>1993.0</td>\n",
       "      <td>2000.0</td>\n",
       "      <td>Roadster</td>\n",
       "      <td>2.9 MT</td>\n",
       "      <td>NaN</td>\n",
       "      <td>NaN</td>\n",
       "      <td>...</td>\n",
       "      <td>NaN</td>\n",
       "      <td>NaN</td>\n",
       "      <td>NaN</td>\n",
       "      <td>NaN</td>\n",
       "      <td>NaN</td>\n",
       "      <td>NaN</td>\n",
       "      <td>NaN</td>\n",
       "      <td>NaN</td>\n",
       "      <td>NaN</td>\n",
       "      <td>NaN</td>\n",
       "    </tr>\n",
       "  </tbody>\n",
       "</table>\n",
       "<p>5 rows × 78 columns</p>\n",
       "</div>"
      ],
      "text/plain": [
       "   id_trim Make Modle    Generation  Year_from  Year_to     Series    Trim  \\\n",
       "0        1   AC   ACE  1 generation     1993.0   2000.0  Cabriolet  3.5 MT   \n",
       "1        2   AC   ACE  1 generation     1993.0   2000.0  Cabriolet  4.6 MT   \n",
       "2        3   AC   ACE  1 generation     1993.0   2000.0  Cabriolet  4.9 AT   \n",
       "3        4   AC   ACE  1 generation     1993.0   2000.0   Roadster  2.9 AT   \n",
       "4        5   AC   ACE  1 generation     1993.0   2000.0   Roadster  2.9 MT   \n",
       "\n",
       "   Body_type load_height_mm  ... front_suspension steering_type car_class  \\\n",
       "0  Cabriolet            NaN  ...  Helical springs           NaN       NaN   \n",
       "1  Cabriolet            NaN  ...  Helical springs           NaN       NaN   \n",
       "2  Cabriolet            NaN  ...  Helical springs           NaN       NaN   \n",
       "3        NaN            NaN  ...              NaN           NaN       NaN   \n",
       "4        NaN            NaN  ...              NaN           NaN       NaN   \n",
       "\n",
       "  country_of_origin number_of_doors safety_assessment rating_name  \\\n",
       "0               NaN             NaN               NaN         NaN   \n",
       "1               NaN             NaN               NaN         NaN   \n",
       "2               NaN             NaN               NaN         NaN   \n",
       "3               NaN             NaN               NaN         NaN   \n",
       "4               NaN             NaN               NaN         NaN   \n",
       "\n",
       "  battery_capacity_KW_per_h electric_range_km charging_time_h  \n",
       "0                       NaN               NaN             NaN  \n",
       "1                       NaN               NaN             NaN  \n",
       "2                       NaN               NaN             NaN  \n",
       "3                       NaN               NaN             NaN  \n",
       "4                       NaN               NaN             NaN  \n",
       "\n",
       "[5 rows x 78 columns]"
      ]
     },
     "execution_count": 4,
     "metadata": {},
     "output_type": "execute_result"
    }
   ],
   "source": [
    "df_spec = pd.read_csv('data/CarSpecs_1945_2020.csv')\n",
    "df_spec.head()"
   ]
  },
  {
   "cell_type": "code",
   "execution_count": 5,
   "id": "e7eecf85",
   "metadata": {},
   "outputs": [
    {
     "data": {
      "text/plain": [
       "Index(['id_trim', 'Make', 'Modle', 'Generation', 'Year_from', 'Year_to',\n",
       "       'Series', 'Trim', 'Body_type', 'load_height_mm', 'number_of_seats',\n",
       "       'length_mm', 'width_mm', 'height_mm', 'wheelbase_mm', 'front_track_mm',\n",
       "       'rear_track_mm', 'curb_weight_kg', 'wheel_size_r14',\n",
       "       'ground_clearance_mm', 'trailer_load_with_brakes_kg', 'payload_kg',\n",
       "       'back_track_width_mm', 'front_track_width_mm', 'clearance_mm',\n",
       "       'full_weight_kg', 'front_rear_axle_load_kg', 'max_trunk_capacity_l',\n",
       "       'cargo_compartment_length_width_height_mm', 'cargo_volume_m3',\n",
       "       'minimum_trunk_capacity_l', 'maximum_torque_n_m', 'injection_type',\n",
       "       'overhead_camshaft', 'cylinder_layout', 'number_of_cylinders',\n",
       "       'compression_ratio', 'engine_type', 'valves_per_cylinder', 'boost_type',\n",
       "       'cylinder_bore_mm', 'stroke_cycle_mm', 'engine_placement',\n",
       "       'cylinder_bore_and_stroke_cycle_mm', 'turnover_of_maximum_torque_rpm',\n",
       "       'max_power_kw', 'presence_of_intercooler', 'capacity_cm3', 'engine_hp',\n",
       "       'engine_hp_rpm', 'drive_wheels', 'bore_stroke_ratio', 'number_of_gears',\n",
       "       'turning_circle_m', 'transmission',\n",
       "       'mixed_fuel_consumption_per_100_km_l', 'range_km', 'emission_standards',\n",
       "       'fuel_tank_capacity_l', 'acceleration_0_100_km/h_s',\n",
       "       'max_speed_km_per_h', 'city_fuel_per_100km_l', 'CO2_emissions_g/km',\n",
       "       'fuel_grade', 'highway_fuel_per_100km_l', 'back_suspension',\n",
       "       'rear_brakes', 'front_brakes', 'front_suspension', 'steering_type',\n",
       "       'car_class', 'country_of_origin', 'number_of_doors',\n",
       "       'safety_assessment', 'rating_name', 'battery_capacity_KW_per_h',\n",
       "       'electric_range_km', 'charging_time_h'],\n",
       "      dtype='object')"
      ]
     },
     "execution_count": 5,
     "metadata": {},
     "output_type": "execute_result"
    }
   ],
   "source": [
    "df_spec.columns"
   ]
  },
  {
   "cell_type": "code",
   "execution_count": 6,
   "id": "f9be4b9f",
   "metadata": {},
   "outputs": [
    {
     "name": "stdout",
     "output_type": "stream",
     "text": [
      "(70823, 78)\n",
      "(4877, 78)\n"
     ]
    }
   ],
   "source": [
    "print(df_spec.shape)\n",
    "df_spec = df_spec[df_spec.Year_to < 1970]\n",
    "print(df_spec.shape)"
   ]
  },
  {
   "cell_type": "code",
   "execution_count": 7,
   "id": "945191ba",
   "metadata": {},
   "outputs": [
    {
     "name": "stdout",
     "output_type": "stream",
     "text": [
      "Null Car Class Value Count: 4712\n",
      "Car Class Value Count: 165\n"
     ]
    }
   ],
   "source": [
    "car_class = df_spec['car_class'].notna().sum()\n",
    "not_car_class =df_spec['car_class'].isnull().sum()\n",
    "\n",
    "print('Null Car Class Value Count: ' + str(not_car_class))\n",
    "print('Car Class Value Count: ' + str(car_class))"
   ]
  },
  {
   "cell_type": "code",
   "execution_count": 8,
   "id": "28dd0b29",
   "metadata": {},
   "outputs": [
    {
     "data": {
      "text/plain": [
       "Body_type\n",
       "Coupe        1045\n",
       "Sedan         773\n",
       "Wagon         727\n",
       "Cabriolet     699\n",
       "hardtop       457\n",
       "Pickup        371\n",
       "Roadster       86\n",
       "Crossover      71\n",
       "Minivan        21\n",
       "Liftback       17\n",
       "Targa          14\n",
       "Hatchback       8\n",
       "Fastback        1\n",
       "Name: count, dtype: int64"
      ]
     },
     "execution_count": 8,
     "metadata": {},
     "output_type": "execute_result"
    }
   ],
   "source": [
    "df_spec['Body_type'].value_counts()"
   ]
  },
  {
   "cell_type": "code",
   "execution_count": 9,
   "id": "80ef08c4",
   "metadata": {},
   "outputs": [
    {
     "name": "stdout",
     "output_type": "stream",
     "text": [
      "Null Body_type Value Count: 587\n",
      "Body_type Value Count: 4290\n"
     ]
    }
   ],
   "source": [
    "car_class = df_spec['Body_type'].notna().sum()\n",
    "not_car_class =df_spec['Body_type'].isnull().sum()\n",
    "\n",
    "print('Null Body_type Value Count: ' + str(not_car_class))\n",
    "print('Body_type Value Count: ' + str(car_class))"
   ]
  },
  {
   "cell_type": "code",
   "execution_count": 10,
   "id": "0249d3e4",
   "metadata": {},
   "outputs": [
    {
     "name": "stdout",
     "output_type": "stream",
     "text": [
      "Adler has 234 rows\n",
      "Alfa Romeo has 1716 rows\n",
      "Audi has 78 rows\n",
      "Austin has 312 rows\n",
      "Austin Healey has 156 rows\n",
      "BMW has 390 rows\n",
      "Bentley has 1170 rows\n",
      "Borgward has 78 rows\n",
      "Bugatti has 78 rows\n",
      "Buick has 1638 rows\n",
      "Cadillac has 1560 rows\n",
      "Chevrolet has 307164 rows\n",
      "Chrysler has 2184 rows\n",
      "Citroen has 858 rows\n",
      "Cord has 156 rows\n",
      "DKW has 78 rows\n",
      "Daihatsu has 78 rows\n",
      "Daimler has 156 rows\n",
      "DeSoto has 1404 rows\n",
      "Delage has 1326 rows\n",
      "Dodge has 8814 rows\n",
      "Ferrari has 156 rows\n",
      "Fiat has 78 rows\n",
      "Ford has 2184 rows\n",
      "GAZ has 1638 rows\n",
      "GMC has 78 rows\n",
      "Hanomag has 312 rows\n",
      "Heinkel has 78 rows\n",
      "Hispano-Suiza has 78 rows\n",
      "Honda has 156 rows\n",
      "Horch has 312 rows\n",
      "Hudson has 78 rows\n",
      "Jaguar has 2418 rows\n",
      "Lamborghini has 234 rows\n",
      "Lancia has 702 rows\n",
      "Land Rover has 156 rows\n",
      "Lincoln has 1014 rows\n",
      "Lotus has 156 rows\n",
      "MG has 546 rows\n",
      "Mazda has 78 rows\n",
      "Mercedes-Benz has 2262 rows\n",
      "Mercury has 1248 rows\n",
      "Mitsubishi has 390 rows\n",
      "Moskvich has 1092 rows\n",
      "Nash has 78 rows\n",
      "Nissan has 6552 rows\n",
      "Oldsmobile has 1014 rows\n",
      "Opel has 1950 rows\n",
      "Packard has 468 rows\n",
      "Peugeot has 156 rows\n",
      "Pontiac has 8970 rows\n",
      "Porsche has 2340 rows\n",
      "Renault has 780 rows\n",
      "Rolls-Royce has 312 rows\n",
      "Rover has 936 rows\n",
      "Saab has 78 rows\n",
      "Sears has 78 rows\n",
      "Simca has 234 rows\n",
      "Skoda has 390 rows\n",
      "Steyr has 78 rows\n",
      "Studebaker has 234 rows\n",
      "Subaru has 156 rows\n",
      "Tatra has 546 rows\n",
      "Toyota has 3588 rows\n",
      "Triumph has 156 rows\n",
      "UAZ has 312 rows\n",
      "Vauxhall has 858 rows\n",
      "Volkswagen has 4134 rows\n",
      "Volvo has 78 rows\n",
      "Wanderer has 234 rows\n",
      "Willys has 312 rows\n",
      "ZIL has 78 rows\n",
      "ZiS has 234 rows\n"
     ]
    }
   ],
   "source": [
    "makes = df_spec.groupby('Make')\n",
    "\n",
    "for name, group in makes:\n",
    "    print(name +  ' has ' + str(group.size) + ' rows')\n"
   ]
  },
  {
   "cell_type": "code",
   "execution_count": 11,
   "id": "74775490",
   "metadata": {},
   "outputs": [
    {
     "name": "stdout",
     "output_type": "stream",
     "text": [
      "mean group size: 5211.041095890411\n",
      "median group size: 312\n"
     ]
    }
   ],
   "source": [
    "\n",
    "groupsize = 0\n",
    "groupnum = 0\n",
    "\n",
    "groupdict = {}\n",
    "\n",
    "for name, group in makes:\n",
    "    #print(name +  ' has ' + str(group.size) + ' rows')\n",
    "    groupsize += group.size\n",
    "    groupnum += 1\n",
    "    groupdict[name] = group.size#{name : group.size})\n",
    "\n",
    "mean_grp_size = groupsize/groupnum\n",
    "print('mean group size: ' + str(mean_grp_size))\n",
    "\n",
    "from statistics import median \n",
    "\n",
    "med_grp_size = median([v for v in groupdict.values()])\n",
    "print('median group size: ' +  str(med_grp_size))\n"
   ]
  },
  {
   "cell_type": "code",
   "execution_count": 12,
   "id": "bf22815a",
   "metadata": {},
   "outputs": [
    {
     "name": "stdout",
     "output_type": "stream",
     "text": [
      "['Alfa Romeo', 'BMW', 'Bentley', 'Buick', 'Cadillac', 'Chevrolet', 'Chrysler', 'Citroen', 'DeSoto', 'Delage', 'Dodge', 'Ford', 'GAZ', 'Jaguar', 'Lancia', 'Lincoln', 'MG', 'Mercedes-Benz', 'Mercury', 'Mitsubishi', 'Moskvich', 'Nissan', 'Oldsmobile', 'Opel', 'Packard', 'Pontiac', 'Porsche', 'Renault', 'Rover', 'Skoda', 'Tatra', 'Toyota', 'Vauxhall', 'Volkswagen']\n"
     ]
    }
   ],
   "source": [
    "top_makers = []\n",
    "\n",
    "for name, group in makes:\n",
    "    if group.size > med_grp_size:\n",
    "        top_makers.append(name)\n",
    "        \n",
    "print(top_makers)"
   ]
  },
  {
   "cell_type": "code",
   "execution_count": 13,
   "id": "3f514f9c",
   "metadata": {},
   "outputs": [
    {
     "ename": "ValueError",
     "evalue": "list.remove(x): x not in list",
     "output_type": "error",
     "traceback": [
      "\u001b[1;31m---------------------------------------------------------------------------\u001b[0m",
      "\u001b[1;31mValueError\u001b[0m                                Traceback (most recent call last)",
      "Cell \u001b[1;32mIn[13], line 1\u001b[0m\n\u001b[1;32m----> 1\u001b[0m top_makers\u001b[38;5;241m.\u001b[39mremove([\u001b[38;5;124m'\u001b[39m\u001b[38;5;124mMG\u001b[39m\u001b[38;5;124m'\u001b[39m, \u001b[38;5;124m'\u001b[39m\u001b[38;5;124mMokvich\u001b[39m\u001b[38;5;124m'\u001b[39m, \u001b[38;5;124m'\u001b[39m\u001b[38;5;124mDeSoto\u001b[39m\u001b[38;5;124m'\u001b[39m, \u001b[38;5;124m'\u001b[39m\u001b[38;5;124mDelage\u001b[39m\u001b[38;5;124m'\u001b[39m, \u001b[38;5;124m'\u001b[39m\u001b[38;5;124mGAZ\u001b[39m\u001b[38;5;124m'\u001b[39m, \u001b[38;5;124m'\u001b[39m\u001b[38;5;124mLancia\u001b[39m\u001b[38;5;124m'\u001b[39m, \u001b[38;5;124m'\u001b[39m\u001b[38;5;124mOpel\u001b[39m\u001b[38;5;124m'\u001b[39m, \u001b[38;5;124m'\u001b[39m\u001b[38;5;124mPackard\u001b[39m\u001b[38;5;124m'\u001b[39m, \u001b[38;5;124m'\u001b[39m\u001b[38;5;124mRenault\u001b[39m\u001b[38;5;124m'\u001b[39m, \u001b[38;5;124m'\u001b[39m\u001b[38;5;124mSkoda\u001b[39m\u001b[38;5;124m'\u001b[39m, \u001b[38;5;124m'\u001b[39m\u001b[38;5;124mTatra\u001b[39m\u001b[38;5;124m'\u001b[39m, \u001b[38;5;124m'\u001b[39m\u001b[38;5;124mVauxhall\u001b[39m\u001b[38;5;124m'\u001b[39m])\n",
      "\u001b[1;31mValueError\u001b[0m: list.remove(x): x not in list"
     ]
    }
   ],
   "source": [
    "#top_makers.remove(['MG', 'Mokvich', 'DeSoto', 'Delage', 'GAZ', 'Lancia', 'Opel', 'Packard', 'Renault', 'Skoda', 'Tatra', 'Vauxhall'])"
   ]
  },
  {
   "cell_type": "code",
   "execution_count": 14,
   "id": "7e4d51dc",
   "metadata": {},
   "outputs": [
    {
     "data": {
      "text/plain": [
       "201"
      ]
     },
     "execution_count": 14,
     "metadata": {},
     "output_type": "execute_result"
    }
   ],
   "source": [
    "df_spec = df_spec.rename(columns={'Modle' : 'model'})\n",
    "len(df_spec.model.unique())"
   ]
  },
  {
   "cell_type": "code",
   "execution_count": null,
   "id": "ad3fe148",
   "metadata": {},
   "outputs": [],
   "source": [
    "#for makes in top_makers:\n",
    "    #df_spec.model\n",
    "    \n",
    "df_spec[(df_spec.Make == 'Dodge') & (df_spec.Year_from > 1960)]"
   ]
  },
  {
   "cell_type": "code",
   "execution_count": null,
   "id": "e75d27c6",
   "metadata": {},
   "outputs": [],
   "source": [
    "df.isnull().sum()"
   ]
  },
  {
   "cell_type": "code",
   "execution_count": null,
   "id": "821b7299",
   "metadata": {},
   "outputs": [],
   "source": [
    "df.columns"
   ]
  },
  {
   "cell_type": "code",
   "execution_count": null,
   "id": "0dbbc8d4",
   "metadata": {},
   "outputs": [],
   "source": [
    "df.condition.value_counts()"
   ]
  },
  {
   "cell_type": "code",
   "execution_count": null,
   "id": "efa9ca02",
   "metadata": {},
   "outputs": [],
   "source": [
    "df.drop(df[df.condition.isin(['new','salvage'])].index, inplace=True)"
   ]
  },
  {
   "cell_type": "code",
   "execution_count": 18,
   "id": "375544c8",
   "metadata": {},
   "outputs": [
    {
     "data": {
      "text/plain": [
       "342                     NaN\n",
       "604       2G1WT55NX81257887\n",
       "655       2G1WT58K989262310\n",
       "750                     NaN\n",
       "1460      2G1WT55KX89190263\n",
       "                ...        \n",
       "425952    2G1WG5EK9B1153604\n",
       "426030    2G1WC581469177332\n",
       "426038                  NaN\n",
       "426184                  NaN\n",
       "426232    2G1WT58K789273953\n",
       "Name: VIN, Length: 1682, dtype: object"
      ]
     },
     "execution_count": 18,
     "metadata": {},
     "output_type": "execute_result"
    }
   ],
   "source": [
    "df.VIN[df.model.isin(['IMAPALA', 'impala', 'Impala'])]"
   ]
  },
  {
   "cell_type": "code",
   "execution_count": 24,
   "id": "77887401",
   "metadata": {},
   "outputs": [
    {
     "name": "stdout",
     "output_type": "stream",
     "text": [
      "604    2008 *Chevrolet* *Impala* 4dr Sedan 3.5L LTCal...\n",
      "Name: description, dtype: object\n"
     ]
    }
   ],
   "source": [
    "print(df.description[df.VIN == '2G1WT55NX81257887'])\n",
    "#print(x)"
   ]
  },
  {
   "cell_type": "code",
   "execution_count": null,
   "id": "1a7462e8",
   "metadata": {},
   "outputs": [],
   "source": []
  }
 ],
 "metadata": {
  "kernelspec": {
   "display_name": "Python 3 (ipykernel)",
   "language": "python",
   "name": "python3"
  },
  "language_info": {
   "codemirror_mode": {
    "name": "ipython",
    "version": 3
   },
   "file_extension": ".py",
   "mimetype": "text/x-python",
   "name": "python",
   "nbconvert_exporter": "python",
   "pygments_lexer": "ipython3",
   "version": "3.11.7"
  }
 },
 "nbformat": 4,
 "nbformat_minor": 5
}
