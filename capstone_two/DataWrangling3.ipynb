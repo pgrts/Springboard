{
 "cells": [
  {
   "cell_type": "code",
   "execution_count": 2,
   "id": "a4ab3b6a",
   "metadata": {},
   "outputs": [],
   "source": [
    "import pandas as pd\n",
    "import numpy as np\n",
    "import seaborn as sns\n",
    "import matplotlib.pyplot as plt"
   ]
  },
  {
   "cell_type": "code",
   "execution_count": 3,
   "id": "354b7ec1",
   "metadata": {},
   "outputs": [
    {
     "data": {
      "text/html": [
       "<div>\n",
       "<style scoped>\n",
       "    .dataframe tbody tr th:only-of-type {\n",
       "        vertical-align: middle;\n",
       "    }\n",
       "\n",
       "    .dataframe tbody tr th {\n",
       "        vertical-align: top;\n",
       "    }\n",
       "\n",
       "    .dataframe thead th {\n",
       "        text-align: right;\n",
       "    }\n",
       "</style>\n",
       "<table border=\"1\" class=\"dataframe\">\n",
       "  <thead>\n",
       "    <tr style=\"text-align: right;\">\n",
       "      <th></th>\n",
       "      <th>id</th>\n",
       "      <th>url</th>\n",
       "      <th>region</th>\n",
       "      <th>region_url</th>\n",
       "      <th>price</th>\n",
       "      <th>year</th>\n",
       "      <th>manufacturer</th>\n",
       "      <th>model</th>\n",
       "      <th>condition</th>\n",
       "      <th>cylinders</th>\n",
       "      <th>...</th>\n",
       "      <th>size</th>\n",
       "      <th>type</th>\n",
       "      <th>paint_color</th>\n",
       "      <th>image_url</th>\n",
       "      <th>description</th>\n",
       "      <th>county</th>\n",
       "      <th>state</th>\n",
       "      <th>lat</th>\n",
       "      <th>long</th>\n",
       "      <th>posting_date</th>\n",
       "    </tr>\n",
       "  </thead>\n",
       "  <tbody>\n",
       "    <tr>\n",
       "      <th>0</th>\n",
       "      <td>7222695916</td>\n",
       "      <td>https://prescott.craigslist.org/cto/d/prescott...</td>\n",
       "      <td>prescott</td>\n",
       "      <td>https://prescott.craigslist.org</td>\n",
       "      <td>6000</td>\n",
       "      <td>NaN</td>\n",
       "      <td>NaN</td>\n",
       "      <td>NaN</td>\n",
       "      <td>NaN</td>\n",
       "      <td>NaN</td>\n",
       "      <td>...</td>\n",
       "      <td>NaN</td>\n",
       "      <td>NaN</td>\n",
       "      <td>NaN</td>\n",
       "      <td>NaN</td>\n",
       "      <td>NaN</td>\n",
       "      <td>NaN</td>\n",
       "      <td>az</td>\n",
       "      <td>NaN</td>\n",
       "      <td>NaN</td>\n",
       "      <td>NaN</td>\n",
       "    </tr>\n",
       "    <tr>\n",
       "      <th>1</th>\n",
       "      <td>7218891961</td>\n",
       "      <td>https://fayar.craigslist.org/ctd/d/bentonville...</td>\n",
       "      <td>fayetteville</td>\n",
       "      <td>https://fayar.craigslist.org</td>\n",
       "      <td>11900</td>\n",
       "      <td>NaN</td>\n",
       "      <td>NaN</td>\n",
       "      <td>NaN</td>\n",
       "      <td>NaN</td>\n",
       "      <td>NaN</td>\n",
       "      <td>...</td>\n",
       "      <td>NaN</td>\n",
       "      <td>NaN</td>\n",
       "      <td>NaN</td>\n",
       "      <td>NaN</td>\n",
       "      <td>NaN</td>\n",
       "      <td>NaN</td>\n",
       "      <td>ar</td>\n",
       "      <td>NaN</td>\n",
       "      <td>NaN</td>\n",
       "      <td>NaN</td>\n",
       "    </tr>\n",
       "    <tr>\n",
       "      <th>2</th>\n",
       "      <td>7221797935</td>\n",
       "      <td>https://keys.craigslist.org/cto/d/summerland-k...</td>\n",
       "      <td>florida keys</td>\n",
       "      <td>https://keys.craigslist.org</td>\n",
       "      <td>21000</td>\n",
       "      <td>NaN</td>\n",
       "      <td>NaN</td>\n",
       "      <td>NaN</td>\n",
       "      <td>NaN</td>\n",
       "      <td>NaN</td>\n",
       "      <td>...</td>\n",
       "      <td>NaN</td>\n",
       "      <td>NaN</td>\n",
       "      <td>NaN</td>\n",
       "      <td>NaN</td>\n",
       "      <td>NaN</td>\n",
       "      <td>NaN</td>\n",
       "      <td>fl</td>\n",
       "      <td>NaN</td>\n",
       "      <td>NaN</td>\n",
       "      <td>NaN</td>\n",
       "    </tr>\n",
       "    <tr>\n",
       "      <th>3</th>\n",
       "      <td>7222270760</td>\n",
       "      <td>https://worcester.craigslist.org/cto/d/west-br...</td>\n",
       "      <td>worcester / central MA</td>\n",
       "      <td>https://worcester.craigslist.org</td>\n",
       "      <td>1500</td>\n",
       "      <td>NaN</td>\n",
       "      <td>NaN</td>\n",
       "      <td>NaN</td>\n",
       "      <td>NaN</td>\n",
       "      <td>NaN</td>\n",
       "      <td>...</td>\n",
       "      <td>NaN</td>\n",
       "      <td>NaN</td>\n",
       "      <td>NaN</td>\n",
       "      <td>NaN</td>\n",
       "      <td>NaN</td>\n",
       "      <td>NaN</td>\n",
       "      <td>ma</td>\n",
       "      <td>NaN</td>\n",
       "      <td>NaN</td>\n",
       "      <td>NaN</td>\n",
       "    </tr>\n",
       "    <tr>\n",
       "      <th>4</th>\n",
       "      <td>7210384030</td>\n",
       "      <td>https://greensboro.craigslist.org/cto/d/trinit...</td>\n",
       "      <td>greensboro</td>\n",
       "      <td>https://greensboro.craigslist.org</td>\n",
       "      <td>4900</td>\n",
       "      <td>NaN</td>\n",
       "      <td>NaN</td>\n",
       "      <td>NaN</td>\n",
       "      <td>NaN</td>\n",
       "      <td>NaN</td>\n",
       "      <td>...</td>\n",
       "      <td>NaN</td>\n",
       "      <td>NaN</td>\n",
       "      <td>NaN</td>\n",
       "      <td>NaN</td>\n",
       "      <td>NaN</td>\n",
       "      <td>NaN</td>\n",
       "      <td>nc</td>\n",
       "      <td>NaN</td>\n",
       "      <td>NaN</td>\n",
       "      <td>NaN</td>\n",
       "    </tr>\n",
       "  </tbody>\n",
       "</table>\n",
       "<p>5 rows × 26 columns</p>\n",
       "</div>"
      ],
      "text/plain": [
       "           id                                                url  \\\n",
       "0  7222695916  https://prescott.craigslist.org/cto/d/prescott...   \n",
       "1  7218891961  https://fayar.craigslist.org/ctd/d/bentonville...   \n",
       "2  7221797935  https://keys.craigslist.org/cto/d/summerland-k...   \n",
       "3  7222270760  https://worcester.craigslist.org/cto/d/west-br...   \n",
       "4  7210384030  https://greensboro.craigslist.org/cto/d/trinit...   \n",
       "\n",
       "                   region                         region_url  price  year  \\\n",
       "0                prescott    https://prescott.craigslist.org   6000   NaN   \n",
       "1            fayetteville       https://fayar.craigslist.org  11900   NaN   \n",
       "2            florida keys        https://keys.craigslist.org  21000   NaN   \n",
       "3  worcester / central MA   https://worcester.craigslist.org   1500   NaN   \n",
       "4              greensboro  https://greensboro.craigslist.org   4900   NaN   \n",
       "\n",
       "  manufacturer model condition cylinders  ... size  type paint_color  \\\n",
       "0          NaN   NaN       NaN       NaN  ...  NaN   NaN         NaN   \n",
       "1          NaN   NaN       NaN       NaN  ...  NaN   NaN         NaN   \n",
       "2          NaN   NaN       NaN       NaN  ...  NaN   NaN         NaN   \n",
       "3          NaN   NaN       NaN       NaN  ...  NaN   NaN         NaN   \n",
       "4          NaN   NaN       NaN       NaN  ...  NaN   NaN         NaN   \n",
       "\n",
       "  image_url description county state lat long posting_date  \n",
       "0       NaN         NaN    NaN    az NaN  NaN          NaN  \n",
       "1       NaN         NaN    NaN    ar NaN  NaN          NaN  \n",
       "2       NaN         NaN    NaN    fl NaN  NaN          NaN  \n",
       "3       NaN         NaN    NaN    ma NaN  NaN          NaN  \n",
       "4       NaN         NaN    NaN    nc NaN  NaN          NaN  \n",
       "\n",
       "[5 rows x 26 columns]"
      ]
     },
     "execution_count": 3,
     "metadata": {},
     "output_type": "execute_result"
    }
   ],
   "source": [
    "df = pd.read_csv('data/vehicles.csv')\n",
    "df.head()"
   ]
  },
  {
   "cell_type": "code",
   "execution_count": 4,
   "id": "7d55c878",
   "metadata": {},
   "outputs": [
    {
     "data": {
      "text/html": [
       "<div>\n",
       "<style scoped>\n",
       "    .dataframe tbody tr th:only-of-type {\n",
       "        vertical-align: middle;\n",
       "    }\n",
       "\n",
       "    .dataframe tbody tr th {\n",
       "        vertical-align: top;\n",
       "    }\n",
       "\n",
       "    .dataframe thead th {\n",
       "        text-align: right;\n",
       "    }\n",
       "</style>\n",
       "<table border=\"1\" class=\"dataframe\">\n",
       "  <thead>\n",
       "    <tr style=\"text-align: right;\">\n",
       "      <th></th>\n",
       "      <th>id</th>\n",
       "      <th>url</th>\n",
       "      <th>region</th>\n",
       "      <th>region_url</th>\n",
       "      <th>price</th>\n",
       "      <th>year</th>\n",
       "      <th>manufacturer</th>\n",
       "      <th>model</th>\n",
       "      <th>condition</th>\n",
       "      <th>cylinders</th>\n",
       "      <th>...</th>\n",
       "      <th>size</th>\n",
       "      <th>type</th>\n",
       "      <th>paint_color</th>\n",
       "      <th>image_url</th>\n",
       "      <th>description</th>\n",
       "      <th>county</th>\n",
       "      <th>state</th>\n",
       "      <th>lat</th>\n",
       "      <th>long</th>\n",
       "      <th>posting_date</th>\n",
       "    </tr>\n",
       "  </thead>\n",
       "  <tbody>\n",
       "    <tr>\n",
       "      <th>426746</th>\n",
       "      <td>7303723154</td>\n",
       "      <td>https://wyoming.craigslist.org/cto/d/pinedale-...</td>\n",
       "      <td>wyoming</td>\n",
       "      <td>https://wyoming.craigslist.org</td>\n",
       "      <td>17950</td>\n",
       "      <td>2004.0</td>\n",
       "      <td>ford</td>\n",
       "      <td>f350 super duty</td>\n",
       "      <td>excellent</td>\n",
       "      <td>8 cylinders</td>\n",
       "      <td>...</td>\n",
       "      <td>NaN</td>\n",
       "      <td>other</td>\n",
       "      <td>NaN</td>\n",
       "      <td>https://images.craigslist.org/00g0g_bRl7xLViO2...</td>\n",
       "      <td>F-350 Super Duty XLT 4x4 Power Stroke V8 Turbo...</td>\n",
       "      <td>NaN</td>\n",
       "      <td>wy</td>\n",
       "      <td>42.8543</td>\n",
       "      <td>-109.8561</td>\n",
       "      <td>2021-04-08T11:13:51-0600</td>\n",
       "    </tr>\n",
       "  </tbody>\n",
       "</table>\n",
       "<p>1 rows × 26 columns</p>\n",
       "</div>"
      ],
      "text/plain": [
       "                id                                                url  \\\n",
       "426746  7303723154  https://wyoming.craigslist.org/cto/d/pinedale-...   \n",
       "\n",
       "         region                      region_url  price    year manufacturer  \\\n",
       "426746  wyoming  https://wyoming.craigslist.org  17950  2004.0         ford   \n",
       "\n",
       "                  model  condition    cylinders  ... size   type paint_color  \\\n",
       "426746  f350 super duty  excellent  8 cylinders  ...  NaN  other         NaN   \n",
       "\n",
       "                                                image_url  \\\n",
       "426746  https://images.craigslist.org/00g0g_bRl7xLViO2...   \n",
       "\n",
       "                                              description county state  \\\n",
       "426746  F-350 Super Duty XLT 4x4 Power Stroke V8 Turbo...    NaN    wy   \n",
       "\n",
       "            lat      long              posting_date  \n",
       "426746  42.8543 -109.8561  2021-04-08T11:13:51-0600  \n",
       "\n",
       "[1 rows x 26 columns]"
      ]
     },
     "execution_count": 4,
     "metadata": {},
     "output_type": "execute_result"
    }
   ],
   "source": [
    "df[df.VIN == '1FDWF37P64EA24868']"
   ]
  },
  {
   "cell_type": "code",
   "execution_count": 9,
   "id": "3bc40532",
   "metadata": {},
   "outputs": [
    {
     "name": "stdout",
     "output_type": "stream",
     "text": [
      "** 2012 FORD F250 SD * V8 * UTILITY BED * GAS **  ** CLEAN CARFAX & TITLE **  ** 47K ORIGINAL LOW MILES * 1 OWNER **  ** 6.2L V8 **  ** CD PLAYER * TOW PACKAGE **  ** STORAGE BINS **  ** CALL OR STOP BY FOR A TEST DRIVE **  ** NO DOC FEES **  ~~ CALL - (706) 419-8570 ~~ ~~ TEXT @ (423) 595-2069 ~~  ** EXTENDED WARRANTY AVAILABLE ON ALL VEHICLES **  ~ CARFAX REPORTS ARE AVAILABLE TO VIEW FOR FREE, ON ALL VEHICLES, ON OUR WEBSITE ~  ~~~ WWW.TRUCKCOUNTRY777.COM ~~~  ** TRADE-INS WELCOME - PAID OFF OR NOT **  ~ TO APPLY FOR FINANCING PLEASE VISIT OUR WEBSITE OR GIVE US A CALL ~  ~~ CALL - (706) 419-8570 ~~ ~~ TEXT @ (423) 619-6812 ~~  TRUCK COUNTRY 253 PATTERSON AVE FORT OGLETHORPE GA 30742 (ONLY 5 MINUTES FROM CHATTANOOGA )  WWW.TRUCKCOUNTRY777.COM ~(WEBSITE)~  OPEN 6 DAYS A WEEK - SUNDAY BY APPOINTMENT  ** MONDAY - SATURDAY 10AM TO 6PM - **  ** SUNDAY BY APPOINTMENT ONLY **  *** ( WE CAN BE AVAILABLE BY APPOINTMENT OUTSIDE OF NORMAL HOURS ) ***  TO SEE ALL OF OUR AFFORDABLE-TOP QUALITY INVENTORY  *** PLEASE VISIT US AT *** WWW.TRUCKCOUNTRY777.COM  CLEAN VEHICLES AT AFFORDABLE PRICES  FINANCING AVAILABLE- WE ACCEPT-VISA-MASTERCARD-AMERICAN EXRESS-ATM  LOCATED BY THE CORNER OF CROSS AND PATTERSON RIGHT NEXT TO NORTH GEORGIA RELOADING COMPANY ( RIGHT BEHIND FOOD CITY ON BATTLEFIELD PARKWAY )  ~~ CALL - (706) 419-8570 ~~ ~~ TEXT @ (423) 595-2069 ~~  FORD F150 F250 F350 F 150 F250 F350 1500 2500 3500 SHORT BED LONG BED CREW CAB EXT CAB 4X4 2WD 7.3 5.4 5.0 GAS DIESEL 2002 2003 2004 2005 2006 2007 2008 2009 2010 2011 2012 2013 2014 2015 2016 2017 2018 LARIAT XLT 6.2 3.5 ECOBOOST FX4 PLATINUM TOW TOWING  We offer a huge variety of commercial vehicles such as: utility truck, service truck, work truck, mechanic truck, plumber truck, beverage truck, box truck, straight truck, bucket truck, boom truck, concrete pump truck, contractor truck, dump truck, flatbed truck, stake bed truck, plumber service truck, refrigerated truck, lift gate truck, reefer truck, landscaping truck, cab and chassis truck, service van, utility van, plumber van, box van, reefer van, lift gate van. We also offer them all in different makes: ford utility truck, ford service truck, ford work truck, ford plumber truck, ford contractor truck, utility truck,service truck, plumber truck, contractor truck utility truck, service truck, work truck, plumber truck, sprinter utility van, sprinter service van, sprinter work van, sprinter plumber van, sprinter box truck. They are equipped with only the best utility beds, service beds, construction beds, contractor beds and plumber bodies that the market has to offer: Royal bed, SE Inc bed, Scelzi Enterprises Inc bed, Harbor bed, American bed, Reading bed, Knapheide bed Pacific bed, tommy lift gate, tommy gate, thermo king. All these trucks come in different options, 2wd, 4x4, short bed, long bed, gas, diesel, turbo diesel, ford, , crew cab, regular cab, single cab, extended cab, mega cab, 1500, 2500, 3500, 4500, 5500, f150, f250, f350, f450, f550, f650\n"
     ]
    }
   ],
   "source": [
    "print(df.description.iloc[360])#[df.VIN == '1FDBF2A66CEC73016'].description.astype(str)"
   ]
  },
  {
   "cell_type": "code",
   "execution_count": 4,
   "id": "352f9873",
   "metadata": {},
   "outputs": [
    {
     "data": {
      "text/plain": [
       "id                   0\n",
       "url                  0\n",
       "region               0\n",
       "region_url           0\n",
       "price                0\n",
       "year              1205\n",
       "manufacturer     17646\n",
       "model             5277\n",
       "condition       174104\n",
       "cylinders       177678\n",
       "fuel              3013\n",
       "odometer          4400\n",
       "title_status      8242\n",
       "transmission      2556\n",
       "VIN             161042\n",
       "drive           130567\n",
       "size            306361\n",
       "type             92858\n",
       "paint_color     130203\n",
       "image_url           68\n",
       "description         70\n",
       "county          426880\n",
       "state                0\n",
       "lat               6549\n",
       "long              6549\n",
       "posting_date        68\n",
       "dtype: int64"
      ]
     },
     "execution_count": 4,
     "metadata": {},
     "output_type": "execute_result"
    }
   ],
   "source": [
    "df.isnull().sum()"
   ]
  },
  {
   "cell_type": "code",
   "execution_count": null,
   "id": "8db551ab",
   "metadata": {},
   "outputs": [],
   "source": []
  },
  {
   "cell_type": "code",
   "execution_count": 5,
   "id": "03b90db7",
   "metadata": {},
   "outputs": [
    {
     "data": {
      "text/plain": [
       "Index(['id', 'url', 'region', 'region_url', 'price', 'year', 'manufacturer',\n",
       "       'model', 'condition', 'cylinders', 'fuel', 'odometer', 'title_status',\n",
       "       'transmission', 'VIN', 'drive', 'size', 'type', 'paint_color',\n",
       "       'image_url', 'description', 'county', 'state', 'lat', 'long',\n",
       "       'posting_date'],\n",
       "      dtype='object')"
      ]
     },
     "execution_count": 5,
     "metadata": {},
     "output_type": "execute_result"
    }
   ],
   "source": [
    "df.columns"
   ]
  },
  {
   "cell_type": "code",
   "execution_count": 6,
   "id": "048df5b1",
   "metadata": {},
   "outputs": [
    {
     "data": {
      "text/plain": [
       "condition\n",
       "good         121456\n",
       "excellent    101467\n",
       "like new      21178\n",
       "fair           6769\n",
       "new            1305\n",
       "salvage         601\n",
       "Name: count, dtype: int64"
      ]
     },
     "execution_count": 6,
     "metadata": {},
     "output_type": "execute_result"
    }
   ],
   "source": [
    "df.condition.value_counts()"
   ]
  },
  {
   "cell_type": "code",
   "execution_count": 7,
   "id": "2e991e93",
   "metadata": {},
   "outputs": [],
   "source": [
    "df.drop(df[df.condition.isin(['new','salvage'])].index, inplace=True)"
   ]
  },
  {
   "cell_type": "code",
   "execution_count": 8,
   "id": "77354503",
   "metadata": {},
   "outputs": [],
   "source": [
    "df['posting_date'] = pd.to_datetime(df['posting_date'], utc=True)"
   ]
  },
  {
   "cell_type": "code",
   "execution_count": 9,
   "id": "054d3624",
   "metadata": {},
   "outputs": [
    {
     "name": "stdout",
     "output_type": "stream",
     "text": [
      "Earliest posting_date: 2021-04-04 07:00:25+00:00 \n",
      "Latest posting_date: 2021-05-05 04:24:09+00:00\n"
     ]
    }
   ],
   "source": [
    "print(f\"Earliest posting_date: {df.posting_date.min()} \\nLatest posting_date: {df.posting_date.max()}\")"
   ]
  },
  {
   "cell_type": "code",
   "execution_count": 10,
   "id": "0a87053e",
   "metadata": {},
   "outputs": [
    {
     "name": "stdout",
     "output_type": "stream",
     "text": [
      "Maximum price: 3736928711 $\n",
      "Minimum price: 0 $\n"
     ]
    }
   ],
   "source": [
    "print(f\"Maximum price: {df.price.max()} $\\nMinimum price: {df.price.min()} $\")"
   ]
  },
  {
   "cell_type": "code",
   "execution_count": 11,
   "id": "af144a67",
   "metadata": {},
   "outputs": [
    {
     "data": {
      "text/plain": [
       "(array([5.2323e+04, 2.5642e+04, 3.3776e+04, 3.3660e+04, 2.8459e+04,\n",
       "        2.1547e+04, 2.1186e+04, 2.1721e+04, 1.9595e+04, 1.8644e+04,\n",
       "        1.3260e+04, 1.3611e+04, 1.4730e+04, 1.3680e+04, 1.4297e+04,\n",
       "        1.0355e+04, 1.0477e+04, 1.0451e+04, 8.4580e+03, 1.0206e+04,\n",
       "        3.9150e+03, 3.7150e+03, 3.2820e+03, 2.3910e+03, 2.7290e+03,\n",
       "        1.2010e+03, 1.6260e+03, 1.4730e+03, 8.8700e+02, 1.4880e+03,\n",
       "        4.1700e+02, 6.5200e+02, 7.8000e+02, 4.1700e+02, 8.3200e+02,\n",
       "        2.6500e+02, 3.4900e+02, 2.9600e+02, 2.1100e+02, 3.7700e+02,\n",
       "        9.6000e+01, 1.7300e+02, 1.7700e+02, 1.0900e+02, 1.2300e+02,\n",
       "        3.6000e+01, 5.7000e+01, 5.2000e+01, 2.0000e+01, 1.1900e+02]),\n",
       " array([     0.,   2000.,   4000.,   6000.,   8000.,  10000.,  12000.,\n",
       "         14000.,  16000.,  18000.,  20000.,  22000.,  24000.,  26000.,\n",
       "         28000.,  30000.,  32000.,  34000.,  36000.,  38000.,  40000.,\n",
       "         42000.,  44000.,  46000.,  48000.,  50000.,  52000.,  54000.,\n",
       "         56000.,  58000.,  60000.,  62000.,  64000.,  66000.,  68000.,\n",
       "         70000.,  72000.,  74000.,  76000.,  78000.,  80000.,  82000.,\n",
       "         84000.,  86000.,  88000.,  90000.,  92000.,  94000.,  96000.,\n",
       "         98000., 100000.]),\n",
       " <BarContainer object of 50 artists>)"
      ]
     },
     "execution_count": 11,
     "metadata": {},
     "output_type": "execute_result"
    },
    {
     "data": {
      "image/png": "[encoded data removed]",
      "text/plain": [
       "<Figure size 640x480 with 1 Axes>"
      ]
     },
     "metadata": {},
     "output_type": "display_data"
    }
   ],
   "source": [
    "plt.hist(df.price, bins=50, range=[0,100000])"
   ]
  },
  {
   "cell_type": "code",
   "execution_count": 12,
   "id": "775018dd",
   "metadata": {},
   "outputs": [],
   "source": [
    "df.drop(df[df.price <= 500].index, inplace = True)"
   ]
  },
  {
   "cell_type": "code",
   "execution_count": 13,
   "id": "3e203b43",
   "metadata": {},
   "outputs": [],
   "source": [
    "df.drop(df[df.price > 150000].index, inplace = True)"
   ]
  },
  {
   "cell_type": "code",
   "execution_count": 14,
   "id": "9a311072",
   "metadata": {},
   "outputs": [
    {
     "data": {
      "text/plain": [
       "(array([9.5880e+03, 2.5642e+04, 3.3776e+04, 3.3660e+04, 2.8459e+04,\n",
       "        2.1547e+04, 2.1186e+04, 2.1721e+04, 1.9595e+04, 1.8644e+04,\n",
       "        1.3260e+04, 1.3611e+04, 1.4730e+04, 1.3680e+04, 1.4297e+04,\n",
       "        1.0355e+04, 1.0477e+04, 1.0451e+04, 8.4580e+03, 1.0206e+04,\n",
       "        3.9150e+03, 3.7150e+03, 3.2820e+03, 2.3910e+03, 2.7290e+03,\n",
       "        1.2010e+03, 1.6260e+03, 1.4730e+03, 8.8700e+02, 1.4880e+03,\n",
       "        4.1700e+02, 6.5200e+02, 7.8000e+02, 4.1700e+02, 8.3200e+02,\n",
       "        2.6500e+02, 3.4900e+02, 2.9600e+02, 2.1100e+02, 3.7700e+02,\n",
       "        9.6000e+01, 1.7300e+02, 1.7700e+02, 1.0900e+02, 1.2300e+02,\n",
       "        3.6000e+01, 5.7000e+01, 5.2000e+01, 2.0000e+01, 1.1900e+02]),\n",
       " array([     0.,   2000.,   4000.,   6000.,   8000.,  10000.,  12000.,\n",
       "         14000.,  16000.,  18000.,  20000.,  22000.,  24000.,  26000.,\n",
       "         28000.,  30000.,  32000.,  34000.,  36000.,  38000.,  40000.,\n",
       "         42000.,  44000.,  46000.,  48000.,  50000.,  52000.,  54000.,\n",
       "         56000.,  58000.,  60000.,  62000.,  64000.,  66000.,  68000.,\n",
       "         70000.,  72000.,  74000.,  76000.,  78000.,  80000.,  82000.,\n",
       "         84000.,  86000.,  88000.,  90000.,  92000.,  94000.,  96000.,\n",
       "         98000., 100000.]),\n",
       " <BarContainer object of 50 artists>)"
      ]
     },
     "execution_count": 14,
     "metadata": {},
     "output_type": "execute_result"
    },
    {
     "data": {
      "image/png": "[encoded data removed]",
      "text/plain": [
       "<Figure size 640x480 with 1 Axes>"
      ]
     },
     "metadata": {},
     "output_type": "display_data"
    }
   ],
   "source": [
    "plt.hist(df.price, bins=50, range=[0,100000])"
   ]
  },
  {
   "cell_type": "code",
   "execution_count": 15,
   "id": "80f1cc97",
   "metadata": {},
   "outputs": [
    {
     "data": {
      "text/plain": [
       "(array([7.00000e+00, 4.70000e+01, 4.06000e+02, 4.68000e+02, 1.33400e+03,\n",
       "        3.27600e+03, 3.27400e+03, 7.39600e+03, 7.17550e+04, 2.74176e+05]),\n",
       " array([1900. , 1911.9, 1923.8, 1935.7, 1947.6, 1959.5, 1971.4, 1983.3,\n",
       "        1995.2, 2007.1, 2019. ]),\n",
       " <BarContainer object of 10 artists>)"
      ]
     },
     "execution_count": 15,
     "metadata": {},
     "output_type": "execute_result"
    },
    {
     "data": {
      "image/png": "[encoded data removed]",
      "text/plain": [
       "<Figure size 640x480 with 1 Axes>"
      ]
     },
     "metadata": {},
     "output_type": "display_data"
    }
   ],
   "source": [
    "plt.hist(df.year[df['year'] < 2020])#.describe()"
   ]
  },
  {
   "cell_type": "code",
   "execution_count": 16,
   "id": "3ee0bb4e",
   "metadata": {},
   "outputs": [
    {
     "data": {
      "text/plain": [
       "(array([  844.,   619.,  1963.,  1975.,  1642.,  1991.,  3273.,  7557.,\n",
       "        31079., 77939.]),\n",
       " array([1950. , 1956.1, 1962.2, 1968.3, 1974.4, 1980.5, 1986.6, 1992.7,\n",
       "        1998.8, 2004.9, 2011. ]),\n",
       " <BarContainer object of 10 artists>)"
      ]
     },
     "execution_count": 16,
     "metadata": {},
     "output_type": "execute_result"
    },
    {
     "data": {
      "image/png": "[encoded data removed]",
      "text/plain": [
       "<Figure size 640x480 with 1 Axes>"
      ]
     },
     "metadata": {},
     "output_type": "display_data"
    }
   ],
   "source": [
    "plt.hist(df.year[df['year'] < 2011], range=[1950, 2011])#.describe()"
   ]
  },
  {
   "cell_type": "code",
   "execution_count": 17,
   "id": "d5102684",
   "metadata": {},
   "outputs": [],
   "source": [
    "df.drop(df[df.year <= 1970].index, inplace = True)"
   ]
  },
  {
   "cell_type": "code",
   "execution_count": 18,
   "id": "371d9462",
   "metadata": {},
   "outputs": [
    {
     "name": "stderr",
     "output_type": "stream",
     "text": [
      "C:\\Users\\mitch\\AppData\\Local\\Temp\\ipykernel_23928\\2501215559.py:1: DtypeWarning: Columns (9,11,12,13,14,15,16,17,19,20,24,27,29,33,43,44,47,49,51,69,75,77) have mixed types. Specify dtype option on import or set low_memory=False.\n",
      "  df_spec = pd.read_csv('data/CarSpecs_1945_2020.csv')\n"
     ]
    },
    {
     "data": {
      "text/html": [
       "<div>\n",
       "<style scoped>\n",
       "    .dataframe tbody tr th:only-of-type {\n",
       "        vertical-align: middle;\n",
       "    }\n",
       "\n",
       "    .dataframe tbody tr th {\n",
       "        vertical-align: top;\n",
       "    }\n",
       "\n",
       "    .dataframe thead th {\n",
       "        text-align: right;\n",
       "    }\n",
       "</style>\n",
       "<table border=\"1\" class=\"dataframe\">\n",
       "  <thead>\n",
       "    <tr style=\"text-align: right;\">\n",
       "      <th></th>\n",
       "      <th>id_trim</th>\n",
       "      <th>Make</th>\n",
       "      <th>Modle</th>\n",
       "      <th>Generation</th>\n",
       "      <th>Year_from</th>\n",
       "      <th>Year_to</th>\n",
       "      <th>Series</th>\n",
       "      <th>Trim</th>\n",
       "      <th>Body_type</th>\n",
       "      <th>load_height_mm</th>\n",
       "      <th>...</th>\n",
       "      <th>front_suspension</th>\n",
       "      <th>steering_type</th>\n",
       "      <th>car_class</th>\n",
       "      <th>country_of_origin</th>\n",
       "      <th>number_of_doors</th>\n",
       "      <th>safety_assessment</th>\n",
       "      <th>rating_name</th>\n",
       "      <th>battery_capacity_KW_per_h</th>\n",
       "      <th>electric_range_km</th>\n",
       "      <th>charging_time_h</th>\n",
       "    </tr>\n",
       "  </thead>\n",
       "  <tbody>\n",
       "    <tr>\n",
       "      <th>0</th>\n",
       "      <td>1</td>\n",
       "      <td>AC</td>\n",
       "      <td>ACE</td>\n",
       "      <td>1 generation</td>\n",
       "      <td>1993.0</td>\n",
       "      <td>2000.0</td>\n",
       "      <td>Cabriolet</td>\n",
       "      <td>3.5 MT</td>\n",
       "      <td>Cabriolet</td>\n",
       "      <td>NaN</td>\n",
       "      <td>...</td>\n",
       "      <td>Helical springs</td>\n",
       "      <td>NaN</td>\n",
       "      <td>NaN</td>\n",
       "      <td>NaN</td>\n",
       "      <td>NaN</td>\n",
       "      <td>NaN</td>\n",
       "      <td>NaN</td>\n",
       "      <td>NaN</td>\n",
       "      <td>NaN</td>\n",
       "      <td>NaN</td>\n",
       "    </tr>\n",
       "    <tr>\n",
       "      <th>1</th>\n",
       "      <td>2</td>\n",
       "      <td>AC</td>\n",
       "      <td>ACE</td>\n",
       "      <td>1 generation</td>\n",
       "      <td>1993.0</td>\n",
       "      <td>2000.0</td>\n",
       "      <td>Cabriolet</td>\n",
       "      <td>4.6 MT</td>\n",
       "      <td>Cabriolet</td>\n",
       "      <td>NaN</td>\n",
       "      <td>...</td>\n",
       "      <td>Helical springs</td>\n",
       "      <td>NaN</td>\n",
       "      <td>NaN</td>\n",
       "      <td>NaN</td>\n",
       "      <td>NaN</td>\n",
       "      <td>NaN</td>\n",
       "      <td>NaN</td>\n",
       "      <td>NaN</td>\n",
       "      <td>NaN</td>\n",
       "      <td>NaN</td>\n",
       "    </tr>\n",
       "    <tr>\n",
       "      <th>2</th>\n",
       "      <td>3</td>\n",
       "      <td>AC</td>\n",
       "      <td>ACE</td>\n",
       "      <td>1 generation</td>\n",
       "      <td>1993.0</td>\n",
       "      <td>2000.0</td>\n",
       "      <td>Cabriolet</td>\n",
       "      <td>4.9 AT</td>\n",
       "      <td>Cabriolet</td>\n",
       "      <td>NaN</td>\n",
       "      <td>...</td>\n",
       "      <td>Helical springs</td>\n",
       "      <td>NaN</td>\n",
       "      <td>NaN</td>\n",
       "      <td>NaN</td>\n",
       "      <td>NaN</td>\n",
       "      <td>NaN</td>\n",
       "      <td>NaN</td>\n",
       "      <td>NaN</td>\n",
       "      <td>NaN</td>\n",
       "      <td>NaN</td>\n",
       "    </tr>\n",
       "    <tr>\n",
       "      <th>3</th>\n",
       "      <td>4</td>\n",
       "      <td>AC</td>\n",
       "      <td>ACE</td>\n",
       "      <td>1 generation</td>\n",
       "      <td>1993.0</td>\n",
       "      <td>2000.0</td>\n",
       "      <td>Roadster</td>\n",
       "      <td>2.9 AT</td>\n",
       "      <td>NaN</td>\n",
       "      <td>NaN</td>\n",
       "      <td>...</td>\n",
       "      <td>NaN</td>\n",
       "      <td>NaN</td>\n",
       "      <td>NaN</td>\n",
       "      <td>NaN</td>\n",
       "      <td>NaN</td>\n",
       "      <td>NaN</td>\n",
       "      <td>NaN</td>\n",
       "      <td>NaN</td>\n",
       "      <td>NaN</td>\n",
       "      <td>NaN</td>\n",
       "    </tr>\n",
       "    <tr>\n",
       "      <th>4</th>\n",
       "      <td>5</td>\n",
       "      <td>AC</td>\n",
       "      <td>ACE</td>\n",
       "      <td>1 generation</td>\n",
       "      <td>1993.0</td>\n",
       "      <td>2000.0</td>\n",
       "      <td>Roadster</td>\n",
       "      <td>2.9 MT</td>\n",
       "      <td>NaN</td>\n",
       "      <td>NaN</td>\n",
       "      <td>...</td>\n",
       "      <td>NaN</td>\n",
       "      <td>NaN</td>\n",
       "      <td>NaN</td>\n",
       "      <td>NaN</td>\n",
       "      <td>NaN</td>\n",
       "      <td>NaN</td>\n",
       "      <td>NaN</td>\n",
       "      <td>NaN</td>\n",
       "      <td>NaN</td>\n",
       "      <td>NaN</td>\n",
       "    </tr>\n",
       "  </tbody>\n",
       "</table>\n",
       "<p>5 rows × 78 columns</p>\n",
       "</div>"
      ],
      "text/plain": [
       "   id_trim Make Modle    Generation  Year_from  Year_to     Series    Trim  \\\n",
       "0        1   AC   ACE  1 generation     1993.0   2000.0  Cabriolet  3.5 MT   \n",
       "1        2   AC   ACE  1 generation     1993.0   2000.0  Cabriolet  4.6 MT   \n",
       "2        3   AC   ACE  1 generation     1993.0   2000.0  Cabriolet  4.9 AT   \n",
       "3        4   AC   ACE  1 generation     1993.0   2000.0   Roadster  2.9 AT   \n",
       "4        5   AC   ACE  1 generation     1993.0   2000.0   Roadster  2.9 MT   \n",
       "\n",
       "   Body_type load_height_mm  ... front_suspension steering_type car_class  \\\n",
       "0  Cabriolet            NaN  ...  Helical springs           NaN       NaN   \n",
       "1  Cabriolet            NaN  ...  Helical springs           NaN       NaN   \n",
       "2  Cabriolet            NaN  ...  Helical springs           NaN       NaN   \n",
       "3        NaN            NaN  ...              NaN           NaN       NaN   \n",
       "4        NaN            NaN  ...              NaN           NaN       NaN   \n",
       "\n",
       "  country_of_origin number_of_doors safety_assessment rating_name  \\\n",
       "0               NaN             NaN               NaN         NaN   \n",
       "1               NaN             NaN               NaN         NaN   \n",
       "2               NaN             NaN               NaN         NaN   \n",
       "3               NaN             NaN               NaN         NaN   \n",
       "4               NaN             NaN               NaN         NaN   \n",
       "\n",
       "  battery_capacity_KW_per_h electric_range_km charging_time_h  \n",
       "0                       NaN               NaN             NaN  \n",
       "1                       NaN               NaN             NaN  \n",
       "2                       NaN               NaN             NaN  \n",
       "3                       NaN               NaN             NaN  \n",
       "4                       NaN               NaN             NaN  \n",
       "\n",
       "[5 rows x 78 columns]"
      ]
     },
     "execution_count": 18,
     "metadata": {},
     "output_type": "execute_result"
    }
   ],
   "source": []
  },
  {
   "cell_type": "code",
   "execution_count": 19,
   "id": "22e082ba",
   "metadata": {},
   "outputs": [
    {
     "name": "stdout",
     "output_type": "stream",
     "text": [
      "[nan 'gmc' 'chevrolet' 'toyota' 'ford' 'jeep' 'nissan' 'ram' 'mazda'\n",
      " 'cadillac' 'honda' 'dodge' 'lexus' 'jaguar' 'buick' 'chrysler' 'volvo'\n",
      " 'audi' 'infiniti' 'lincoln' 'alfa-romeo' 'subaru' 'acura' 'hyundai'\n",
      " 'mercedes-benz' 'bmw' 'mitsubishi' 'volkswagen' 'porsche' 'kia' 'rover'\n",
      " 'mini' 'pontiac' 'fiat' 'tesla' 'mercury' 'saturn' 'aston-martin'\n",
      " 'land rover']\n"
     ]
    }
   ],
   "source": [
    "#print(df.manufacturer.unique())\n",
    "df = df[~df.manufacturer.isin(['harley-davidson', 'ferrari', 'datsun', 'morgan'])]\n",
    "print(df.manufacturer.unique())\n"
   ]
  },
  {
   "cell_type": "code",
   "execution_count": 20,
   "id": "0e05b008",
   "metadata": {},
   "outputs": [
    {
     "name": "stdout",
     "output_type": "stream",
     "text": [
      "['gmc', 'chevrolet', 'toyota', 'ford', 'jeep', 'nissan', 'ram', 'mazda', 'cadillac', 'honda', 'dodge', 'lexus', 'jaguar', 'buick', 'chrysler', 'volvo', 'audi', 'infiniti', 'lincoln', 'alfa-romeo', 'subaru', 'acura', 'hyundai', 'mercedes-benz', 'bmw', 'mitsubishi', 'volkswagen', 'porsche', 'kia', 'rover', 'mini', 'pontiac', 'fiat', 'tesla', 'mercury', 'saturn', 'aston-martin', 'land rover']\n"
     ]
    }
   ],
   "source": [
    "topmanus = df.manufacturer.unique().tolist()\n",
    "topmanus.remove(np.nan)\n",
    "print(topmanus)"
   ]
  },
  {
   "cell_type": "code",
   "execution_count": 21,
   "id": "27bc9995",
   "metadata": {},
   "outputs": [
    {
     "data": {
      "text/plain": [
       "model\n",
       "Scion iM Hatchback 4D             640\n",
       "smart fortwo Passion Hatchback    168\n",
       "Genesis G80 3.8 Sedan 4D          163\n",
       "International 4300                147\n",
       "Scion xD Hatchback 4D             134\n",
       "                                 ... \n",
       "Chevi Astro Van                     1\n",
       "RAM1500 SLT HEMI CREW               1\n",
       "F-8OO DUMP TRUCK                    1\n",
       "Morton IL                           1\n",
       "96 Suburban                         1\n",
       "Name: count, Length: 4872, dtype: int64"
      ]
     },
     "execution_count": 21,
     "metadata": {},
     "output_type": "execute_result"
    }
   ],
   "source": [
    "df.model[df.manufacturer.isnull()].value_counts()"
   ]
  },
  {
   "cell_type": "code",
   "execution_count": 22,
   "id": "51688168",
   "metadata": {},
   "outputs": [
    {
     "name": "stdout",
     "output_type": "stream",
     "text": [
      "0\n",
      "2\n"
     ]
    }
   ],
   "source": [
    "old_car_makers = [x.upper() for x in ['Citreon', 'MG', 'Mokvich', 'DeSoto', 'Delage', 'GAZ', 'Lancia', 'Opel', 'Packard', 'Renault', 'Skoda', 'Tatra', 'Vauxhall']]\n",
    "make_counts = {}\n",
    "\n",
    "print(str(len(df[df.manufacturer.isin(old_car_makers)])))\n",
    "print(str(len(df[df.model.isin(old_car_makers)])))\n",
    "#for maker in old_car_makers:\n",
    "    #df[df.description.str.upper().str.contains(maker)]"
   ]
  },
  {
   "cell_type": "code",
   "execution_count": 23,
   "id": "ae0c5a09",
   "metadata": {},
   "outputs": [
    {
     "ename": "ValueError",
     "evalue": "Cannot mask with non-boolean array containing NA / NaN values",
     "output_type": "error",
     "traceback": [
      "\u001b[1;31m---------------------------------------------------------------------------\u001b[0m",
      "\u001b[1;31mValueError\u001b[0m                                Traceback (most recent call last)",
      "Cell \u001b[1;32mIn[23], line 1\u001b[0m\n\u001b[1;32m----> 1\u001b[0m df[df\u001b[38;5;241m.\u001b[39mmodel\u001b[38;5;241m.\u001b[39mstr\u001b[38;5;241m.\u001b[39mcontains(\u001b[38;5;124m'\u001b[39m\u001b[38;5;124mMetris\u001b[39m\u001b[38;5;124m'\u001b[39m)]\n",
      "File \u001b[1;32m~\\anaconda3\\Lib\\site-packages\\pandas\\core\\frame.py:3883\u001b[0m, in \u001b[0;36mDataFrame.__getitem__\u001b[1;34m(self, key)\u001b[0m\n\u001b[0;32m   3880\u001b[0m     \u001b[38;5;28;01mreturn\u001b[39;00m \u001b[38;5;28mself\u001b[39m\u001b[38;5;241m.\u001b[39mwhere(key)\n\u001b[0;32m   3882\u001b[0m \u001b[38;5;66;03m# Do we have a (boolean) 1d indexer?\u001b[39;00m\n\u001b[1;32m-> 3883\u001b[0m \u001b[38;5;28;01mif\u001b[39;00m com\u001b[38;5;241m.\u001b[39mis_bool_indexer(key):\n\u001b[0;32m   3884\u001b[0m     \u001b[38;5;28;01mreturn\u001b[39;00m \u001b[38;5;28mself\u001b[39m\u001b[38;5;241m.\u001b[39m_getitem_bool_array(key)\n\u001b[0;32m   3886\u001b[0m \u001b[38;5;66;03m# We are left with two options: a single key, and a collection of keys,\u001b[39;00m\n\u001b[0;32m   3887\u001b[0m \u001b[38;5;66;03m# We interpret tuples as collections only for non-MultiIndex\u001b[39;00m\n",
      "File \u001b[1;32m~\\anaconda3\\Lib\\site-packages\\pandas\\core\\common.py:133\u001b[0m, in \u001b[0;36mis_bool_indexer\u001b[1;34m(key)\u001b[0m\n\u001b[0;32m    129\u001b[0m     na_msg \u001b[38;5;241m=\u001b[39m \u001b[38;5;124m\"\u001b[39m\u001b[38;5;124mCannot mask with non-boolean array containing NA / NaN values\u001b[39m\u001b[38;5;124m\"\u001b[39m\n\u001b[0;32m    130\u001b[0m     \u001b[38;5;28;01mif\u001b[39;00m lib\u001b[38;5;241m.\u001b[39mis_bool_array(key_array, skipna\u001b[38;5;241m=\u001b[39m\u001b[38;5;28;01mTrue\u001b[39;00m):\n\u001b[0;32m    131\u001b[0m         \u001b[38;5;66;03m# Don't raise on e.g. [\"A\", \"B\", np.nan], see\u001b[39;00m\n\u001b[0;32m    132\u001b[0m         \u001b[38;5;66;03m#  test_loc_getitem_list_of_labels_categoricalindex_with_na\u001b[39;00m\n\u001b[1;32m--> 133\u001b[0m         \u001b[38;5;28;01mraise\u001b[39;00m \u001b[38;5;167;01mValueError\u001b[39;00m(na_msg)\n\u001b[0;32m    134\u001b[0m     \u001b[38;5;28;01mreturn\u001b[39;00m \u001b[38;5;28;01mFalse\u001b[39;00m\n\u001b[0;32m    135\u001b[0m \u001b[38;5;28;01mreturn\u001b[39;00m \u001b[38;5;28;01mTrue\u001b[39;00m\n",
      "\u001b[1;31mValueError\u001b[0m: Cannot mask with non-boolean array containing NA / NaN values"
     ]
    }
   ],
   "source": [
    "df[df.model.str.contains('Metris')]"
   ]
  },
  {
   "cell_type": "code",
   "execution_count": null,
   "id": "77254032",
   "metadata": {},
   "outputs": [],
   "source": [
    "car_makers = [x.upper() for x in cars]\n",
    "car_makers"
   ]
  },
  {
   "cell_type": "code",
   "execution_count": null,
   "id": "54f4c7e1",
   "metadata": {},
   "outputs": [],
   "source": [
    "df_nomanu = df[df.manufacturer.isnull()].reset_index()\n",
    "df_manu = df[~df.manufacturer.isnull()].reset_index()\n",
    "df_nomanu.description.isnull().sum()\n",
    "df_nomanu.shape"
   ]
  },
  {
   "cell_type": "code",
   "execution_count": null,
   "id": "80259310",
   "metadata": {},
   "outputs": [],
   "source": [
    "df.model[df.model.str.upper().str.contains('SCION') & df.manufacturer.isnull()].describe()\n",
    "\n",
    "print('There are 1806 rows out of 14,000 where manufacturer is null and is entered in the model column instead.')"
   ]
  },
  {
   "cell_type": "code",
   "execution_count": null,
   "id": "4f7d258b",
   "metadata": {},
   "outputs": [],
   "source": [
    "df.description[df.description.str.upper().str.contains('SCION') & df.manufacturer.isnull()].describe()"
   ]
  },
  {
   "cell_type": "code",
   "execution_count": null,
   "id": "9ac4b65e",
   "metadata": {},
   "outputs": [],
   "source": [
    "df[df.id == 7302129327].description.astype(str)"
   ]
  },
  {
   "cell_type": "code",
   "execution_count": null,
   "id": "261a46b9",
   "metadata": {},
   "outputs": [],
   "source": [
    "df[df.manufacturer.str.upper().str.contains('DODGE') & df.model.str.upper().str.contains('CHALLENGER')]"
   ]
  },
  {
   "cell_type": "code",
   "execution_count": null,
   "id": "06f0bcb5",
   "metadata": {},
   "outputs": [],
   "source": [
    "df.VIN.value_counts()"
   ]
  },
  {
   "cell_type": "code",
   "execution_count": null,
   "id": "96e926e6",
   "metadata": {},
   "outputs": [],
   "source": [
    "df[df.VIN == '1FMJU1JT1HEA52352'].price.describe()"
   ]
  },
  {
   "cell_type": "code",
   "execution_count": 29,
   "id": "ef326cd5",
   "metadata": {},
   "outputs": [
    {
     "data": {
      "text/html": [
       "<div>\n",
       "<style scoped>\n",
       "    .dataframe tbody tr th:only-of-type {\n",
       "        vertical-align: middle;\n",
       "    }\n",
       "\n",
       "    .dataframe tbody tr th {\n",
       "        vertical-align: top;\n",
       "    }\n",
       "\n",
       "    .dataframe thead th {\n",
       "        text-align: right;\n",
       "    }\n",
       "</style>\n",
       "<table border=\"1\" class=\"dataframe\">\n",
       "  <thead>\n",
       "    <tr style=\"text-align: right;\">\n",
       "      <th></th>\n",
       "      <th>id</th>\n",
       "      <th>url</th>\n",
       "      <th>region</th>\n",
       "      <th>region_url</th>\n",
       "      <th>price</th>\n",
       "      <th>year</th>\n",
       "      <th>manufacturer</th>\n",
       "      <th>model</th>\n",
       "      <th>condition</th>\n",
       "      <th>cylinders</th>\n",
       "      <th>...</th>\n",
       "      <th>size</th>\n",
       "      <th>type</th>\n",
       "      <th>paint_color</th>\n",
       "      <th>image_url</th>\n",
       "      <th>description</th>\n",
       "      <th>county</th>\n",
       "      <th>state</th>\n",
       "      <th>lat</th>\n",
       "      <th>long</th>\n",
       "      <th>posting_date</th>\n",
       "    </tr>\n",
       "  </thead>\n",
       "  <tbody>\n",
       "    <tr>\n",
       "      <th>27</th>\n",
       "      <td>7316814884</td>\n",
       "      <td>https://auburn.craigslist.org/ctd/d/auburn-uni...</td>\n",
       "      <td>auburn</td>\n",
       "      <td>https://auburn.craigslist.org</td>\n",
       "      <td>33590</td>\n",
       "      <td>2014.0</td>\n",
       "      <td>gmc</td>\n",
       "      <td>sierra 1500 crew cab slt</td>\n",
       "      <td>good</td>\n",
       "      <td>8 cylinders</td>\n",
       "      <td>...</td>\n",
       "      <td>NaN</td>\n",
       "      <td>pickup</td>\n",
       "      <td>white</td>\n",
       "      <td>https://images.craigslist.org/00R0R_lwWjXSEWNa...</td>\n",
       "      <td>Carvana is the safer way to buy a car During t...</td>\n",
       "      <td>NaN</td>\n",
       "      <td>al</td>\n",
       "      <td>32.59</td>\n",
       "      <td>-85.48</td>\n",
       "      <td>2021-05-04 17:31:18+00:00</td>\n",
       "    </tr>\n",
       "    <tr>\n",
       "      <th>28</th>\n",
       "      <td>7316814758</td>\n",
       "      <td>https://auburn.craigslist.org/ctd/d/auburn-uni...</td>\n",
       "      <td>auburn</td>\n",
       "      <td>https://auburn.craigslist.org</td>\n",
       "      <td>22590</td>\n",
       "      <td>2010.0</td>\n",
       "      <td>chevrolet</td>\n",
       "      <td>silverado 1500</td>\n",
       "      <td>good</td>\n",
       "      <td>8 cylinders</td>\n",
       "      <td>...</td>\n",
       "      <td>NaN</td>\n",
       "      <td>pickup</td>\n",
       "      <td>blue</td>\n",
       "      <td>https://images.craigslist.org/00R0R_lwWjXSEWNa...</td>\n",
       "      <td>Carvana is the safer way to buy a car During t...</td>\n",
       "      <td>NaN</td>\n",
       "      <td>al</td>\n",
       "      <td>32.59</td>\n",
       "      <td>-85.48</td>\n",
       "      <td>2021-05-04 17:31:08+00:00</td>\n",
       "    </tr>\n",
       "    <tr>\n",
       "      <th>29</th>\n",
       "      <td>7316814989</td>\n",
       "      <td>https://auburn.craigslist.org/ctd/d/auburn-uni...</td>\n",
       "      <td>auburn</td>\n",
       "      <td>https://auburn.craigslist.org</td>\n",
       "      <td>39590</td>\n",
       "      <td>2020.0</td>\n",
       "      <td>chevrolet</td>\n",
       "      <td>silverado 1500 crew</td>\n",
       "      <td>good</td>\n",
       "      <td>8 cylinders</td>\n",
       "      <td>...</td>\n",
       "      <td>NaN</td>\n",
       "      <td>pickup</td>\n",
       "      <td>red</td>\n",
       "      <td>https://images.craigslist.org/01212_jjirIWa0y0...</td>\n",
       "      <td>Carvana is the safer way to buy a car During t...</td>\n",
       "      <td>NaN</td>\n",
       "      <td>al</td>\n",
       "      <td>32.59</td>\n",
       "      <td>-85.48</td>\n",
       "      <td>2021-05-04 17:31:25+00:00</td>\n",
       "    </tr>\n",
       "    <tr>\n",
       "      <th>30</th>\n",
       "      <td>7316743432</td>\n",
       "      <td>https://auburn.craigslist.org/ctd/d/auburn-uni...</td>\n",
       "      <td>auburn</td>\n",
       "      <td>https://auburn.craigslist.org</td>\n",
       "      <td>30990</td>\n",
       "      <td>2017.0</td>\n",
       "      <td>toyota</td>\n",
       "      <td>tundra double cab sr</td>\n",
       "      <td>good</td>\n",
       "      <td>8 cylinders</td>\n",
       "      <td>...</td>\n",
       "      <td>NaN</td>\n",
       "      <td>pickup</td>\n",
       "      <td>red</td>\n",
       "      <td>https://images.craigslist.org/00x0x_1y9kIOzGCF...</td>\n",
       "      <td>Carvana is the safer way to buy a car During t...</td>\n",
       "      <td>NaN</td>\n",
       "      <td>al</td>\n",
       "      <td>32.59</td>\n",
       "      <td>-85.48</td>\n",
       "      <td>2021-05-04 15:41:31+00:00</td>\n",
       "    </tr>\n",
       "    <tr>\n",
       "      <th>32</th>\n",
       "      <td>7316343444</td>\n",
       "      <td>https://auburn.craigslist.org/ctd/d/auburn-uni...</td>\n",
       "      <td>auburn</td>\n",
       "      <td>https://auburn.craigslist.org</td>\n",
       "      <td>27990</td>\n",
       "      <td>2012.0</td>\n",
       "      <td>gmc</td>\n",
       "      <td>sierra 2500 hd extended cab</td>\n",
       "      <td>good</td>\n",
       "      <td>8 cylinders</td>\n",
       "      <td>...</td>\n",
       "      <td>NaN</td>\n",
       "      <td>pickup</td>\n",
       "      <td>black</td>\n",
       "      <td>https://images.craigslist.org/00V0V_ftJbKrOgdi...</td>\n",
       "      <td>Carvana is the safer way to buy a car During t...</td>\n",
       "      <td>NaN</td>\n",
       "      <td>al</td>\n",
       "      <td>32.59</td>\n",
       "      <td>-85.48</td>\n",
       "      <td>2021-05-03 18:41:25+00:00</td>\n",
       "    </tr>\n",
       "  </tbody>\n",
       "</table>\n",
       "<p>5 rows × 26 columns</p>\n",
       "</div>"
      ],
      "text/plain": [
       "            id                                                url  region  \\\n",
       "27  7316814884  https://auburn.craigslist.org/ctd/d/auburn-uni...  auburn   \n",
       "28  7316814758  https://auburn.craigslist.org/ctd/d/auburn-uni...  auburn   \n",
       "29  7316814989  https://auburn.craigslist.org/ctd/d/auburn-uni...  auburn   \n",
       "30  7316743432  https://auburn.craigslist.org/ctd/d/auburn-uni...  auburn   \n",
       "32  7316343444  https://auburn.craigslist.org/ctd/d/auburn-uni...  auburn   \n",
       "\n",
       "                       region_url  price    year manufacturer  \\\n",
       "27  https://auburn.craigslist.org  33590  2014.0          gmc   \n",
       "28  https://auburn.craigslist.org  22590  2010.0    chevrolet   \n",
       "29  https://auburn.craigslist.org  39590  2020.0    chevrolet   \n",
       "30  https://auburn.craigslist.org  30990  2017.0       toyota   \n",
       "32  https://auburn.craigslist.org  27990  2012.0          gmc   \n",
       "\n",
       "                          model condition    cylinders  ... size    type  \\\n",
       "27     sierra 1500 crew cab slt      good  8 cylinders  ...  NaN  pickup   \n",
       "28               silverado 1500      good  8 cylinders  ...  NaN  pickup   \n",
       "29          silverado 1500 crew      good  8 cylinders  ...  NaN  pickup   \n",
       "30         tundra double cab sr      good  8 cylinders  ...  NaN  pickup   \n",
       "32  sierra 2500 hd extended cab      good  8 cylinders  ...  NaN  pickup   \n",
       "\n",
       "   paint_color                                          image_url  \\\n",
       "27       white  https://images.craigslist.org/00R0R_lwWjXSEWNa...   \n",
       "28        blue  https://images.craigslist.org/00R0R_lwWjXSEWNa...   \n",
       "29         red  https://images.craigslist.org/01212_jjirIWa0y0...   \n",
       "30         red  https://images.craigslist.org/00x0x_1y9kIOzGCF...   \n",
       "32       black  https://images.craigslist.org/00V0V_ftJbKrOgdi...   \n",
       "\n",
       "                                          description county state    lat  \\\n",
       "27  Carvana is the safer way to buy a car During t...    NaN    al  32.59   \n",
       "28  Carvana is the safer way to buy a car During t...    NaN    al  32.59   \n",
       "29  Carvana is the safer way to buy a car During t...    NaN    al  32.59   \n",
       "30  Carvana is the safer way to buy a car During t...    NaN    al  32.59   \n",
       "32  Carvana is the safer way to buy a car During t...    NaN    al  32.59   \n",
       "\n",
       "     long              posting_date  \n",
       "27 -85.48 2021-05-04 17:31:18+00:00  \n",
       "28 -85.48 2021-05-04 17:31:08+00:00  \n",
       "29 -85.48 2021-05-04 17:31:25+00:00  \n",
       "30 -85.48 2021-05-04 15:41:31+00:00  \n",
       "32 -85.48 2021-05-03 18:41:25+00:00  \n",
       "\n",
       "[5 rows x 26 columns]"
      ]
     },
     "execution_count": 29,
     "metadata": {},
     "output_type": "execute_result"
    }
   ],
   "source": [
    "df3 = df[df.VIN.notna()]\n",
    "df2 = df3.drop_duplicates(subset='VIN')\n",
    "df2.head()"
   ]
  },
  {
   "cell_type": "code",
   "execution_count": 33,
   "id": "25feca9e",
   "metadata": {},
   "outputs": [
    {
     "data": {
      "text/plain": [
       "True"
      ]
     },
     "execution_count": 33,
     "metadata": {},
     "output_type": "execute_result"
    }
   ],
   "source": [
    "df2.VIN.is_unique"
   ]
  },
  {
   "cell_type": "code",
   "execution_count": 34,
   "id": "2cb40e6c",
   "metadata": {},
   "outputs": [
    {
     "data": {
      "text/plain": [
       "(101928, 26)"
      ]
     },
     "execution_count": 34,
     "metadata": {},
     "output_type": "execute_result"
    }
   ],
   "source": [
    "df2.shape"
   ]
  },
  {
   "cell_type": "code",
   "execution_count": 35,
   "id": "52ffc842",
   "metadata": {},
   "outputs": [
    {
     "data": {
      "text/plain": [
       "(142162, 26)"
      ]
     },
     "execution_count": 35,
     "metadata": {},
     "output_type": "execute_result"
    }
   ],
   "source": [
    "df4 = df[df.VIN.isnull()]\n",
    "df4.shape"
   ]
  },
  {
   "cell_type": "code",
   "execution_count": 39,
   "id": "cfd4f58a",
   "metadata": {},
   "outputs": [],
   "source": [
    "df2.to_csv('craigslist_withVins.csv', index=False)"
   ]
  },
  {
   "cell_type": "code",
   "execution_count": null,
   "id": "a96b7ced",
   "metadata": {},
   "outputs": [],
   "source": [
    "num_manu = 0\n",
    "num_yr = 0\n",
    "\n",
    "df_nomanu_noyr = df_nomanu[df_nomanu.year.isnull()].reset_index()\n",
    "df_nomanu_yr = df_nomanu[~df_nomanu.year.isnull()].reset_index()\n",
    "'''\n",
    "for i, j in df_nomanu_noyr.iterrows():\n",
    "    for yr in stringyears:\n",
    "        if yr in model:\n",
    "            num_yr += 1  \n",
    "\n",
    "for i, j in df_nomanu.iterrows():\n",
    "    #print(i)\n",
    "    #desc = df_nomanu.iloc[i]['description']\n",
    "\n",
    "    #print(desc)\n",
    "    \n",
    "    model = df_nomanu.iloc[i]['model']\n",
    "    for brand in car_makers:\n",
    "        if brand in model.upper():\n",
    "            #print(brand)\n",
    "            num_manu += 1\n",
    "            \n",
    "    #for car in car_makers:\n",
    "        #if car in desc.upper():\n",
    "            #print(car)\n",
    "    #print('\\n')\n",
    "\n",
    "print('manus found:' + str(num_manu))\n",
    "\n",
    "print('yrs found: ' + str(num_yr))\n",
    "'''\n",
    "df_nomanu_noyr.shape\n",
    "\n",
    "#df_nomanu.iloc[0].model"
   ]
  },
  {
   "cell_type": "code",
   "execution_count": null,
   "id": "7a173685",
   "metadata": {},
   "outputs": [],
   "source": [
    "years = np.arange(1940, 2021)\n",
    "years\n",
    "stringyears = np.char.mod('%d', years)\n",
    "stringyears\n",
    "pattern = '|'.join(stringyears)\n",
    "pattern"
   ]
  },
  {
   "cell_type": "code",
   "execution_count": null,
   "id": "7eecffd2",
   "metadata": {},
   "outputs": [],
   "source": [
    "df_noyear = df[df.year.isnull()].reset_index()\n",
    "df_year = df[~df.year.isnull()].reset_index()\n",
    "df.shape[0] == df_noyear.shape[0] + df_year.shape[0]"
   ]
  },
  {
   "cell_type": "code",
   "execution_count": null,
   "id": "664388ea",
   "metadata": {},
   "outputs": [],
   "source": [
    "#df_no_yeary = df_noyear[~df.description.isnull()]\n",
    "df_noyear"
   ]
  },
  {
   "cell_type": "code",
   "execution_count": null,
   "id": "4f94dddd",
   "metadata": {},
   "outputs": [],
   "source": [
    "df_noyear_y = df_noyear[df_noyear.description.str.contains(pattern)]\n",
    "df_noyear_n = df_noyear[~df_noyear.description.str.contains(pattern)]\n",
    "df_noyear.shape[0] == (df_noyear_y.shape[0] + df_noyear_n.shape[0])"
   ]
  },
  {
   "cell_type": "code",
   "execution_count": null,
   "id": "3ae34403",
   "metadata": {},
   "outputs": [],
   "source": [
    "df_noyear_y "
   ]
  },
  {
   "cell_type": "code",
   "execution_count": null,
   "id": "fa8ba6d8",
   "metadata": {},
   "outputs": [],
   "source": [
    "df_noyear_y.isnull().sum()"
   ]
  },
  {
   "cell_type": "code",
   "execution_count": null,
   "id": "9e7b3ef0",
   "metadata": {},
   "outputs": [],
   "source": [
    "df_dupes = df[df.duplicated(subset=['paint_color','state','year','odometer','model','manufacturer','image_url','posting_date','cylinders'])]\n",
    "df_dupes"
   ]
  },
  {
   "cell_type": "code",
   "execution_count": null,
   "id": "316142d3",
   "metadata": {},
   "outputs": [],
   "source": [
    "#def impute_year(edf, year):\n",
    "    #edf.year = edf.year.apply()\n",
    "'''\n",
    "for i, j in df_noyear_y.iterrows():\n",
    "    print(i)\n",
    "    #desc = df_noyear_y.iloc[i]['description']\n",
    "    #print(desc)\n",
    "\n",
    "    for yr in stringyears:\n",
    "        if yr in desc:\n",
    "            print(yr)\n",
    "    for brand in cars:\n",
    "        if brand in desc.upper():\n",
    "            print(brand)\n",
    "    for car in cars:\n",
    "        if car.upper() in desc.upper():\n",
    "            print(car)\n",
    "    print('\\n')\n",
    "''' \n",
    "\n",
    "df_noyear_y.iloc[78]\n",
    "#df_noyear_y.index\n",
    "            \n",
    "    \n",
    "#df_noyear_y['year'] = df_noyear_y['year'].apply()"
   ]
  },
  {
   "cell_type": "code",
   "execution_count": null,
   "id": "91cf71d8",
   "metadata": {},
   "outputs": [],
   "source": [
    "df_dupes2 = df[df.duplicated(subset=['paint_color','state','year','odometer','model','manufacturer','price'])]\n",
    "df_dupes"
   ]
  },
  {
   "cell_type": "code",
   "execution_count": null,
   "id": "089f1a87",
   "metadata": {},
   "outputs": [],
   "source": [
    "def impute_manufacturer(car_model):\n",
    "    df.model[df.model.str.upper().str.contains(car_model) & df.manufacturer.isnull()].unique()"
   ]
  },
  {
   "cell_type": "code",
   "execution_count": null,
   "id": "f9912464",
   "metadata": {},
   "outputs": [],
   "source": [
    "df['description'].value_counts()"
   ]
  },
  {
   "cell_type": "code",
   "execution_count": null,
   "id": "6ddff913",
   "metadata": {},
   "outputs": [],
   "source": [
    "for row in df_manu.iterrows():"
   ]
  },
  {
   "cell_type": "code",
   "execution_count": null,
   "id": "80be6fb3",
   "metadata": {},
   "outputs": [],
   "source": [
    "df = df[df['year'].notna()]\n",
    "df = df[df['model'].notna()]\n",
    "df = df[df['odometer'].notna()]"
   ]
  },
  {
   "cell_type": "code",
   "execution_count": null,
   "id": "e0d5cc21",
   "metadata": {},
   "outputs": [],
   "source": []
  }
 ],
 "metadata": {
  "kernelspec": {
   "display_name": "Python 3 (ipykernel)",
   "language": "python",
   "name": "python3"
  },
  "language_info": {
   "codemirror_mode": {
    "name": "ipython",
    "version": 3
   },
   "file_extension": ".py",
   "mimetype": "text/x-python",
   "name": "python",
   "nbconvert_exporter": "python",
   "pygments_lexer": "ipython3",
   "version": "3.11.7"
  }
 },
 "nbformat": 4,
 "nbformat_minor": 5
}
