{
 "cells": [
  {
   "cell_type": "code",
   "execution_count": 46,
   "id": "2aa5a538",
   "metadata": {},
   "outputs": [],
   "source": [
    "import pandas as pd\n",
    "import numpy as np"
   ]
  },
  {
   "cell_type": "code",
   "execution_count": 120,
   "id": "d9ac92f4",
   "metadata": {},
   "outputs": [],
   "source": [
    "df = pd.read_csv('merged_vins.csv', low_memory = False)"
   ]
  },
  {
   "cell_type": "code",
   "execution_count": 121,
   "id": "0c9d147d",
   "metadata": {},
   "outputs": [
    {
     "data": {
      "text/plain": [
       "['ABS',\n",
       " 'ActiveSafetySysNote',\n",
       " 'AdaptiveCruiseControl',\n",
       " 'AdaptiveDrivingBeam',\n",
       " 'AirBagLocCurtain',\n",
       " 'AirBagLocFront',\n",
       " 'AirBagLocKnee',\n",
       " 'AirBagLocSeatCushion',\n",
       " 'AirBagLocSide',\n",
       " 'AutoReverseSystem',\n",
       " 'Axles',\n",
       " 'BasePrice',\n",
       " 'BedType',\n",
       " 'BlindSpotMon',\n",
       " 'BodyCabType',\n",
       " 'BodyClass',\n",
       " 'BrakeSystemType',\n",
       " 'BusFloorConfigType',\n",
       " 'BusType',\n",
       " 'CAN_AACN',\n",
       " 'CIB',\n",
       " 'CoolingType',\n",
       " 'CustomMotorcycleType',\n",
       " 'DaytimeRunningLight',\n",
       " 'DestinationMarket',\n",
       " 'DisplacementCC',\n",
       " 'DisplacementCI',\n",
       " 'DisplacementL',\n",
       " 'Doors',\n",
       " 'DriveType',\n",
       " 'DynamicBrakeSupport',\n",
       " 'ESC',\n",
       " 'ElectrificationLevel',\n",
       " 'EngineConfiguration',\n",
       " 'EngineCycles',\n",
       " 'EngineCylinders',\n",
       " 'EngineHP',\n",
       " 'EngineHP_to',\n",
       " 'EngineManufacturer',\n",
       " 'EngineModel',\n",
       " 'ErrorCode',\n",
       " 'ErrorText',\n",
       " 'ForwardCollisionWarning',\n",
       " 'FuelInjectionType',\n",
       " 'FuelTypePrimary',\n",
       " 'FuelTypeSecondary',\n",
       " 'GVWR',\n",
       " 'GVWR_to',\n",
       " 'KeylessIgnition',\n",
       " 'LaneDepartureWarning',\n",
       " 'LaneKeepSystem',\n",
       " 'LowerBeamHeadlampLightSource',\n",
       " 'Make',\n",
       " 'MakeID',\n",
       " 'Manufacturer',\n",
       " 'ManufacturerId',\n",
       " 'Model',\n",
       " 'ModelID',\n",
       " 'ModelYear',\n",
       " 'MotorcycleChassisType',\n",
       " 'MotorcycleSuspensionType',\n",
       " 'Note',\n",
       " 'OtherEngineInfo',\n",
       " 'OtherRestraintSystemInfo',\n",
       " 'ParkAssist',\n",
       " 'PedestrianAutomaticEmergencyBraking',\n",
       " 'PlantCity',\n",
       " 'PlantCompanyName',\n",
       " 'PlantCountry',\n",
       " 'PlantState',\n",
       " 'Pretensioner',\n",
       " 'RearCrossTrafficAlert',\n",
       " 'RearVisibilitySystem',\n",
       " 'SeatBeltsAll',\n",
       " 'SeatRows',\n",
       " 'Seats',\n",
       " 'SemiautomaticHeadlampBeamSwitching',\n",
       " 'Series',\n",
       " 'Series2',\n",
       " 'SteeringLocation',\n",
       " 'TPMS',\n",
       " 'TopSpeedMPH',\n",
       " 'TractionControl',\n",
       " 'TrailerBodyType',\n",
       " 'TrailerType',\n",
       " 'TransmissionSpeeds',\n",
       " 'TransmissionStyle',\n",
       " 'Trim',\n",
       " 'Trim2',\n",
       " 'Turbo',\n",
       " 'VIN',\n",
       " 'ValveTrainDesign',\n",
       " 'VehicleDescriptor',\n",
       " 'VehicleType',\n",
       " 'WheelBaseShort',\n",
       " 'WheelBaseType',\n",
       " 'WheelSizeFront',\n",
       " 'WheelSizeRear',\n",
       " 'Wheels',\n",
       " 'Windows',\n",
       " 'id',\n",
       " 'url',\n",
       " 'region',\n",
       " 'region_url',\n",
       " 'price',\n",
       " 'year',\n",
       " 'manufacturer',\n",
       " 'model',\n",
       " 'condition',\n",
       " 'cylinders',\n",
       " 'fuel',\n",
       " 'odometer',\n",
       " 'title_status',\n",
       " 'transmission',\n",
       " 'drive',\n",
       " 'size',\n",
       " 'type',\n",
       " 'paint_color',\n",
       " 'image_url',\n",
       " 'description',\n",
       " 'county',\n",
       " 'state',\n",
       " 'lat',\n",
       " 'long',\n",
       " 'posting_date']"
      ]
     },
     "execution_count": 121,
     "metadata": {},
     "output_type": "execute_result"
    }
   ],
   "source": [
    "df.columns.to_list()"
   ]
  },
  {
   "cell_type": "code",
   "execution_count": 122,
   "id": "452c1de2",
   "metadata": {},
   "outputs": [
    {
     "data": {
      "text/plain": [
       "(93031, 125)"
      ]
     },
     "execution_count": 122,
     "metadata": {},
     "output_type": "execute_result"
    }
   ],
   "source": [
    "df.shape"
   ]
  },
  {
   "cell_type": "code",
   "execution_count": null,
   "id": "e760a8ac",
   "metadata": {},
   "outputs": [],
   "source": []
  },
  {
   "cell_type": "code",
   "execution_count": 125,
   "id": "74e447f6",
   "metadata": {},
   "outputs": [
    {
     "data": {
      "text/plain": [
       "['SLT', 'Fleet/Base', 'SLE', 'Denali', 'Work Truck/Fleet/Base']"
      ]
     },
     "execution_count": 125,
     "metadata": {},
     "output_type": "execute_result"
    }
   ],
   "source": [
    "df[(df.ModelYear == 2014.0) & (df.Make == 'GMC') & (df.Model == 'Sierra')]['Trim'].unique().tolist()#[['Series', 'Trim']]\n",
    "#df.iloc[1].Model"
   ]
  },
  {
   "cell_type": "code",
   "execution_count": null,
   "id": "62db1b8e",
   "metadata": {},
   "outputs": [],
   "source": []
  },
  {
   "cell_type": "code",
   "execution_count": 69,
   "id": "d9fac8c7",
   "metadata": {},
   "outputs": [
    {
     "data": {
      "text/plain": [
       "pandas.core.frame.DataFrame"
      ]
     },
     "execution_count": 69,
     "metadata": {},
     "output_type": "execute_result"
    }
   ],
   "source": [
    "df2 = pd.read_csv('uniq5.csv')\n",
    "df2.head()"
   ]
  },
  {
   "cell_type": "code",
   "execution_count": 129,
   "id": "2a6ab854",
   "metadata": {},
   "outputs": [],
   "source": [
    "#print(df.Series[(df.Make == df3.iloc[0].Make) & (df.Model == df3.iloc[0].Model)].unique())\n",
    "\n",
    "#series_list = {}\n",
    "#trim_list = {}\n",
    "\n",
    "df2['Series'] = ''\n",
    "df2['Trim'] = ''\n",
    "\n",
    "    #print('x')\n",
    "for i in df2.index.to_list():\n",
    "    srs = df.Series[(df.ModelYear == df2.iloc[i].ModelYear) & (df.Make == df2.iloc[i].Make) & (df.Model == df2.iloc[i].Model)].unique().tolist()\n",
    "    trms = df.Trim[(df.ModelYear == df2.iloc[i].ModelYear) & (df.Make == df2.iloc[i].Make) & (df.Model == df2.iloc[i].Model)].unique().tolist()\n",
    "    #print(srs)\n",
    "    df2.at[i, 'Series'] = srs\n",
    "    df2.at[i, 'Trim'] = trms\n",
    "    #df3.iloc[i]['Trim'] = df.Trim[(df.ModelYear == df3.iloc[i].ModelYear) & (df.Make == df3.iloc[i].Make) & (df.Model == df3.iloc[i].Model)].unique()\n"
   ]
  },
  {
   "cell_type": "code",
   "execution_count": 93,
   "id": "62af241b",
   "metadata": {},
   "outputs": [],
   "source": [
    "df3 = df3.drop(columns=['Series','Trim'])"
   ]
  },
  {
   "cell_type": "code",
   "execution_count": 130,
   "id": "9adad314",
   "metadata": {},
   "outputs": [
    {
     "data": {
      "text/html": [
       "<div>\n",
       "<style scoped>\n",
       "    .dataframe tbody tr th:only-of-type {\n",
       "        vertical-align: middle;\n",
       "    }\n",
       "\n",
       "    .dataframe tbody tr th {\n",
       "        vertical-align: top;\n",
       "    }\n",
       "\n",
       "    .dataframe thead th {\n",
       "        text-align: right;\n",
       "    }\n",
       "</style>\n",
       "<table border=\"1\" class=\"dataframe\">\n",
       "  <thead>\n",
       "    <tr style=\"text-align: right;\">\n",
       "      <th></th>\n",
       "      <th>Make</th>\n",
       "      <th>Model</th>\n",
       "      <th>ModelYear</th>\n",
       "      <th>Series</th>\n",
       "      <th>Trim</th>\n",
       "    </tr>\n",
       "  </thead>\n",
       "  <tbody>\n",
       "    <tr>\n",
       "      <th>0</th>\n",
       "      <td>GMC</td>\n",
       "      <td>Sierra</td>\n",
       "      <td>2014</td>\n",
       "      <td>[1500, 3500 HD, 2500 HD]</td>\n",
       "      <td>[SLT, Fleet/Base, SLE, Denali, Work Truck/Flee...</td>\n",
       "    </tr>\n",
       "    <tr>\n",
       "      <th>1</th>\n",
       "      <td>CHEVROLET</td>\n",
       "      <td>Silverado</td>\n",
       "      <td>2010</td>\n",
       "      <td>[1/2 Ton, 3/4 ton]</td>\n",
       "      <td>[LT, LTZ, Work Truck/Fleet/Base, LS]</td>\n",
       "    </tr>\n",
       "    <tr>\n",
       "      <th>2</th>\n",
       "      <td>CHEVROLET</td>\n",
       "      <td>Silverado</td>\n",
       "      <td>2020</td>\n",
       "      <td>[1500, 2500, 3500]</td>\n",
       "      <td>[LT, Work Truck, Trail Boss Custom, Custom, Tr...</td>\n",
       "    </tr>\n",
       "    <tr>\n",
       "      <th>3</th>\n",
       "      <td>TOYOTA</td>\n",
       "      <td>Tundra</td>\n",
       "      <td>2017</td>\n",
       "      <td>[UPK51L/USK51L/USK52L/UPK56L/USK56L/USK57L]</td>\n",
       "      <td>[SR/SR5, TRD Pro, Limited, SR5, SR5/TRD Pro, P...</td>\n",
       "    </tr>\n",
       "    <tr>\n",
       "      <th>4</th>\n",
       "      <td>GMC</td>\n",
       "      <td>Sierra</td>\n",
       "      <td>2012</td>\n",
       "      <td>[2500, 1500, 3500]</td>\n",
       "      <td>[SLE, Denali, SL, SLT, Work Truck/Fleet/Base]</td>\n",
       "    </tr>\n",
       "    <tr>\n",
       "      <th>...</th>\n",
       "      <td>...</td>\n",
       "      <td>...</td>\n",
       "      <td>...</td>\n",
       "      <td>...</td>\n",
       "      <td>...</td>\n",
       "    </tr>\n",
       "    <tr>\n",
       "      <th>95</th>\n",
       "      <td>NISSAN</td>\n",
       "      <td>Kicks</td>\n",
       "      <td>2020</td>\n",
       "      <td>[nan]</td>\n",
       "      <td>[nan]</td>\n",
       "    </tr>\n",
       "    <tr>\n",
       "      <th>96</th>\n",
       "      <td>CHEVROLET</td>\n",
       "      <td>Corvette</td>\n",
       "      <td>2010</td>\n",
       "      <td>[nan]</td>\n",
       "      <td>[Premium - 3LT, Grand Sport - 3LT, Preferred -...</td>\n",
       "    </tr>\n",
       "    <tr>\n",
       "      <th>97</th>\n",
       "      <td>KIA</td>\n",
       "      <td>Sorento</td>\n",
       "      <td>2017</td>\n",
       "      <td>[EX, L, LX, SX, SX Limited]</td>\n",
       "      <td>[nan]</td>\n",
       "    </tr>\n",
       "    <tr>\n",
       "      <th>98</th>\n",
       "      <td>NISSAN</td>\n",
       "      <td>Pathfinder</td>\n",
       "      <td>2007</td>\n",
       "      <td>[nan]</td>\n",
       "      <td>[nan]</td>\n",
       "    </tr>\n",
       "    <tr>\n",
       "      <th>99</th>\n",
       "      <td>PORSCHE</td>\n",
       "      <td>Cayman</td>\n",
       "      <td>2008</td>\n",
       "      <td>[nan]</td>\n",
       "      <td>[nan, S]</td>\n",
       "    </tr>\n",
       "  </tbody>\n",
       "</table>\n",
       "<p>100 rows × 5 columns</p>\n",
       "</div>"
      ],
      "text/plain": [
       "         Make       Model  ModelYear  \\\n",
       "0         GMC      Sierra       2014   \n",
       "1   CHEVROLET   Silverado       2010   \n",
       "2   CHEVROLET   Silverado       2020   \n",
       "3      TOYOTA      Tundra       2017   \n",
       "4         GMC      Sierra       2012   \n",
       "..        ...         ...        ...   \n",
       "95     NISSAN       Kicks       2020   \n",
       "96  CHEVROLET    Corvette       2010   \n",
       "97        KIA     Sorento       2017   \n",
       "98     NISSAN  Pathfinder       2007   \n",
       "99    PORSCHE      Cayman       2008   \n",
       "\n",
       "                                         Series  \\\n",
       "0                      [1500, 3500 HD, 2500 HD]   \n",
       "1                            [1/2 Ton, 3/4 ton]   \n",
       "2                            [1500, 2500, 3500]   \n",
       "3   [UPK51L/USK51L/USK52L/UPK56L/USK56L/USK57L]   \n",
       "4                            [2500, 1500, 3500]   \n",
       "..                                          ...   \n",
       "95                                        [nan]   \n",
       "96                                        [nan]   \n",
       "97                  [EX, L, LX, SX, SX Limited]   \n",
       "98                                        [nan]   \n",
       "99                                        [nan]   \n",
       "\n",
       "                                                 Trim  \n",
       "0   [SLT, Fleet/Base, SLE, Denali, Work Truck/Flee...  \n",
       "1                [LT, LTZ, Work Truck/Fleet/Base, LS]  \n",
       "2   [LT, Work Truck, Trail Boss Custom, Custom, Tr...  \n",
       "3   [SR/SR5, TRD Pro, Limited, SR5, SR5/TRD Pro, P...  \n",
       "4       [SLE, Denali, SL, SLT, Work Truck/Fleet/Base]  \n",
       "..                                                ...  \n",
       "95                                              [nan]  \n",
       "96  [Premium - 3LT, Grand Sport - 3LT, Preferred -...  \n",
       "97                                              [nan]  \n",
       "98                                              [nan]  \n",
       "99                                           [nan, S]  \n",
       "\n",
       "[100 rows x 5 columns]"
      ]
     },
     "execution_count": 130,
     "metadata": {},
     "output_type": "execute_result"
    }
   ],
   "source": [
    "df2.head(100)"
   ]
  },
  {
   "cell_type": "code",
   "execution_count": 131,
   "id": "b3e8eee7",
   "metadata": {},
   "outputs": [
    {
     "data": {
      "text/plain": [
       "(5402, 5)"
      ]
     },
     "execution_count": 131,
     "metadata": {},
     "output_type": "execute_result"
    }
   ],
   "source": [
    "df2.shape"
   ]
  },
  {
   "cell_type": "code",
   "execution_count": null,
   "id": "f2a4db06",
   "metadata": {},
   "outputs": [],
   "source": [
    "'''\n",
    "for each in df.itertuples():\n",
    "    if df2[(df.Make == each.Make) & (df.Model == each.Model) & (each.Series.isnotnull())].Series.isnotnull():\n",
    "        each['TrimSeries'] = 'Series ' + df\n",
    "    if df[(df.Make == each.Make) & (df.Model == each.Model)].Trim2.isnotnull():\n",
    "    \n",
    "    if df[(df.Make == each.Make) & (df.Model == each.Model)].Series.isnotnull()\n",
    "    \n",
    "    if df[(df.Make == each.Make) & (df.Model == each.Model)].Series2.isnotnull()\n",
    "'''    "
   ]
  },
  {
   "cell_type": "code",
   "execution_count": 132,
   "id": "c993c0d4",
   "metadata": {},
   "outputs": [],
   "source": [
    "df2.to_csv('uniq6.csv', index=False)"
   ]
  },
  {
   "cell_type": "code",
   "execution_count": null,
   "id": "524fb81a",
   "metadata": {},
   "outputs": [],
   "source": []
  }
 ],
 "metadata": {
  "kernelspec": {
   "display_name": "Python 3 (ipykernel)",
   "language": "python",
   "name": "python3"
  },
  "language_info": {
   "codemirror_mode": {
    "name": "ipython",
    "version": 3
   },
   "file_extension": ".py",
   "mimetype": "text/x-python",
   "name": "python",
   "nbconvert_exporter": "python",
   "pygments_lexer": "ipython3",
   "version": "3.11.7"
  }
 },
 "nbformat": 4,
 "nbformat_minor": 5
}
